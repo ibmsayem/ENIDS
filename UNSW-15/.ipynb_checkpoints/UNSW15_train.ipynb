{
 "cells": [
  {
   "cell_type": "code",
   "execution_count": 1,
   "id": "1d0ee355",
   "metadata": {
    "id": "1d0ee355"
   },
   "outputs": [],
   "source": [
    "import numpy as np\n",
    "import pandas as pd\n",
    "import csv\n",
    "import glob\n",
    "import matplotlib.pyplot as plt\n",
    "import seaborn as sns\n",
    "from sklearn.preprocessing import OneHotEncoder\n",
    "from sklearn.preprocessing import LabelEncoder\n",
    "from sklearn.preprocessing import MinMaxScaler\n",
    "from collections import Counter\n",
    "from sklearn.model_selection import train_test_split\n",
    "from tensorflow.keras.utils import to_categorical"
   ]
  },
  {
   "cell_type": "code",
   "execution_count": 2,
   "id": "b74fa926",
   "metadata": {
    "colab": {
     "base_uri": "https://localhost:8080/",
     "height": 73,
     "resources": {
      "http://localhost:8080/nbextensions/google.colab/files.js": {
       "data": "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",
       "headers": [
        [
         "content-type",
         "application/javascript"
        ]
       ],
       "ok": true,
       "status": 200,
       "status_text": ""
      }
     }
    },
    "executionInfo": {
     "elapsed": 81937,
     "status": "ok",
     "timestamp": 1652360965701,
     "user": {
      "displayName": "IBRAHIM SAYEM",
      "userId": "04342073124846378643"
     },
     "user_tz": 240
    },
    "id": "b74fa926",
    "outputId": "353ecb3d-7623-4052-c17f-1d518f79107e"
   },
   "outputs": [
    {
     "data": {
      "text/html": [
       "<div>\n",
       "<style scoped>\n",
       "    .dataframe tbody tr th:only-of-type {\n",
       "        vertical-align: middle;\n",
       "    }\n",
       "\n",
       "    .dataframe tbody tr th {\n",
       "        vertical-align: top;\n",
       "    }\n",
       "\n",
       "    .dataframe thead th {\n",
       "        text-align: right;\n",
       "    }\n",
       "</style>\n",
       "<table border=\"1\" class=\"dataframe\">\n",
       "  <thead>\n",
       "    <tr style=\"text-align: right;\">\n",
       "      <th></th>\n",
       "      <th>dur</th>\n",
       "      <th>proto</th>\n",
       "      <th>service</th>\n",
       "      <th>sbytes</th>\n",
       "      <th>dbytes</th>\n",
       "      <th>rate</th>\n",
       "      <th>sttl</th>\n",
       "      <th>dttl</th>\n",
       "      <th>sload</th>\n",
       "      <th>dload</th>\n",
       "      <th>...</th>\n",
       "      <th>ct_srv_src</th>\n",
       "      <th>ct_state_ttl</th>\n",
       "      <th>ct_dst_ltm</th>\n",
       "      <th>ct_src_dport_ltm</th>\n",
       "      <th>ct_dst_sport_ltm</th>\n",
       "      <th>ct_dst_src_ltm</th>\n",
       "      <th>ct_src_ltm</th>\n",
       "      <th>ct_srv_dst</th>\n",
       "      <th>is_sm_ips_ports</th>\n",
       "      <th>attack_cat</th>\n",
       "    </tr>\n",
       "  </thead>\n",
       "  <tbody>\n",
       "    <tr>\n",
       "      <th>0</th>\n",
       "      <td>0.121478</td>\n",
       "      <td>tcp</td>\n",
       "      <td>-</td>\n",
       "      <td>258</td>\n",
       "      <td>172</td>\n",
       "      <td>74.087490</td>\n",
       "      <td>252</td>\n",
       "      <td>254</td>\n",
       "      <td>1.415894e+04</td>\n",
       "      <td>8495.365234</td>\n",
       "      <td>...</td>\n",
       "      <td>1</td>\n",
       "      <td>0</td>\n",
       "      <td>1</td>\n",
       "      <td>1</td>\n",
       "      <td>1</td>\n",
       "      <td>1</td>\n",
       "      <td>1</td>\n",
       "      <td>1</td>\n",
       "      <td>0</td>\n",
       "      <td>Normal</td>\n",
       "    </tr>\n",
       "    <tr>\n",
       "      <th>1</th>\n",
       "      <td>0.649902</td>\n",
       "      <td>tcp</td>\n",
       "      <td>-</td>\n",
       "      <td>734</td>\n",
       "      <td>42014</td>\n",
       "      <td>78.473372</td>\n",
       "      <td>62</td>\n",
       "      <td>252</td>\n",
       "      <td>8.395112e+03</td>\n",
       "      <td>503571.312500</td>\n",
       "      <td>...</td>\n",
       "      <td>43</td>\n",
       "      <td>1</td>\n",
       "      <td>1</td>\n",
       "      <td>1</td>\n",
       "      <td>1</td>\n",
       "      <td>2</td>\n",
       "      <td>1</td>\n",
       "      <td>6</td>\n",
       "      <td>0</td>\n",
       "      <td>Normal</td>\n",
       "    </tr>\n",
       "    <tr>\n",
       "      <th>2</th>\n",
       "      <td>1.623129</td>\n",
       "      <td>tcp</td>\n",
       "      <td>-</td>\n",
       "      <td>364</td>\n",
       "      <td>13186</td>\n",
       "      <td>14.170161</td>\n",
       "      <td>62</td>\n",
       "      <td>252</td>\n",
       "      <td>1.572272e+03</td>\n",
       "      <td>60929.230470</td>\n",
       "      <td>...</td>\n",
       "      <td>7</td>\n",
       "      <td>1</td>\n",
       "      <td>2</td>\n",
       "      <td>1</td>\n",
       "      <td>1</td>\n",
       "      <td>3</td>\n",
       "      <td>2</td>\n",
       "      <td>6</td>\n",
       "      <td>0</td>\n",
       "      <td>Normal</td>\n",
       "    </tr>\n",
       "    <tr>\n",
       "      <th>3</th>\n",
       "      <td>1.681642</td>\n",
       "      <td>tcp</td>\n",
       "      <td>ftp</td>\n",
       "      <td>628</td>\n",
       "      <td>770</td>\n",
       "      <td>13.677108</td>\n",
       "      <td>62</td>\n",
       "      <td>252</td>\n",
       "      <td>2.740179e+03</td>\n",
       "      <td>3358.622070</td>\n",
       "      <td>...</td>\n",
       "      <td>1</td>\n",
       "      <td>1</td>\n",
       "      <td>2</td>\n",
       "      <td>1</td>\n",
       "      <td>1</td>\n",
       "      <td>3</td>\n",
       "      <td>2</td>\n",
       "      <td>1</td>\n",
       "      <td>0</td>\n",
       "      <td>Normal</td>\n",
       "    </tr>\n",
       "    <tr>\n",
       "      <th>4</th>\n",
       "      <td>0.449454</td>\n",
       "      <td>tcp</td>\n",
       "      <td>-</td>\n",
       "      <td>534</td>\n",
       "      <td>268</td>\n",
       "      <td>33.373826</td>\n",
       "      <td>254</td>\n",
       "      <td>252</td>\n",
       "      <td>8.561499e+03</td>\n",
       "      <td>3987.059814</td>\n",
       "      <td>...</td>\n",
       "      <td>43</td>\n",
       "      <td>1</td>\n",
       "      <td>2</td>\n",
       "      <td>2</td>\n",
       "      <td>1</td>\n",
       "      <td>40</td>\n",
       "      <td>2</td>\n",
       "      <td>39</td>\n",
       "      <td>0</td>\n",
       "      <td>Normal</td>\n",
       "    </tr>\n",
       "    <tr>\n",
       "      <th>...</th>\n",
       "      <td>...</td>\n",
       "      <td>...</td>\n",
       "      <td>...</td>\n",
       "      <td>...</td>\n",
       "      <td>...</td>\n",
       "      <td>...</td>\n",
       "      <td>...</td>\n",
       "      <td>...</td>\n",
       "      <td>...</td>\n",
       "      <td>...</td>\n",
       "      <td>...</td>\n",
       "      <td>...</td>\n",
       "      <td>...</td>\n",
       "      <td>...</td>\n",
       "      <td>...</td>\n",
       "      <td>...</td>\n",
       "      <td>...</td>\n",
       "      <td>...</td>\n",
       "      <td>...</td>\n",
       "      <td>...</td>\n",
       "      <td>...</td>\n",
       "    </tr>\n",
       "    <tr>\n",
       "      <th>257668</th>\n",
       "      <td>0.000005</td>\n",
       "      <td>udp</td>\n",
       "      <td>-</td>\n",
       "      <td>104</td>\n",
       "      <td>0</td>\n",
       "      <td>200000.005100</td>\n",
       "      <td>254</td>\n",
       "      <td>0</td>\n",
       "      <td>8.320000e+07</td>\n",
       "      <td>0.000000</td>\n",
       "      <td>...</td>\n",
       "      <td>1</td>\n",
       "      <td>2</td>\n",
       "      <td>2</td>\n",
       "      <td>1</td>\n",
       "      <td>1</td>\n",
       "      <td>2</td>\n",
       "      <td>2</td>\n",
       "      <td>1</td>\n",
       "      <td>0</td>\n",
       "      <td>Normal</td>\n",
       "    </tr>\n",
       "    <tr>\n",
       "      <th>257669</th>\n",
       "      <td>1.106101</td>\n",
       "      <td>tcp</td>\n",
       "      <td>-</td>\n",
       "      <td>18062</td>\n",
       "      <td>354</td>\n",
       "      <td>24.410067</td>\n",
       "      <td>254</td>\n",
       "      <td>252</td>\n",
       "      <td>1.241044e+05</td>\n",
       "      <td>2242.109863</td>\n",
       "      <td>...</td>\n",
       "      <td>1</td>\n",
       "      <td>1</td>\n",
       "      <td>2</td>\n",
       "      <td>1</td>\n",
       "      <td>1</td>\n",
       "      <td>1</td>\n",
       "      <td>3</td>\n",
       "      <td>2</td>\n",
       "      <td>0</td>\n",
       "      <td>Normal</td>\n",
       "    </tr>\n",
       "    <tr>\n",
       "      <th>257670</th>\n",
       "      <td>0.000000</td>\n",
       "      <td>arp</td>\n",
       "      <td>-</td>\n",
       "      <td>46</td>\n",
       "      <td>0</td>\n",
       "      <td>0.000000</td>\n",
       "      <td>0</td>\n",
       "      <td>0</td>\n",
       "      <td>0.000000e+00</td>\n",
       "      <td>0.000000</td>\n",
       "      <td>...</td>\n",
       "      <td>1</td>\n",
       "      <td>2</td>\n",
       "      <td>1</td>\n",
       "      <td>1</td>\n",
       "      <td>1</td>\n",
       "      <td>1</td>\n",
       "      <td>1</td>\n",
       "      <td>1</td>\n",
       "      <td>1</td>\n",
       "      <td>Normal</td>\n",
       "    </tr>\n",
       "    <tr>\n",
       "      <th>257671</th>\n",
       "      <td>0.000000</td>\n",
       "      <td>arp</td>\n",
       "      <td>-</td>\n",
       "      <td>46</td>\n",
       "      <td>0</td>\n",
       "      <td>0.000000</td>\n",
       "      <td>0</td>\n",
       "      <td>0</td>\n",
       "      <td>0.000000e+00</td>\n",
       "      <td>0.000000</td>\n",
       "      <td>...</td>\n",
       "      <td>1</td>\n",
       "      <td>2</td>\n",
       "      <td>1</td>\n",
       "      <td>1</td>\n",
       "      <td>1</td>\n",
       "      <td>1</td>\n",
       "      <td>1</td>\n",
       "      <td>1</td>\n",
       "      <td>1</td>\n",
       "      <td>Normal</td>\n",
       "    </tr>\n",
       "    <tr>\n",
       "      <th>257672</th>\n",
       "      <td>0.000009</td>\n",
       "      <td>udp</td>\n",
       "      <td>-</td>\n",
       "      <td>104</td>\n",
       "      <td>0</td>\n",
       "      <td>111111.107200</td>\n",
       "      <td>254</td>\n",
       "      <td>0</td>\n",
       "      <td>4.622222e+07</td>\n",
       "      <td>0.000000</td>\n",
       "      <td>...</td>\n",
       "      <td>1</td>\n",
       "      <td>2</td>\n",
       "      <td>1</td>\n",
       "      <td>1</td>\n",
       "      <td>1</td>\n",
       "      <td>1</td>\n",
       "      <td>1</td>\n",
       "      <td>1</td>\n",
       "      <td>0</td>\n",
       "      <td>Normal</td>\n",
       "    </tr>\n",
       "  </tbody>\n",
       "</table>\n",
       "<p>257673 rows × 27 columns</p>\n",
       "</div>"
      ],
      "text/plain": [
       "             dur proto service  sbytes  dbytes           rate  sttl  dttl  \\\n",
       "0       0.121478   tcp       -     258     172      74.087490   252   254   \n",
       "1       0.649902   tcp       -     734   42014      78.473372    62   252   \n",
       "2       1.623129   tcp       -     364   13186      14.170161    62   252   \n",
       "3       1.681642   tcp     ftp     628     770      13.677108    62   252   \n",
       "4       0.449454   tcp       -     534     268      33.373826   254   252   \n",
       "...          ...   ...     ...     ...     ...            ...   ...   ...   \n",
       "257668  0.000005   udp       -     104       0  200000.005100   254     0   \n",
       "257669  1.106101   tcp       -   18062     354      24.410067   254   252   \n",
       "257670  0.000000   arp       -      46       0       0.000000     0     0   \n",
       "257671  0.000000   arp       -      46       0       0.000000     0     0   \n",
       "257672  0.000009   udp       -     104       0  111111.107200   254     0   \n",
       "\n",
       "               sload          dload  ...  ct_srv_src  ct_state_ttl  \\\n",
       "0       1.415894e+04    8495.365234  ...           1             0   \n",
       "1       8.395112e+03  503571.312500  ...          43             1   \n",
       "2       1.572272e+03   60929.230470  ...           7             1   \n",
       "3       2.740179e+03    3358.622070  ...           1             1   \n",
       "4       8.561499e+03    3987.059814  ...          43             1   \n",
       "...              ...            ...  ...         ...           ...   \n",
       "257668  8.320000e+07       0.000000  ...           1             2   \n",
       "257669  1.241044e+05    2242.109863  ...           1             1   \n",
       "257670  0.000000e+00       0.000000  ...           1             2   \n",
       "257671  0.000000e+00       0.000000  ...           1             2   \n",
       "257672  4.622222e+07       0.000000  ...           1             2   \n",
       "\n",
       "        ct_dst_ltm  ct_src_dport_ltm  ct_dst_sport_ltm  ct_dst_src_ltm  \\\n",
       "0                1                 1                 1               1   \n",
       "1                1                 1                 1               2   \n",
       "2                2                 1                 1               3   \n",
       "3                2                 1                 1               3   \n",
       "4                2                 2                 1              40   \n",
       "...            ...               ...               ...             ...   \n",
       "257668           2                 1                 1               2   \n",
       "257669           2                 1                 1               1   \n",
       "257670           1                 1                 1               1   \n",
       "257671           1                 1                 1               1   \n",
       "257672           1                 1                 1               1   \n",
       "\n",
       "        ct_src_ltm  ct_srv_dst  is_sm_ips_ports  attack_cat  \n",
       "0                1           1                0      Normal  \n",
       "1                1           6                0      Normal  \n",
       "2                2           6                0      Normal  \n",
       "3                2           1                0      Normal  \n",
       "4                2          39                0      Normal  \n",
       "...            ...         ...              ...         ...  \n",
       "257668           2           1                0      Normal  \n",
       "257669           3           2                0      Normal  \n",
       "257670           1           1                1      Normal  \n",
       "257671           1           1                1      Normal  \n",
       "257672           1           1                0      Normal  \n",
       "\n",
       "[257673 rows x 27 columns]"
      ]
     },
     "execution_count": 2,
     "metadata": {},
     "output_type": "execute_result"
    }
   ],
   "source": [
    "path = r'C:\\Users\\ibmcs\\Downloads\\UNSW-NB15'\n",
    "all_files = glob.glob(path + \"/*.csv\")\n",
    "li = []\n",
    "for filename in all_files:\n",
    "    df = pd.read_csv(filename, index_col=None, header=0, encoding='utf-8', low_memory=False)\n",
    "    li.append(df)\n",
    "\n",
    "df = pd.concat(li, axis=0, ignore_index=True)\n",
    "# df['padding1'] = 0\n",
    "# df['padding2'] = 0\n",
    "# df['padding3'] = 0\n",
    "# df['padding4'] = 0\n",
    "df"
   ]
  },
  {
   "cell_type": "code",
   "execution_count": 3,
   "id": "HjSiXbkXS7Hi",
   "metadata": {
    "colab": {
     "base_uri": "https://localhost:8080/",
     "height": 488
    },
    "executionInfo": {
     "elapsed": 223,
     "status": "ok",
     "timestamp": 1652360975262,
     "user": {
      "displayName": "IBRAHIM SAYEM",
      "userId": "04342073124846378643"
     },
     "user_tz": 240
    },
    "id": "HjSiXbkXS7Hi",
    "outputId": "b4797c4a-a7b5-45c5-e473-f04ba2a1fcb8"
   },
   "outputs": [
    {
     "data": {
      "text/html": [
       "<div>\n",
       "<style scoped>\n",
       "    .dataframe tbody tr th:only-of-type {\n",
       "        vertical-align: middle;\n",
       "    }\n",
       "\n",
       "    .dataframe tbody tr th {\n",
       "        vertical-align: top;\n",
       "    }\n",
       "\n",
       "    .dataframe thead th {\n",
       "        text-align: right;\n",
       "    }\n",
       "</style>\n",
       "<table border=\"1\" class=\"dataframe\">\n",
       "  <thead>\n",
       "    <tr style=\"text-align: right;\">\n",
       "      <th></th>\n",
       "      <th>dur</th>\n",
       "      <th>proto</th>\n",
       "      <th>service</th>\n",
       "      <th>sbytes</th>\n",
       "      <th>dbytes</th>\n",
       "      <th>rate</th>\n",
       "      <th>sttl</th>\n",
       "      <th>dttl</th>\n",
       "      <th>sload</th>\n",
       "      <th>dload</th>\n",
       "      <th>...</th>\n",
       "      <th>ct_srv_src</th>\n",
       "      <th>ct_state_ttl</th>\n",
       "      <th>ct_dst_ltm</th>\n",
       "      <th>ct_src_dport_ltm</th>\n",
       "      <th>ct_dst_sport_ltm</th>\n",
       "      <th>ct_dst_src_ltm</th>\n",
       "      <th>ct_src_ltm</th>\n",
       "      <th>ct_srv_dst</th>\n",
       "      <th>is_sm_ips_ports</th>\n",
       "      <th>attack_cat</th>\n",
       "    </tr>\n",
       "  </thead>\n",
       "  <tbody>\n",
       "    <tr>\n",
       "      <th>0</th>\n",
       "      <td>0.121478</td>\n",
       "      <td>tcp</td>\n",
       "      <td>-</td>\n",
       "      <td>258</td>\n",
       "      <td>172</td>\n",
       "      <td>74.087490</td>\n",
       "      <td>252</td>\n",
       "      <td>254</td>\n",
       "      <td>1.415894e+04</td>\n",
       "      <td>8495.365234</td>\n",
       "      <td>...</td>\n",
       "      <td>1</td>\n",
       "      <td>0</td>\n",
       "      <td>1</td>\n",
       "      <td>1</td>\n",
       "      <td>1</td>\n",
       "      <td>1</td>\n",
       "      <td>1</td>\n",
       "      <td>1</td>\n",
       "      <td>0</td>\n",
       "      <td>Normal</td>\n",
       "    </tr>\n",
       "    <tr>\n",
       "      <th>1</th>\n",
       "      <td>0.649902</td>\n",
       "      <td>tcp</td>\n",
       "      <td>-</td>\n",
       "      <td>734</td>\n",
       "      <td>42014</td>\n",
       "      <td>78.473372</td>\n",
       "      <td>62</td>\n",
       "      <td>252</td>\n",
       "      <td>8.395112e+03</td>\n",
       "      <td>503571.312500</td>\n",
       "      <td>...</td>\n",
       "      <td>43</td>\n",
       "      <td>1</td>\n",
       "      <td>1</td>\n",
       "      <td>1</td>\n",
       "      <td>1</td>\n",
       "      <td>2</td>\n",
       "      <td>1</td>\n",
       "      <td>6</td>\n",
       "      <td>0</td>\n",
       "      <td>Normal</td>\n",
       "    </tr>\n",
       "    <tr>\n",
       "      <th>2</th>\n",
       "      <td>1.623129</td>\n",
       "      <td>tcp</td>\n",
       "      <td>-</td>\n",
       "      <td>364</td>\n",
       "      <td>13186</td>\n",
       "      <td>14.170161</td>\n",
       "      <td>62</td>\n",
       "      <td>252</td>\n",
       "      <td>1.572272e+03</td>\n",
       "      <td>60929.230470</td>\n",
       "      <td>...</td>\n",
       "      <td>7</td>\n",
       "      <td>1</td>\n",
       "      <td>2</td>\n",
       "      <td>1</td>\n",
       "      <td>1</td>\n",
       "      <td>3</td>\n",
       "      <td>2</td>\n",
       "      <td>6</td>\n",
       "      <td>0</td>\n",
       "      <td>Normal</td>\n",
       "    </tr>\n",
       "    <tr>\n",
       "      <th>3</th>\n",
       "      <td>1.681642</td>\n",
       "      <td>tcp</td>\n",
       "      <td>ftp</td>\n",
       "      <td>628</td>\n",
       "      <td>770</td>\n",
       "      <td>13.677108</td>\n",
       "      <td>62</td>\n",
       "      <td>252</td>\n",
       "      <td>2.740179e+03</td>\n",
       "      <td>3358.622070</td>\n",
       "      <td>...</td>\n",
       "      <td>1</td>\n",
       "      <td>1</td>\n",
       "      <td>2</td>\n",
       "      <td>1</td>\n",
       "      <td>1</td>\n",
       "      <td>3</td>\n",
       "      <td>2</td>\n",
       "      <td>1</td>\n",
       "      <td>0</td>\n",
       "      <td>Normal</td>\n",
       "    </tr>\n",
       "    <tr>\n",
       "      <th>4</th>\n",
       "      <td>0.449454</td>\n",
       "      <td>tcp</td>\n",
       "      <td>-</td>\n",
       "      <td>534</td>\n",
       "      <td>268</td>\n",
       "      <td>33.373826</td>\n",
       "      <td>254</td>\n",
       "      <td>252</td>\n",
       "      <td>8.561499e+03</td>\n",
       "      <td>3987.059814</td>\n",
       "      <td>...</td>\n",
       "      <td>43</td>\n",
       "      <td>1</td>\n",
       "      <td>2</td>\n",
       "      <td>2</td>\n",
       "      <td>1</td>\n",
       "      <td>40</td>\n",
       "      <td>2</td>\n",
       "      <td>39</td>\n",
       "      <td>0</td>\n",
       "      <td>Normal</td>\n",
       "    </tr>\n",
       "    <tr>\n",
       "      <th>...</th>\n",
       "      <td>...</td>\n",
       "      <td>...</td>\n",
       "      <td>...</td>\n",
       "      <td>...</td>\n",
       "      <td>...</td>\n",
       "      <td>...</td>\n",
       "      <td>...</td>\n",
       "      <td>...</td>\n",
       "      <td>...</td>\n",
       "      <td>...</td>\n",
       "      <td>...</td>\n",
       "      <td>...</td>\n",
       "      <td>...</td>\n",
       "      <td>...</td>\n",
       "      <td>...</td>\n",
       "      <td>...</td>\n",
       "      <td>...</td>\n",
       "      <td>...</td>\n",
       "      <td>...</td>\n",
       "      <td>...</td>\n",
       "      <td>...</td>\n",
       "    </tr>\n",
       "    <tr>\n",
       "      <th>257668</th>\n",
       "      <td>0.000005</td>\n",
       "      <td>udp</td>\n",
       "      <td>-</td>\n",
       "      <td>104</td>\n",
       "      <td>0</td>\n",
       "      <td>200000.005100</td>\n",
       "      <td>254</td>\n",
       "      <td>0</td>\n",
       "      <td>8.320000e+07</td>\n",
       "      <td>0.000000</td>\n",
       "      <td>...</td>\n",
       "      <td>1</td>\n",
       "      <td>2</td>\n",
       "      <td>2</td>\n",
       "      <td>1</td>\n",
       "      <td>1</td>\n",
       "      <td>2</td>\n",
       "      <td>2</td>\n",
       "      <td>1</td>\n",
       "      <td>0</td>\n",
       "      <td>Normal</td>\n",
       "    </tr>\n",
       "    <tr>\n",
       "      <th>257669</th>\n",
       "      <td>1.106101</td>\n",
       "      <td>tcp</td>\n",
       "      <td>-</td>\n",
       "      <td>18062</td>\n",
       "      <td>354</td>\n",
       "      <td>24.410067</td>\n",
       "      <td>254</td>\n",
       "      <td>252</td>\n",
       "      <td>1.241044e+05</td>\n",
       "      <td>2242.109863</td>\n",
       "      <td>...</td>\n",
       "      <td>1</td>\n",
       "      <td>1</td>\n",
       "      <td>2</td>\n",
       "      <td>1</td>\n",
       "      <td>1</td>\n",
       "      <td>1</td>\n",
       "      <td>3</td>\n",
       "      <td>2</td>\n",
       "      <td>0</td>\n",
       "      <td>Normal</td>\n",
       "    </tr>\n",
       "    <tr>\n",
       "      <th>257670</th>\n",
       "      <td>0.000000</td>\n",
       "      <td>arp</td>\n",
       "      <td>-</td>\n",
       "      <td>46</td>\n",
       "      <td>0</td>\n",
       "      <td>0.000000</td>\n",
       "      <td>0</td>\n",
       "      <td>0</td>\n",
       "      <td>0.000000e+00</td>\n",
       "      <td>0.000000</td>\n",
       "      <td>...</td>\n",
       "      <td>1</td>\n",
       "      <td>2</td>\n",
       "      <td>1</td>\n",
       "      <td>1</td>\n",
       "      <td>1</td>\n",
       "      <td>1</td>\n",
       "      <td>1</td>\n",
       "      <td>1</td>\n",
       "      <td>1</td>\n",
       "      <td>Normal</td>\n",
       "    </tr>\n",
       "    <tr>\n",
       "      <th>257671</th>\n",
       "      <td>0.000000</td>\n",
       "      <td>arp</td>\n",
       "      <td>-</td>\n",
       "      <td>46</td>\n",
       "      <td>0</td>\n",
       "      <td>0.000000</td>\n",
       "      <td>0</td>\n",
       "      <td>0</td>\n",
       "      <td>0.000000e+00</td>\n",
       "      <td>0.000000</td>\n",
       "      <td>...</td>\n",
       "      <td>1</td>\n",
       "      <td>2</td>\n",
       "      <td>1</td>\n",
       "      <td>1</td>\n",
       "      <td>1</td>\n",
       "      <td>1</td>\n",
       "      <td>1</td>\n",
       "      <td>1</td>\n",
       "      <td>1</td>\n",
       "      <td>Normal</td>\n",
       "    </tr>\n",
       "    <tr>\n",
       "      <th>257672</th>\n",
       "      <td>0.000009</td>\n",
       "      <td>udp</td>\n",
       "      <td>-</td>\n",
       "      <td>104</td>\n",
       "      <td>0</td>\n",
       "      <td>111111.107200</td>\n",
       "      <td>254</td>\n",
       "      <td>0</td>\n",
       "      <td>4.622222e+07</td>\n",
       "      <td>0.000000</td>\n",
       "      <td>...</td>\n",
       "      <td>1</td>\n",
       "      <td>2</td>\n",
       "      <td>1</td>\n",
       "      <td>1</td>\n",
       "      <td>1</td>\n",
       "      <td>1</td>\n",
       "      <td>1</td>\n",
       "      <td>1</td>\n",
       "      <td>0</td>\n",
       "      <td>Normal</td>\n",
       "    </tr>\n",
       "  </tbody>\n",
       "</table>\n",
       "<p>257673 rows × 27 columns</p>\n",
       "</div>"
      ],
      "text/plain": [
       "             dur proto service  sbytes  dbytes           rate  sttl  dttl  \\\n",
       "0       0.121478   tcp       -     258     172      74.087490   252   254   \n",
       "1       0.649902   tcp       -     734   42014      78.473372    62   252   \n",
       "2       1.623129   tcp       -     364   13186      14.170161    62   252   \n",
       "3       1.681642   tcp     ftp     628     770      13.677108    62   252   \n",
       "4       0.449454   tcp       -     534     268      33.373826   254   252   \n",
       "...          ...   ...     ...     ...     ...            ...   ...   ...   \n",
       "257668  0.000005   udp       -     104       0  200000.005100   254     0   \n",
       "257669  1.106101   tcp       -   18062     354      24.410067   254   252   \n",
       "257670  0.000000   arp       -      46       0       0.000000     0     0   \n",
       "257671  0.000000   arp       -      46       0       0.000000     0     0   \n",
       "257672  0.000009   udp       -     104       0  111111.107200   254     0   \n",
       "\n",
       "               sload          dload  ...  ct_srv_src  ct_state_ttl  \\\n",
       "0       1.415894e+04    8495.365234  ...           1             0   \n",
       "1       8.395112e+03  503571.312500  ...          43             1   \n",
       "2       1.572272e+03   60929.230470  ...           7             1   \n",
       "3       2.740179e+03    3358.622070  ...           1             1   \n",
       "4       8.561499e+03    3987.059814  ...          43             1   \n",
       "...              ...            ...  ...         ...           ...   \n",
       "257668  8.320000e+07       0.000000  ...           1             2   \n",
       "257669  1.241044e+05    2242.109863  ...           1             1   \n",
       "257670  0.000000e+00       0.000000  ...           1             2   \n",
       "257671  0.000000e+00       0.000000  ...           1             2   \n",
       "257672  4.622222e+07       0.000000  ...           1             2   \n",
       "\n",
       "        ct_dst_ltm  ct_src_dport_ltm  ct_dst_sport_ltm  ct_dst_src_ltm  \\\n",
       "0                1                 1                 1               1   \n",
       "1                1                 1                 1               2   \n",
       "2                2                 1                 1               3   \n",
       "3                2                 1                 1               3   \n",
       "4                2                 2                 1              40   \n",
       "...            ...               ...               ...             ...   \n",
       "257668           2                 1                 1               2   \n",
       "257669           2                 1                 1               1   \n",
       "257670           1                 1                 1               1   \n",
       "257671           1                 1                 1               1   \n",
       "257672           1                 1                 1               1   \n",
       "\n",
       "        ct_src_ltm  ct_srv_dst  is_sm_ips_ports  attack_cat  \n",
       "0                1           1                0      Normal  \n",
       "1                1           6                0      Normal  \n",
       "2                2           6                0      Normal  \n",
       "3                2           1                0      Normal  \n",
       "4                2          39                0      Normal  \n",
       "...            ...         ...              ...         ...  \n",
       "257668           2           1                0      Normal  \n",
       "257669           3           2                0      Normal  \n",
       "257670           1           1                1      Normal  \n",
       "257671           1           1                1      Normal  \n",
       "257672           1           1                0      Normal  \n",
       "\n",
       "[257673 rows x 27 columns]"
      ]
     },
     "execution_count": 3,
     "metadata": {},
     "output_type": "execute_result"
    }
   ],
   "source": [
    "# df = pd.concat(li, axis=0, ignore_index=True)\n",
    "# df['padding1'] = 0\n",
    "# df['padding2'] = 0\n",
    "# df['padding3'] = 0\n",
    "# df['padding4'] = 0\n",
    "df"
   ]
  },
  {
   "cell_type": "code",
   "execution_count": 4,
   "id": "27cd9cc0",
   "metadata": {
    "id": "27cd9cc0"
   },
   "outputs": [],
   "source": [
    "# all_obj_to_str = list(df_train.dtypes[df_train.dtypes == 'object'].index)\n",
    "all_obj_to_str = list(df.dtypes[df.dtypes == 'object'].index)\n",
    "all_obj_to_str\n",
    "for col in all_obj_to_str:\n",
    "    df[col] = df[col].str.lower()\n",
    "#     df_test[col] = df_test[col].str.lower()\n",
    "#     df_test[col] = df_test[col].str.lower().str.replace(' ', '').str.replace('backdoors', 'backdoor')"
   ]
  },
  {
   "cell_type": "code",
   "execution_count": null,
   "id": "70b84879",
   "metadata": {
    "colab": {
     "base_uri": "https://localhost:8080/"
    },
    "executionInfo": {
     "elapsed": 89,
     "status": "ok",
     "timestamp": 1652360987691,
     "user": {
      "displayName": "IBRAHIM SAYEM",
      "userId": "04342073124846378643"
     },
     "user_tz": 240
    },
    "id": "70b84879",
    "outputId": "d6272c69-3424-4468-ade9-2d0128576008"
   },
   "outputs": [],
   "source": [
    "df.columns"
   ]
  },
  {
   "cell_type": "code",
   "execution_count": 5,
   "id": "da7ee65d",
   "metadata": {
    "colab": {
     "base_uri": "https://localhost:8080/",
     "height": 488
    },
    "executionInfo": {
     "elapsed": 512,
     "status": "ok",
     "timestamp": 1652360994710,
     "user": {
      "displayName": "IBRAHIM SAYEM",
      "userId": "04342073124846378643"
     },
     "user_tz": 240
    },
    "id": "da7ee65d",
    "outputId": "3a42bfa2-81a1-4502-8d67-21098391e2e9"
   },
   "outputs": [
    {
     "data": {
      "text/html": [
       "<div>\n",
       "<style scoped>\n",
       "    .dataframe tbody tr th:only-of-type {\n",
       "        vertical-align: middle;\n",
       "    }\n",
       "\n",
       "    .dataframe tbody tr th {\n",
       "        vertical-align: top;\n",
       "    }\n",
       "\n",
       "    .dataframe thead th {\n",
       "        text-align: right;\n",
       "    }\n",
       "</style>\n",
       "<table border=\"1\" class=\"dataframe\">\n",
       "  <thead>\n",
       "    <tr style=\"text-align: right;\">\n",
       "      <th></th>\n",
       "      <th>dur</th>\n",
       "      <th>proto</th>\n",
       "      <th>service</th>\n",
       "      <th>sbytes</th>\n",
       "      <th>dbytes</th>\n",
       "      <th>rate</th>\n",
       "      <th>sttl</th>\n",
       "      <th>dttl</th>\n",
       "      <th>sload</th>\n",
       "      <th>dload</th>\n",
       "      <th>...</th>\n",
       "      <th>dmean</th>\n",
       "      <th>ct_srv_src</th>\n",
       "      <th>ct_state_ttl</th>\n",
       "      <th>ct_dst_ltm</th>\n",
       "      <th>ct_src_dport_ltm</th>\n",
       "      <th>ct_dst_sport_ltm</th>\n",
       "      <th>ct_dst_src_ltm</th>\n",
       "      <th>ct_src_ltm</th>\n",
       "      <th>is_sm_ips_ports</th>\n",
       "      <th>attack_cat</th>\n",
       "    </tr>\n",
       "  </thead>\n",
       "  <tbody>\n",
       "    <tr>\n",
       "      <th>0</th>\n",
       "      <td>0.121478</td>\n",
       "      <td>tcp</td>\n",
       "      <td>-</td>\n",
       "      <td>258</td>\n",
       "      <td>172</td>\n",
       "      <td>74.087490</td>\n",
       "      <td>252</td>\n",
       "      <td>254</td>\n",
       "      <td>1.415894e+04</td>\n",
       "      <td>8495.365234</td>\n",
       "      <td>...</td>\n",
       "      <td>43</td>\n",
       "      <td>1</td>\n",
       "      <td>0</td>\n",
       "      <td>1</td>\n",
       "      <td>1</td>\n",
       "      <td>1</td>\n",
       "      <td>1</td>\n",
       "      <td>1</td>\n",
       "      <td>0</td>\n",
       "      <td>normal</td>\n",
       "    </tr>\n",
       "    <tr>\n",
       "      <th>1</th>\n",
       "      <td>0.649902</td>\n",
       "      <td>tcp</td>\n",
       "      <td>-</td>\n",
       "      <td>734</td>\n",
       "      <td>42014</td>\n",
       "      <td>78.473372</td>\n",
       "      <td>62</td>\n",
       "      <td>252</td>\n",
       "      <td>8.395112e+03</td>\n",
       "      <td>503571.312500</td>\n",
       "      <td>...</td>\n",
       "      <td>1106</td>\n",
       "      <td>43</td>\n",
       "      <td>1</td>\n",
       "      <td>1</td>\n",
       "      <td>1</td>\n",
       "      <td>1</td>\n",
       "      <td>2</td>\n",
       "      <td>1</td>\n",
       "      <td>0</td>\n",
       "      <td>normal</td>\n",
       "    </tr>\n",
       "    <tr>\n",
       "      <th>2</th>\n",
       "      <td>1.623129</td>\n",
       "      <td>tcp</td>\n",
       "      <td>-</td>\n",
       "      <td>364</td>\n",
       "      <td>13186</td>\n",
       "      <td>14.170161</td>\n",
       "      <td>62</td>\n",
       "      <td>252</td>\n",
       "      <td>1.572272e+03</td>\n",
       "      <td>60929.230470</td>\n",
       "      <td>...</td>\n",
       "      <td>824</td>\n",
       "      <td>7</td>\n",
       "      <td>1</td>\n",
       "      <td>2</td>\n",
       "      <td>1</td>\n",
       "      <td>1</td>\n",
       "      <td>3</td>\n",
       "      <td>2</td>\n",
       "      <td>0</td>\n",
       "      <td>normal</td>\n",
       "    </tr>\n",
       "    <tr>\n",
       "      <th>3</th>\n",
       "      <td>1.681642</td>\n",
       "      <td>tcp</td>\n",
       "      <td>ftp</td>\n",
       "      <td>628</td>\n",
       "      <td>770</td>\n",
       "      <td>13.677108</td>\n",
       "      <td>62</td>\n",
       "      <td>252</td>\n",
       "      <td>2.740179e+03</td>\n",
       "      <td>3358.622070</td>\n",
       "      <td>...</td>\n",
       "      <td>64</td>\n",
       "      <td>1</td>\n",
       "      <td>1</td>\n",
       "      <td>2</td>\n",
       "      <td>1</td>\n",
       "      <td>1</td>\n",
       "      <td>3</td>\n",
       "      <td>2</td>\n",
       "      <td>0</td>\n",
       "      <td>normal</td>\n",
       "    </tr>\n",
       "    <tr>\n",
       "      <th>4</th>\n",
       "      <td>0.449454</td>\n",
       "      <td>tcp</td>\n",
       "      <td>-</td>\n",
       "      <td>534</td>\n",
       "      <td>268</td>\n",
       "      <td>33.373826</td>\n",
       "      <td>254</td>\n",
       "      <td>252</td>\n",
       "      <td>8.561499e+03</td>\n",
       "      <td>3987.059814</td>\n",
       "      <td>...</td>\n",
       "      <td>45</td>\n",
       "      <td>43</td>\n",
       "      <td>1</td>\n",
       "      <td>2</td>\n",
       "      <td>2</td>\n",
       "      <td>1</td>\n",
       "      <td>40</td>\n",
       "      <td>2</td>\n",
       "      <td>0</td>\n",
       "      <td>normal</td>\n",
       "    </tr>\n",
       "    <tr>\n",
       "      <th>...</th>\n",
       "      <td>...</td>\n",
       "      <td>...</td>\n",
       "      <td>...</td>\n",
       "      <td>...</td>\n",
       "      <td>...</td>\n",
       "      <td>...</td>\n",
       "      <td>...</td>\n",
       "      <td>...</td>\n",
       "      <td>...</td>\n",
       "      <td>...</td>\n",
       "      <td>...</td>\n",
       "      <td>...</td>\n",
       "      <td>...</td>\n",
       "      <td>...</td>\n",
       "      <td>...</td>\n",
       "      <td>...</td>\n",
       "      <td>...</td>\n",
       "      <td>...</td>\n",
       "      <td>...</td>\n",
       "      <td>...</td>\n",
       "      <td>...</td>\n",
       "    </tr>\n",
       "    <tr>\n",
       "      <th>257668</th>\n",
       "      <td>0.000005</td>\n",
       "      <td>udp</td>\n",
       "      <td>-</td>\n",
       "      <td>104</td>\n",
       "      <td>0</td>\n",
       "      <td>200000.005100</td>\n",
       "      <td>254</td>\n",
       "      <td>0</td>\n",
       "      <td>8.320000e+07</td>\n",
       "      <td>0.000000</td>\n",
       "      <td>...</td>\n",
       "      <td>0</td>\n",
       "      <td>1</td>\n",
       "      <td>2</td>\n",
       "      <td>2</td>\n",
       "      <td>1</td>\n",
       "      <td>1</td>\n",
       "      <td>2</td>\n",
       "      <td>2</td>\n",
       "      <td>0</td>\n",
       "      <td>normal</td>\n",
       "    </tr>\n",
       "    <tr>\n",
       "      <th>257669</th>\n",
       "      <td>1.106101</td>\n",
       "      <td>tcp</td>\n",
       "      <td>-</td>\n",
       "      <td>18062</td>\n",
       "      <td>354</td>\n",
       "      <td>24.410067</td>\n",
       "      <td>254</td>\n",
       "      <td>252</td>\n",
       "      <td>1.241044e+05</td>\n",
       "      <td>2242.109863</td>\n",
       "      <td>...</td>\n",
       "      <td>44</td>\n",
       "      <td>1</td>\n",
       "      <td>1</td>\n",
       "      <td>2</td>\n",
       "      <td>1</td>\n",
       "      <td>1</td>\n",
       "      <td>1</td>\n",
       "      <td>3</td>\n",
       "      <td>0</td>\n",
       "      <td>normal</td>\n",
       "    </tr>\n",
       "    <tr>\n",
       "      <th>257670</th>\n",
       "      <td>0.000000</td>\n",
       "      <td>arp</td>\n",
       "      <td>-</td>\n",
       "      <td>46</td>\n",
       "      <td>0</td>\n",
       "      <td>0.000000</td>\n",
       "      <td>0</td>\n",
       "      <td>0</td>\n",
       "      <td>0.000000e+00</td>\n",
       "      <td>0.000000</td>\n",
       "      <td>...</td>\n",
       "      <td>0</td>\n",
       "      <td>1</td>\n",
       "      <td>2</td>\n",
       "      <td>1</td>\n",
       "      <td>1</td>\n",
       "      <td>1</td>\n",
       "      <td>1</td>\n",
       "      <td>1</td>\n",
       "      <td>1</td>\n",
       "      <td>normal</td>\n",
       "    </tr>\n",
       "    <tr>\n",
       "      <th>257671</th>\n",
       "      <td>0.000000</td>\n",
       "      <td>arp</td>\n",
       "      <td>-</td>\n",
       "      <td>46</td>\n",
       "      <td>0</td>\n",
       "      <td>0.000000</td>\n",
       "      <td>0</td>\n",
       "      <td>0</td>\n",
       "      <td>0.000000e+00</td>\n",
       "      <td>0.000000</td>\n",
       "      <td>...</td>\n",
       "      <td>0</td>\n",
       "      <td>1</td>\n",
       "      <td>2</td>\n",
       "      <td>1</td>\n",
       "      <td>1</td>\n",
       "      <td>1</td>\n",
       "      <td>1</td>\n",
       "      <td>1</td>\n",
       "      <td>1</td>\n",
       "      <td>normal</td>\n",
       "    </tr>\n",
       "    <tr>\n",
       "      <th>257672</th>\n",
       "      <td>0.000009</td>\n",
       "      <td>udp</td>\n",
       "      <td>-</td>\n",
       "      <td>104</td>\n",
       "      <td>0</td>\n",
       "      <td>111111.107200</td>\n",
       "      <td>254</td>\n",
       "      <td>0</td>\n",
       "      <td>4.622222e+07</td>\n",
       "      <td>0.000000</td>\n",
       "      <td>...</td>\n",
       "      <td>0</td>\n",
       "      <td>1</td>\n",
       "      <td>2</td>\n",
       "      <td>1</td>\n",
       "      <td>1</td>\n",
       "      <td>1</td>\n",
       "      <td>1</td>\n",
       "      <td>1</td>\n",
       "      <td>0</td>\n",
       "      <td>normal</td>\n",
       "    </tr>\n",
       "  </tbody>\n",
       "</table>\n",
       "<p>208142 rows × 26 columns</p>\n",
       "</div>"
      ],
      "text/plain": [
       "             dur proto service  sbytes  dbytes           rate  sttl  dttl  \\\n",
       "0       0.121478   tcp       -     258     172      74.087490   252   254   \n",
       "1       0.649902   tcp       -     734   42014      78.473372    62   252   \n",
       "2       1.623129   tcp       -     364   13186      14.170161    62   252   \n",
       "3       1.681642   tcp     ftp     628     770      13.677108    62   252   \n",
       "4       0.449454   tcp       -     534     268      33.373826   254   252   \n",
       "...          ...   ...     ...     ...     ...            ...   ...   ...   \n",
       "257668  0.000005   udp       -     104       0  200000.005100   254     0   \n",
       "257669  1.106101   tcp       -   18062     354      24.410067   254   252   \n",
       "257670  0.000000   arp       -      46       0       0.000000     0     0   \n",
       "257671  0.000000   arp       -      46       0       0.000000     0     0   \n",
       "257672  0.000009   udp       -     104       0  111111.107200   254     0   \n",
       "\n",
       "               sload          dload  ...  dmean  ct_srv_src  ct_state_ttl  \\\n",
       "0       1.415894e+04    8495.365234  ...     43           1             0   \n",
       "1       8.395112e+03  503571.312500  ...   1106          43             1   \n",
       "2       1.572272e+03   60929.230470  ...    824           7             1   \n",
       "3       2.740179e+03    3358.622070  ...     64           1             1   \n",
       "4       8.561499e+03    3987.059814  ...     45          43             1   \n",
       "...              ...            ...  ...    ...         ...           ...   \n",
       "257668  8.320000e+07       0.000000  ...      0           1             2   \n",
       "257669  1.241044e+05    2242.109863  ...     44           1             1   \n",
       "257670  0.000000e+00       0.000000  ...      0           1             2   \n",
       "257671  0.000000e+00       0.000000  ...      0           1             2   \n",
       "257672  4.622222e+07       0.000000  ...      0           1             2   \n",
       "\n",
       "        ct_dst_ltm  ct_src_dport_ltm  ct_dst_sport_ltm  ct_dst_src_ltm  \\\n",
       "0                1                 1                 1               1   \n",
       "1                1                 1                 1               2   \n",
       "2                2                 1                 1               3   \n",
       "3                2                 1                 1               3   \n",
       "4                2                 2                 1              40   \n",
       "...            ...               ...               ...             ...   \n",
       "257668           2                 1                 1               2   \n",
       "257669           2                 1                 1               1   \n",
       "257670           1                 1                 1               1   \n",
       "257671           1                 1                 1               1   \n",
       "257672           1                 1                 1               1   \n",
       "\n",
       "        ct_src_ltm  is_sm_ips_ports  attack_cat  \n",
       "0                1                0      normal  \n",
       "1                1                0      normal  \n",
       "2                2                0      normal  \n",
       "3                2                0      normal  \n",
       "4                2                0      normal  \n",
       "...            ...              ...         ...  \n",
       "257668           2                0      normal  \n",
       "257669           3                0      normal  \n",
       "257670           1                1      normal  \n",
       "257671           1                1      normal  \n",
       "257672           1                0      normal  \n",
       "\n",
       "[208142 rows x 26 columns]"
      ]
     },
     "execution_count": 5,
     "metadata": {},
     "output_type": "execute_result"
    }
   ],
   "source": [
    "df.columns = df.columns.str.lower()\n",
    "\n",
    "# df_train.drop(['spkts', 'dpkts', 'sbytes', 'dbytes', 'sjit', 'djit','ct_dst_src_ltm', 'ackdat','stcpb','dtcpb', 'dinpkt', 'tcprtt', 'synack', 'ct_src_ltm','ct_dst_sport_ltm','ct_src_dport_ltm', 'ct_dst_ltm'], axis = 1, inplace = True)\n",
    "# df_test.drop(['spkts', 'dpkts', 'sbytes', 'dbytes', 'sjit', 'djit','ct_dst_src_ltm', 'ackdat','stcpb','dtcpb', 'dinpkt', 'tcprtt', 'synack', 'ct_src_ltm','ct_dst_sport_ltm','ct_src_dport_ltm', 'ct_dst_ltm'], axis = 1, inplace = True)\n",
    "df.drop(['ct_srv_dst'],axis=1, inplace = True)\n",
    "# df = df[df.attack_cat != \"exploits\"]\n",
    "df = df[df.attack_cat != \"exploits\"]\n",
    "# df = df[df.attack_cat != \"shellcode\"]\n",
    "df = df[df.attack_cat != \"backdoor\"]\n",
    "# df_test = df_test[df_test.attack_cat != \"worms\"]\n",
    "df = df[df.attack_cat != \"analysis\"]\n",
    "df"
   ]
  },
  {
   "cell_type": "code",
   "execution_count": 6,
   "id": "22c53df1",
   "metadata": {
    "id": "22c53df1"
   },
   "outputs": [],
   "source": [
    "# label_encoder = preprocessing.LabelEncoder()\n",
    "from sklearn.preprocessing import LabelEncoder\n",
    "label_encoder = LabelEncoder()\n",
    "df.proto = label_encoder.fit_transform(df.proto)\n",
    "\n",
    "#label encode to categorical column service\n",
    "df.service = label_encoder.fit_transform(df.service)\n",
    "\n",
    "df.proto = label_encoder.fit_transform(df.proto)\n",
    "\n",
    "#label encode to categorical column service\n",
    "df.service = label_encoder.fit_transform(df.service)\n",
    "# df_train['proto'].unique()"
   ]
  },
  {
   "cell_type": "code",
   "execution_count": 7,
   "id": "6aff9ca8",
   "metadata": {
    "colab": {
     "base_uri": "https://localhost:8080/"
    },
    "executionInfo": {
     "elapsed": 102,
     "status": "ok",
     "timestamp": 1652361001507,
     "user": {
      "displayName": "IBRAHIM SAYEM",
      "userId": "04342073124846378643"
     },
     "user_tz": 240
    },
    "id": "6aff9ca8",
    "outputId": "62ab96d2-fcb9-426c-bf5e-10a9e2170b02"
   },
   "outputs": [
    {
     "data": {
      "text/plain": [
       "normal            93000\n",
       "generic           58871\n",
       "fuzzers           24246\n",
       "dos               16353\n",
       "reconnaissance    13987\n",
       "shellcode          1511\n",
       "worms               174\n",
       "Name: attack_cat, dtype: int64"
      ]
     },
     "execution_count": 7,
     "metadata": {},
     "output_type": "execute_result"
    }
   ],
   "source": [
    "df['attack_cat'].value_counts()"
   ]
  },
  {
   "cell_type": "code",
   "execution_count": 9,
   "id": "8d46f495",
   "metadata": {
    "colab": {
     "base_uri": "https://localhost:8080/"
    },
    "executionInfo": {
     "elapsed": 85,
     "status": "ok",
     "timestamp": 1652361003752,
     "user": {
      "displayName": "IBRAHIM SAYEM",
      "userId": "04342073124846378643"
     },
     "user_tz": 240
    },
    "id": "8d46f495",
    "outputId": "7a34f4b6-14e2-4683-97c7-6f344ded38a3"
   },
   "outputs": [
    {
     "data": {
      "text/plain": [
       "normal            93000\n",
       "generic           58871\n",
       "fuzzers           24246\n",
       "dos               16353\n",
       "reconnaissance    13987\n",
       "shellcode          1511\n",
       "worms               174\n",
       "Name: attack_cat, dtype: int64"
      ]
     },
     "execution_count": 9,
     "metadata": {},
     "output_type": "execute_result"
    }
   ],
   "source": [
    "# df.loc[df[\"attack_cat\"] == \"exploits\", \"attack_cat\"] = \"dos\"\n",
    "# df.loc[df[\"attack_cat\"] == \"analysis\", \"attack_cat\"] = \"backdoor\"\n",
    "df['attack_cat'].value_counts()"
   ]
  },
  {
   "cell_type": "code",
   "execution_count": 10,
   "id": "1d50c9e8",
   "metadata": {
    "colab": {
     "base_uri": "https://localhost:8080/"
    },
    "executionInfo": {
     "elapsed": 99,
     "status": "ok",
     "timestamp": 1652361006233,
     "user": {
      "displayName": "IBRAHIM SAYEM",
      "userId": "04342073124846378643"
     },
     "user_tz": 240
    },
    "id": "1d50c9e8",
    "outputId": "36d28a6b-8633-44bb-dae6-4ec5f1a6082d"
   },
   "outputs": [
    {
     "data": {
      "text/plain": [
       "normal            93000\n",
       "generic           58871\n",
       "fuzzers           24246\n",
       "dos               16353\n",
       "reconnaissance    13987\n",
       "shellcode          1511\n",
       "worms               174\n",
       "Name: attack_cat, dtype: int64"
      ]
     },
     "execution_count": 10,
     "metadata": {},
     "output_type": "execute_result"
    }
   ],
   "source": [
    "Y = df['attack_cat']\n",
    "X = df.drop('attack_cat', axis = 1)\n",
    "# x_train, x_test, y_train, y_test = train_test_split(x, y, test_size=0.15, shuffle = True, random_state=42, stratify = y)\n",
    "Y.value_counts()"
   ]
  },
  {
   "cell_type": "code",
   "execution_count": 11,
   "id": "92462f0c",
   "metadata": {
    "id": "92462f0c"
   },
   "outputs": [],
   "source": [
    "x_train, x_test, y_train, y_test = train_test_split(X, Y, test_size=0.15, random_state=42, stratify = Y)"
   ]
  },
  {
   "cell_type": "code",
   "execution_count": 12,
   "id": "8e8ef862",
   "metadata": {
    "colab": {
     "base_uri": "https://localhost:8080/",
     "height": 488
    },
    "executionInfo": {
     "elapsed": 457,
     "status": "ok",
     "timestamp": 1652361011224,
     "user": {
      "displayName": "IBRAHIM SAYEM",
      "userId": "04342073124846378643"
     },
     "user_tz": 240
    },
    "id": "8e8ef862",
    "outputId": "253d81c6-a20f-4045-b302-192c65256dd2"
   },
   "outputs": [
    {
     "data": {
      "text/html": [
       "<div>\n",
       "<style scoped>\n",
       "    .dataframe tbody tr th:only-of-type {\n",
       "        vertical-align: middle;\n",
       "    }\n",
       "\n",
       "    .dataframe tbody tr th {\n",
       "        vertical-align: top;\n",
       "    }\n",
       "\n",
       "    .dataframe thead th {\n",
       "        text-align: right;\n",
       "    }\n",
       "</style>\n",
       "<table border=\"1\" class=\"dataframe\">\n",
       "  <thead>\n",
       "    <tr style=\"text-align: right;\">\n",
       "      <th></th>\n",
       "      <th>dur</th>\n",
       "      <th>proto</th>\n",
       "      <th>service</th>\n",
       "      <th>sbytes</th>\n",
       "      <th>dbytes</th>\n",
       "      <th>rate</th>\n",
       "      <th>sttl</th>\n",
       "      <th>dttl</th>\n",
       "      <th>sload</th>\n",
       "      <th>dload</th>\n",
       "      <th>...</th>\n",
       "      <th>dmean</th>\n",
       "      <th>ct_srv_src</th>\n",
       "      <th>ct_state_ttl</th>\n",
       "      <th>ct_dst_ltm</th>\n",
       "      <th>ct_src_dport_ltm</th>\n",
       "      <th>ct_dst_sport_ltm</th>\n",
       "      <th>ct_dst_src_ltm</th>\n",
       "      <th>ct_src_ltm</th>\n",
       "      <th>is_sm_ips_ports</th>\n",
       "      <th>attack_cat</th>\n",
       "    </tr>\n",
       "  </thead>\n",
       "  <tbody>\n",
       "    <tr>\n",
       "      <th>37496</th>\n",
       "      <td>0.000986</td>\n",
       "      <td>119</td>\n",
       "      <td>2</td>\n",
       "      <td>146</td>\n",
       "      <td>178</td>\n",
       "      <td>3042.596172</td>\n",
       "      <td>31</td>\n",
       "      <td>29</td>\n",
       "      <td>5.922921e+05</td>\n",
       "      <td>7.221095e+05</td>\n",
       "      <td>...</td>\n",
       "      <td>89</td>\n",
       "      <td>3</td>\n",
       "      <td>0</td>\n",
       "      <td>4</td>\n",
       "      <td>2</td>\n",
       "      <td>1</td>\n",
       "      <td>2</td>\n",
       "      <td>3</td>\n",
       "      <td>0</td>\n",
       "      <td>normal</td>\n",
       "    </tr>\n",
       "    <tr>\n",
       "      <th>77649</th>\n",
       "      <td>0.948631</td>\n",
       "      <td>113</td>\n",
       "      <td>5</td>\n",
       "      <td>68197</td>\n",
       "      <td>612</td>\n",
       "      <td>76.953000</td>\n",
       "      <td>254</td>\n",
       "      <td>252</td>\n",
       "      <td>5.655392e+05</td>\n",
       "      <td>4.798494e+03</td>\n",
       "      <td>...</td>\n",
       "      <td>44</td>\n",
       "      <td>2</td>\n",
       "      <td>1</td>\n",
       "      <td>1</td>\n",
       "      <td>2</td>\n",
       "      <td>1</td>\n",
       "      <td>2</td>\n",
       "      <td>2</td>\n",
       "      <td>0</td>\n",
       "      <td>fuzzers</td>\n",
       "    </tr>\n",
       "    <tr>\n",
       "      <th>74962</th>\n",
       "      <td>40.401329</td>\n",
       "      <td>113</td>\n",
       "      <td>0</td>\n",
       "      <td>1340</td>\n",
       "      <td>536</td>\n",
       "      <td>0.767301</td>\n",
       "      <td>254</td>\n",
       "      <td>252</td>\n",
       "      <td>2.520709e+02</td>\n",
       "      <td>9.742254e+01</td>\n",
       "      <td>...</td>\n",
       "      <td>45</td>\n",
       "      <td>8</td>\n",
       "      <td>1</td>\n",
       "      <td>3</td>\n",
       "      <td>3</td>\n",
       "      <td>2</td>\n",
       "      <td>8</td>\n",
       "      <td>3</td>\n",
       "      <td>0</td>\n",
       "      <td>normal</td>\n",
       "    </tr>\n",
       "    <tr>\n",
       "      <th>249372</th>\n",
       "      <td>0.549210</td>\n",
       "      <td>113</td>\n",
       "      <td>0</td>\n",
       "      <td>616</td>\n",
       "      <td>354</td>\n",
       "      <td>30.953551</td>\n",
       "      <td>254</td>\n",
       "      <td>252</td>\n",
       "      <td>8.084339e+03</td>\n",
       "      <td>4.515577e+03</td>\n",
       "      <td>...</td>\n",
       "      <td>44</td>\n",
       "      <td>5</td>\n",
       "      <td>1</td>\n",
       "      <td>24</td>\n",
       "      <td>2</td>\n",
       "      <td>1</td>\n",
       "      <td>6</td>\n",
       "      <td>2</td>\n",
       "      <td>0</td>\n",
       "      <td>normal</td>\n",
       "    </tr>\n",
       "    <tr>\n",
       "      <th>31858</th>\n",
       "      <td>0.066967</td>\n",
       "      <td>113</td>\n",
       "      <td>0</td>\n",
       "      <td>2958</td>\n",
       "      <td>32642</td>\n",
       "      <td>1448.474556</td>\n",
       "      <td>31</td>\n",
       "      <td>29</td>\n",
       "      <td>3.460809e+05</td>\n",
       "      <td>3.821584e+06</td>\n",
       "      <td>...</td>\n",
       "      <td>653</td>\n",
       "      <td>4</td>\n",
       "      <td>0</td>\n",
       "      <td>6</td>\n",
       "      <td>1</td>\n",
       "      <td>1</td>\n",
       "      <td>2</td>\n",
       "      <td>4</td>\n",
       "      <td>0</td>\n",
       "      <td>normal</td>\n",
       "    </tr>\n",
       "    <tr>\n",
       "      <th>...</th>\n",
       "      <td>...</td>\n",
       "      <td>...</td>\n",
       "      <td>...</td>\n",
       "      <td>...</td>\n",
       "      <td>...</td>\n",
       "      <td>...</td>\n",
       "      <td>...</td>\n",
       "      <td>...</td>\n",
       "      <td>...</td>\n",
       "      <td>...</td>\n",
       "      <td>...</td>\n",
       "      <td>...</td>\n",
       "      <td>...</td>\n",
       "      <td>...</td>\n",
       "      <td>...</td>\n",
       "      <td>...</td>\n",
       "      <td>...</td>\n",
       "      <td>...</td>\n",
       "      <td>...</td>\n",
       "      <td>...</td>\n",
       "      <td>...</td>\n",
       "    </tr>\n",
       "    <tr>\n",
       "      <th>199540</th>\n",
       "      <td>0.031868</td>\n",
       "      <td>113</td>\n",
       "      <td>0</td>\n",
       "      <td>2974</td>\n",
       "      <td>33882</td>\n",
       "      <td>3043.805738</td>\n",
       "      <td>31</td>\n",
       "      <td>29</td>\n",
       "      <td>7.312665e+05</td>\n",
       "      <td>8.335634e+06</td>\n",
       "      <td>...</td>\n",
       "      <td>678</td>\n",
       "      <td>20</td>\n",
       "      <td>0</td>\n",
       "      <td>2</td>\n",
       "      <td>1</td>\n",
       "      <td>1</td>\n",
       "      <td>2</td>\n",
       "      <td>2</td>\n",
       "      <td>0</td>\n",
       "      <td>normal</td>\n",
       "    </tr>\n",
       "    <tr>\n",
       "      <th>193347</th>\n",
       "      <td>0.000004</td>\n",
       "      <td>119</td>\n",
       "      <td>2</td>\n",
       "      <td>114</td>\n",
       "      <td>0</td>\n",
       "      <td>250000.000600</td>\n",
       "      <td>254</td>\n",
       "      <td>0</td>\n",
       "      <td>1.140000e+08</td>\n",
       "      <td>0.000000e+00</td>\n",
       "      <td>...</td>\n",
       "      <td>0</td>\n",
       "      <td>43</td>\n",
       "      <td>2</td>\n",
       "      <td>43</td>\n",
       "      <td>43</td>\n",
       "      <td>25</td>\n",
       "      <td>43</td>\n",
       "      <td>43</td>\n",
       "      <td>0</td>\n",
       "      <td>generic</td>\n",
       "    </tr>\n",
       "    <tr>\n",
       "      <th>2784</th>\n",
       "      <td>0.004681</td>\n",
       "      <td>113</td>\n",
       "      <td>0</td>\n",
       "      <td>3736</td>\n",
       "      <td>2456</td>\n",
       "      <td>7477.034789</td>\n",
       "      <td>31</td>\n",
       "      <td>29</td>\n",
       "      <td>6.031190e+06</td>\n",
       "      <td>3.964965e+06</td>\n",
       "      <td>...</td>\n",
       "      <td>136</td>\n",
       "      <td>8</td>\n",
       "      <td>0</td>\n",
       "      <td>5</td>\n",
       "      <td>1</td>\n",
       "      <td>1</td>\n",
       "      <td>3</td>\n",
       "      <td>5</td>\n",
       "      <td>0</td>\n",
       "      <td>normal</td>\n",
       "    </tr>\n",
       "    <tr>\n",
       "      <th>64809</th>\n",
       "      <td>0.000008</td>\n",
       "      <td>119</td>\n",
       "      <td>1</td>\n",
       "      <td>1152</td>\n",
       "      <td>0</td>\n",
       "      <td>125000.000300</td>\n",
       "      <td>254</td>\n",
       "      <td>0</td>\n",
       "      <td>5.760000e+08</td>\n",
       "      <td>0.000000e+00</td>\n",
       "      <td>...</td>\n",
       "      <td>0</td>\n",
       "      <td>2</td>\n",
       "      <td>2</td>\n",
       "      <td>2</td>\n",
       "      <td>2</td>\n",
       "      <td>2</td>\n",
       "      <td>2</td>\n",
       "      <td>3</td>\n",
       "      <td>0</td>\n",
       "      <td>dos</td>\n",
       "    </tr>\n",
       "    <tr>\n",
       "      <th>4254</th>\n",
       "      <td>0.018025</td>\n",
       "      <td>113</td>\n",
       "      <td>0</td>\n",
       "      <td>1540</td>\n",
       "      <td>1644</td>\n",
       "      <td>1830.790604</td>\n",
       "      <td>31</td>\n",
       "      <td>29</td>\n",
       "      <td>6.408877e+05</td>\n",
       "      <td>6.892649e+05</td>\n",
       "      <td>...</td>\n",
       "      <td>91</td>\n",
       "      <td>17</td>\n",
       "      <td>0</td>\n",
       "      <td>6</td>\n",
       "      <td>6</td>\n",
       "      <td>1</td>\n",
       "      <td>6</td>\n",
       "      <td>11</td>\n",
       "      <td>0</td>\n",
       "      <td>normal</td>\n",
       "    </tr>\n",
       "  </tbody>\n",
       "</table>\n",
       "<p>176920 rows × 26 columns</p>\n",
       "</div>"
      ],
      "text/plain": [
       "              dur  proto  service  sbytes  dbytes           rate  sttl  dttl  \\\n",
       "37496    0.000986    119        2     146     178    3042.596172    31    29   \n",
       "77649    0.948631    113        5   68197     612      76.953000   254   252   \n",
       "74962   40.401329    113        0    1340     536       0.767301   254   252   \n",
       "249372   0.549210    113        0     616     354      30.953551   254   252   \n",
       "31858    0.066967    113        0    2958   32642    1448.474556    31    29   \n",
       "...           ...    ...      ...     ...     ...            ...   ...   ...   \n",
       "199540   0.031868    113        0    2974   33882    3043.805738    31    29   \n",
       "193347   0.000004    119        2     114       0  250000.000600   254     0   \n",
       "2784     0.004681    113        0    3736    2456    7477.034789    31    29   \n",
       "64809    0.000008    119        1    1152       0  125000.000300   254     0   \n",
       "4254     0.018025    113        0    1540    1644    1830.790604    31    29   \n",
       "\n",
       "               sload         dload  ...  dmean  ct_srv_src  ct_state_ttl  \\\n",
       "37496   5.922921e+05  7.221095e+05  ...     89           3             0   \n",
       "77649   5.655392e+05  4.798494e+03  ...     44           2             1   \n",
       "74962   2.520709e+02  9.742254e+01  ...     45           8             1   \n",
       "249372  8.084339e+03  4.515577e+03  ...     44           5             1   \n",
       "31858   3.460809e+05  3.821584e+06  ...    653           4             0   \n",
       "...              ...           ...  ...    ...         ...           ...   \n",
       "199540  7.312665e+05  8.335634e+06  ...    678          20             0   \n",
       "193347  1.140000e+08  0.000000e+00  ...      0          43             2   \n",
       "2784    6.031190e+06  3.964965e+06  ...    136           8             0   \n",
       "64809   5.760000e+08  0.000000e+00  ...      0           2             2   \n",
       "4254    6.408877e+05  6.892649e+05  ...     91          17             0   \n",
       "\n",
       "        ct_dst_ltm  ct_src_dport_ltm  ct_dst_sport_ltm  ct_dst_src_ltm  \\\n",
       "37496            4                 2                 1               2   \n",
       "77649            1                 2                 1               2   \n",
       "74962            3                 3                 2               8   \n",
       "249372          24                 2                 1               6   \n",
       "31858            6                 1                 1               2   \n",
       "...            ...               ...               ...             ...   \n",
       "199540           2                 1                 1               2   \n",
       "193347          43                43                25              43   \n",
       "2784             5                 1                 1               3   \n",
       "64809            2                 2                 2               2   \n",
       "4254             6                 6                 1               6   \n",
       "\n",
       "        ct_src_ltm  is_sm_ips_ports  attack_cat  \n",
       "37496            3                0      normal  \n",
       "77649            2                0     fuzzers  \n",
       "74962            3                0      normal  \n",
       "249372           2                0      normal  \n",
       "31858            4                0      normal  \n",
       "...            ...              ...         ...  \n",
       "199540           2                0      normal  \n",
       "193347          43                0     generic  \n",
       "2784             5                0      normal  \n",
       "64809            3                0         dos  \n",
       "4254            11                0      normal  \n",
       "\n",
       "[176920 rows x 26 columns]"
      ]
     },
     "execution_count": 12,
     "metadata": {},
     "output_type": "execute_result"
    }
   ],
   "source": [
    "df_train = pd.concat([x_train, y_train], axis=1)\n",
    "df_train"
   ]
  },
  {
   "cell_type": "code",
   "execution_count": 13,
   "id": "e490be05",
   "metadata": {
    "colab": {
     "base_uri": "https://localhost:8080/"
    },
    "executionInfo": {
     "elapsed": 352,
     "status": "ok",
     "timestamp": 1652361014276,
     "user": {
      "displayName": "IBRAHIM SAYEM",
      "userId": "04342073124846378643"
     },
     "user_tz": 240
    },
    "id": "e490be05",
    "outputId": "8682418f-730b-43b4-a3a9-a46683c433eb"
   },
   "outputs": [
    {
     "data": {
      "text/plain": [
       "dos               13900\n",
       "reconnaissance    11889\n",
       "shellcode          1284\n",
       "worms               148\n",
       "Name: attack_cat, dtype: int64"
      ]
     },
     "execution_count": 13,
     "metadata": {},
     "output_type": "execute_result"
    }
   ],
   "source": [
    "# df_train['attack_cat'].value_counts()\n",
    "df_less_freq_attack = df_train[df_train['attack_cat'].str.contains('dos|shell|worm|reco')]\n",
    "df_less_freq_attack['attack_cat'].value_counts()"
   ]
  },
  {
   "cell_type": "code",
   "execution_count": 14,
   "id": "fdb194cf",
   "metadata": {
    "colab": {
     "base_uri": "https://localhost:8080/"
    },
    "executionInfo": {
     "elapsed": 157,
     "status": "ok",
     "timestamp": 1652361016459,
     "user": {
      "displayName": "IBRAHIM SAYEM",
      "userId": "04342073124846378643"
     },
     "user_tz": 240
    },
    "id": "fdb194cf",
    "outputId": "3417d53b-873e-473f-d9ab-c06bd0f7c865"
   },
   "outputs": [
    {
     "data": {
      "text/plain": [
       "88797     reconnaissance\n",
       "185576    reconnaissance\n",
       "74694                dos\n",
       "139482    reconnaissance\n",
       "86760     reconnaissance\n",
       "               ...      \n",
       "220807    reconnaissance\n",
       "178769               dos\n",
       "239619               dos\n",
       "177269               dos\n",
       "64809                dos\n",
       "Name: attack_cat, Length: 27221, dtype: object"
      ]
     },
     "execution_count": 14,
     "metadata": {},
     "output_type": "execute_result"
    }
   ],
   "source": [
    "y_df_less_freq_attack = df_less_freq_attack['attack_cat']\n",
    "x_df_less_freq_attack = df_less_freq_attack.drop('attack_cat', axis = 1)\n",
    "y_df_less_freq_attack"
   ]
  },
  {
   "cell_type": "code",
   "execution_count": 15,
   "id": "432932a1",
   "metadata": {
    "colab": {
     "base_uri": "https://localhost:8080/"
    },
    "executionInfo": {
     "elapsed": 81827,
     "status": "ok",
     "timestamp": 1652361100542,
     "user": {
      "displayName": "IBRAHIM SAYEM",
      "userId": "04342073124846378643"
     },
     "user_tz": 240
    },
    "id": "432932a1",
    "outputId": "3f25893b-4701-4bb4-ea2e-b1140649787c"
   },
   "outputs": [
    {
     "name": "stdout",
     "output_type": "stream",
     "text": [
      "before Counter({'dos': 13900, 'reconnaissance': 11889, 'shellcode': 1284, 'worms': 148})\n",
      "After Counter({'worms': 12546, 'shellcode': 11661, 'reconnaissance': 10604, 'dos': 8477})\n"
     ]
    }
   ],
   "source": [
    "from imblearn.over_sampling import SMOTE\n",
    "# from imblearn.over_sampling import SVMSMOTE\n",
    "from imblearn.combine import SMOTEENN\n",
    "# from imblearn.combine import SMOTETomek\n",
    "counter = Counter(y_df_less_freq_attack)\n",
    "print(\"before\",counter)\n",
    "# # Resampling the minority class. The strategy can be changed as required.\n",
    "# sm = SMOTE()\n",
    "# sm = SVMSMOTE(sampling_strategy='auto', random_state=None)\n",
    "sm = SMOTEENN()\n",
    "# smotomek = SMOTETomek(random_state = 139)\n",
    "# x_train,y_train = sm.fit_resample(x_train, y_train) \n",
    "x_df_less_freq_attack,y_df_less_freq_attack = sm.fit_resample(x_df_less_freq_attack,y_df_less_freq_attack)\n",
    "# x_train,y_train = smotomek.fit_resample(x_train,y_train)\n",
    "\n",
    "counter = Counter(y_df_less_freq_attack)\n",
    "print(\"After\",counter)"
   ]
  },
  {
   "cell_type": "code",
   "execution_count": 16,
   "id": "a03bfb62",
   "metadata": {
    "colab": {
     "base_uri": "https://localhost:8080/"
    },
    "executionInfo": {
     "elapsed": 100,
     "status": "ok",
     "timestamp": 1652361119736,
     "user": {
      "displayName": "IBRAHIM SAYEM",
      "userId": "04342073124846378643"
     },
     "user_tz": 240
    },
    "id": "a03bfb62",
    "outputId": "147348d5-c50c-400d-d3c0-146924efb13d"
   },
   "outputs": [
    {
     "data": {
      "text/plain": [
       "dur                 0\n",
       "proto               0\n",
       "service             0\n",
       "sbytes              0\n",
       "dbytes              0\n",
       "rate                0\n",
       "sttl                0\n",
       "dttl                0\n",
       "sload               0\n",
       "dload               0\n",
       "sinpkt              0\n",
       "dinpkt              0\n",
       "swin                0\n",
       "dwin                0\n",
       "synack              0\n",
       "smean               0\n",
       "dmean               0\n",
       "ct_srv_src          0\n",
       "ct_state_ttl        0\n",
       "ct_dst_ltm          0\n",
       "ct_src_dport_ltm    0\n",
       "ct_dst_sport_ltm    0\n",
       "ct_dst_src_ltm      0\n",
       "ct_src_ltm          0\n",
       "is_sm_ips_ports     0\n",
       "attack_cat          0\n",
       "dtype: int64"
      ]
     },
     "execution_count": 16,
     "metadata": {},
     "output_type": "execute_result"
    }
   ],
   "source": [
    "df.isnull().sum()"
   ]
  },
  {
   "cell_type": "code",
   "execution_count": 17,
   "id": "7214d146",
   "metadata": {
    "colab": {
     "base_uri": "https://localhost:8080/",
     "height": 488
    },
    "executionInfo": {
     "elapsed": 101,
     "status": "ok",
     "timestamp": 1652361123351,
     "user": {
      "displayName": "IBRAHIM SAYEM",
      "userId": "04342073124846378643"
     },
     "user_tz": 240
    },
    "id": "7214d146",
    "outputId": "e2c49bfc-24ae-47c7-fb8d-2dc0c92296ad"
   },
   "outputs": [
    {
     "data": {
      "text/html": [
       "<div>\n",
       "<style scoped>\n",
       "    .dataframe tbody tr th:only-of-type {\n",
       "        vertical-align: middle;\n",
       "    }\n",
       "\n",
       "    .dataframe tbody tr th {\n",
       "        vertical-align: top;\n",
       "    }\n",
       "\n",
       "    .dataframe thead th {\n",
       "        text-align: right;\n",
       "    }\n",
       "</style>\n",
       "<table border=\"1\" class=\"dataframe\">\n",
       "  <thead>\n",
       "    <tr style=\"text-align: right;\">\n",
       "      <th></th>\n",
       "      <th>dur</th>\n",
       "      <th>proto</th>\n",
       "      <th>service</th>\n",
       "      <th>sbytes</th>\n",
       "      <th>dbytes</th>\n",
       "      <th>rate</th>\n",
       "      <th>sttl</th>\n",
       "      <th>dttl</th>\n",
       "      <th>sload</th>\n",
       "      <th>dload</th>\n",
       "      <th>...</th>\n",
       "      <th>dmean</th>\n",
       "      <th>ct_srv_src</th>\n",
       "      <th>ct_state_ttl</th>\n",
       "      <th>ct_dst_ltm</th>\n",
       "      <th>ct_src_dport_ltm</th>\n",
       "      <th>ct_dst_sport_ltm</th>\n",
       "      <th>ct_dst_src_ltm</th>\n",
       "      <th>ct_src_ltm</th>\n",
       "      <th>is_sm_ips_ports</th>\n",
       "      <th>attack_cat</th>\n",
       "    </tr>\n",
       "  </thead>\n",
       "  <tbody>\n",
       "    <tr>\n",
       "      <th>0</th>\n",
       "      <td>0.000009</td>\n",
       "      <td>120</td>\n",
       "      <td>0</td>\n",
       "      <td>200</td>\n",
       "      <td>0</td>\n",
       "      <td>111111.107200</td>\n",
       "      <td>254</td>\n",
       "      <td>0</td>\n",
       "      <td>8.888889e+07</td>\n",
       "      <td>0.000000</td>\n",
       "      <td>...</td>\n",
       "      <td>0</td>\n",
       "      <td>6</td>\n",
       "      <td>2</td>\n",
       "      <td>3</td>\n",
       "      <td>3</td>\n",
       "      <td>3</td>\n",
       "      <td>6</td>\n",
       "      <td>14</td>\n",
       "      <td>0</td>\n",
       "      <td>dos</td>\n",
       "    </tr>\n",
       "    <tr>\n",
       "      <th>1</th>\n",
       "      <td>0.000010</td>\n",
       "      <td>120</td>\n",
       "      <td>0</td>\n",
       "      <td>200</td>\n",
       "      <td>0</td>\n",
       "      <td>100000.002500</td>\n",
       "      <td>254</td>\n",
       "      <td>0</td>\n",
       "      <td>8.000000e+07</td>\n",
       "      <td>0.000000</td>\n",
       "      <td>...</td>\n",
       "      <td>0</td>\n",
       "      <td>12</td>\n",
       "      <td>2</td>\n",
       "      <td>5</td>\n",
       "      <td>4</td>\n",
       "      <td>4</td>\n",
       "      <td>14</td>\n",
       "      <td>5</td>\n",
       "      <td>0</td>\n",
       "      <td>dos</td>\n",
       "    </tr>\n",
       "    <tr>\n",
       "      <th>2</th>\n",
       "      <td>1.019043</td>\n",
       "      <td>113</td>\n",
       "      <td>0</td>\n",
       "      <td>4192</td>\n",
       "      <td>3568</td>\n",
       "      <td>52.009583</td>\n",
       "      <td>254</td>\n",
       "      <td>252</td>\n",
       "      <td>3.173958e+04</td>\n",
       "      <td>26935.076170</td>\n",
       "      <td>...</td>\n",
       "      <td>137</td>\n",
       "      <td>1</td>\n",
       "      <td>1</td>\n",
       "      <td>1</td>\n",
       "      <td>1</td>\n",
       "      <td>1</td>\n",
       "      <td>1</td>\n",
       "      <td>1</td>\n",
       "      <td>0</td>\n",
       "      <td>dos</td>\n",
       "    </tr>\n",
       "    <tr>\n",
       "      <th>3</th>\n",
       "      <td>0.000003</td>\n",
       "      <td>120</td>\n",
       "      <td>0</td>\n",
       "      <td>200</td>\n",
       "      <td>0</td>\n",
       "      <td>333333.321500</td>\n",
       "      <td>254</td>\n",
       "      <td>0</td>\n",
       "      <td>2.666667e+08</td>\n",
       "      <td>0.000000</td>\n",
       "      <td>...</td>\n",
       "      <td>0</td>\n",
       "      <td>11</td>\n",
       "      <td>2</td>\n",
       "      <td>5</td>\n",
       "      <td>4</td>\n",
       "      <td>4</td>\n",
       "      <td>5</td>\n",
       "      <td>8</td>\n",
       "      <td>0</td>\n",
       "      <td>dos</td>\n",
       "    </tr>\n",
       "    <tr>\n",
       "      <th>4</th>\n",
       "      <td>59.656837</td>\n",
       "      <td>78</td>\n",
       "      <td>0</td>\n",
       "      <td>5184</td>\n",
       "      <td>0</td>\n",
       "      <td>0.787839</td>\n",
       "      <td>254</td>\n",
       "      <td>0</td>\n",
       "      <td>6.806931e+02</td>\n",
       "      <td>0.000000</td>\n",
       "      <td>...</td>\n",
       "      <td>0</td>\n",
       "      <td>1</td>\n",
       "      <td>6</td>\n",
       "      <td>1</td>\n",
       "      <td>1</td>\n",
       "      <td>1</td>\n",
       "      <td>1</td>\n",
       "      <td>1</td>\n",
       "      <td>0</td>\n",
       "      <td>dos</td>\n",
       "    </tr>\n",
       "    <tr>\n",
       "      <th>...</th>\n",
       "      <td>...</td>\n",
       "      <td>...</td>\n",
       "      <td>...</td>\n",
       "      <td>...</td>\n",
       "      <td>...</td>\n",
       "      <td>...</td>\n",
       "      <td>...</td>\n",
       "      <td>...</td>\n",
       "      <td>...</td>\n",
       "      <td>...</td>\n",
       "      <td>...</td>\n",
       "      <td>...</td>\n",
       "      <td>...</td>\n",
       "      <td>...</td>\n",
       "      <td>...</td>\n",
       "      <td>...</td>\n",
       "      <td>...</td>\n",
       "      <td>...</td>\n",
       "      <td>...</td>\n",
       "      <td>...</td>\n",
       "      <td>...</td>\n",
       "    </tr>\n",
       "    <tr>\n",
       "      <th>43283</th>\n",
       "      <td>0.194568</td>\n",
       "      <td>113</td>\n",
       "      <td>5</td>\n",
       "      <td>1306</td>\n",
       "      <td>268</td>\n",
       "      <td>77.096345</td>\n",
       "      <td>254</td>\n",
       "      <td>252</td>\n",
       "      <td>4.839871e+04</td>\n",
       "      <td>9210.443308</td>\n",
       "      <td>...</td>\n",
       "      <td>45</td>\n",
       "      <td>1</td>\n",
       "      <td>1</td>\n",
       "      <td>1</td>\n",
       "      <td>1</td>\n",
       "      <td>1</td>\n",
       "      <td>1</td>\n",
       "      <td>10</td>\n",
       "      <td>0</td>\n",
       "      <td>worms</td>\n",
       "    </tr>\n",
       "    <tr>\n",
       "      <th>43284</th>\n",
       "      <td>0.722739</td>\n",
       "      <td>113</td>\n",
       "      <td>0</td>\n",
       "      <td>1308</td>\n",
       "      <td>268</td>\n",
       "      <td>20.757393</td>\n",
       "      <td>254</td>\n",
       "      <td>252</td>\n",
       "      <td>1.304118e+04</td>\n",
       "      <td>2479.816510</td>\n",
       "      <td>...</td>\n",
       "      <td>45</td>\n",
       "      <td>2</td>\n",
       "      <td>1</td>\n",
       "      <td>1</td>\n",
       "      <td>1</td>\n",
       "      <td>1</td>\n",
       "      <td>1</td>\n",
       "      <td>1</td>\n",
       "      <td>0</td>\n",
       "      <td>worms</td>\n",
       "    </tr>\n",
       "    <tr>\n",
       "      <th>43285</th>\n",
       "      <td>0.786604</td>\n",
       "      <td>113</td>\n",
       "      <td>5</td>\n",
       "      <td>1305</td>\n",
       "      <td>268</td>\n",
       "      <td>19.072377</td>\n",
       "      <td>254</td>\n",
       "      <td>252</td>\n",
       "      <td>1.195717e+04</td>\n",
       "      <td>2278.513348</td>\n",
       "      <td>...</td>\n",
       "      <td>45</td>\n",
       "      <td>1</td>\n",
       "      <td>1</td>\n",
       "      <td>1</td>\n",
       "      <td>1</td>\n",
       "      <td>1</td>\n",
       "      <td>1</td>\n",
       "      <td>1</td>\n",
       "      <td>0</td>\n",
       "      <td>worms</td>\n",
       "    </tr>\n",
       "    <tr>\n",
       "      <th>43286</th>\n",
       "      <td>0.424847</td>\n",
       "      <td>113</td>\n",
       "      <td>5</td>\n",
       "      <td>8682</td>\n",
       "      <td>268</td>\n",
       "      <td>46.107353</td>\n",
       "      <td>254</td>\n",
       "      <td>252</td>\n",
       "      <td>1.565126e+05</td>\n",
       "      <td>4348.651401</td>\n",
       "      <td>...</td>\n",
       "      <td>45</td>\n",
       "      <td>1</td>\n",
       "      <td>1</td>\n",
       "      <td>1</td>\n",
       "      <td>1</td>\n",
       "      <td>1</td>\n",
       "      <td>1</td>\n",
       "      <td>1</td>\n",
       "      <td>0</td>\n",
       "      <td>worms</td>\n",
       "    </tr>\n",
       "    <tr>\n",
       "      <th>43287</th>\n",
       "      <td>7.389457</td>\n",
       "      <td>113</td>\n",
       "      <td>5</td>\n",
       "      <td>5131</td>\n",
       "      <td>914556</td>\n",
       "      <td>107.520423</td>\n",
       "      <td>254</td>\n",
       "      <td>252</td>\n",
       "      <td>5.511202e+03</td>\n",
       "      <td>989586.737045</td>\n",
       "      <td>...</td>\n",
       "      <td>1342</td>\n",
       "      <td>1</td>\n",
       "      <td>1</td>\n",
       "      <td>1</td>\n",
       "      <td>1</td>\n",
       "      <td>1</td>\n",
       "      <td>1</td>\n",
       "      <td>1</td>\n",
       "      <td>0</td>\n",
       "      <td>worms</td>\n",
       "    </tr>\n",
       "  </tbody>\n",
       "</table>\n",
       "<p>43288 rows × 26 columns</p>\n",
       "</div>"
      ],
      "text/plain": [
       "             dur  proto  service  sbytes  dbytes           rate  sttl  dttl  \\\n",
       "0       0.000009    120        0     200       0  111111.107200   254     0   \n",
       "1       0.000010    120        0     200       0  100000.002500   254     0   \n",
       "2       1.019043    113        0    4192    3568      52.009583   254   252   \n",
       "3       0.000003    120        0     200       0  333333.321500   254     0   \n",
       "4      59.656837     78        0    5184       0       0.787839   254     0   \n",
       "...          ...    ...      ...     ...     ...            ...   ...   ...   \n",
       "43283   0.194568    113        5    1306     268      77.096345   254   252   \n",
       "43284   0.722739    113        0    1308     268      20.757393   254   252   \n",
       "43285   0.786604    113        5    1305     268      19.072377   254   252   \n",
       "43286   0.424847    113        5    8682     268      46.107353   254   252   \n",
       "43287   7.389457    113        5    5131  914556     107.520423   254   252   \n",
       "\n",
       "              sload          dload  ...  dmean  ct_srv_src  ct_state_ttl  \\\n",
       "0      8.888889e+07       0.000000  ...      0           6             2   \n",
       "1      8.000000e+07       0.000000  ...      0          12             2   \n",
       "2      3.173958e+04   26935.076170  ...    137           1             1   \n",
       "3      2.666667e+08       0.000000  ...      0          11             2   \n",
       "4      6.806931e+02       0.000000  ...      0           1             6   \n",
       "...             ...            ...  ...    ...         ...           ...   \n",
       "43283  4.839871e+04    9210.443308  ...     45           1             1   \n",
       "43284  1.304118e+04    2479.816510  ...     45           2             1   \n",
       "43285  1.195717e+04    2278.513348  ...     45           1             1   \n",
       "43286  1.565126e+05    4348.651401  ...     45           1             1   \n",
       "43287  5.511202e+03  989586.737045  ...   1342           1             1   \n",
       "\n",
       "       ct_dst_ltm  ct_src_dport_ltm  ct_dst_sport_ltm  ct_dst_src_ltm  \\\n",
       "0               3                 3                 3               6   \n",
       "1               5                 4                 4              14   \n",
       "2               1                 1                 1               1   \n",
       "3               5                 4                 4               5   \n",
       "4               1                 1                 1               1   \n",
       "...           ...               ...               ...             ...   \n",
       "43283           1                 1                 1               1   \n",
       "43284           1                 1                 1               1   \n",
       "43285           1                 1                 1               1   \n",
       "43286           1                 1                 1               1   \n",
       "43287           1                 1                 1               1   \n",
       "\n",
       "       ct_src_ltm  is_sm_ips_ports  attack_cat  \n",
       "0              14                0         dos  \n",
       "1               5                0         dos  \n",
       "2               1                0         dos  \n",
       "3               8                0         dos  \n",
       "4               1                0         dos  \n",
       "...           ...              ...         ...  \n",
       "43283          10                0       worms  \n",
       "43284           1                0       worms  \n",
       "43285           1                0       worms  \n",
       "43286           1                0       worms  \n",
       "43287           1                0       worms  \n",
       "\n",
       "[43288 rows x 26 columns]"
      ]
     },
     "execution_count": 17,
     "metadata": {},
     "output_type": "execute_result"
    }
   ],
   "source": [
    "df_less = pd.concat([x_df_less_freq_attack, y_df_less_freq_attack], axis=1)\n",
    "df_less"
   ]
  },
  {
   "cell_type": "code",
   "execution_count": 18,
   "id": "f8b72226",
   "metadata": {
    "colab": {
     "base_uri": "https://localhost:8080/"
    },
    "executionInfo": {
     "elapsed": 400,
     "status": "ok",
     "timestamp": 1652361126720,
     "user": {
      "displayName": "IBRAHIM SAYEM",
      "userId": "04342073124846378643"
     },
     "user_tz": 240
    },
    "id": "f8b72226",
    "outputId": "9b308241-b001-404b-9b11-fc0af1db1ab3"
   },
   "outputs": [
    {
     "data": {
      "text/plain": [
       "normal     79050\n",
       "generic    50040\n",
       "fuzzers    20609\n",
       "Name: attack_cat, dtype: int64"
      ]
     },
     "execution_count": 18,
     "metadata": {},
     "output_type": "execute_result"
    }
   ],
   "source": [
    "# df_train = df_train[df_train.attack_cat != \"analysis\"]\n",
    "# df_train = df_train[df_train.attack_cat != \"backdoor\"]\n",
    "df_train = df_train[df_train.attack_cat != \"shellcode\"]\n",
    "df_train = df_train[df_train.attack_cat != \"worms\"]\n",
    "df_train = df_train[df_train.attack_cat != \"dos\"]\n",
    "# df = df[df.attack_cat != \"fuzzers\"]\n",
    "df_train = df_train[df_train.attack_cat != \"reconnaissance\"]\n",
    "# df_train = df_train[df_train.attack_cat != \"dos\"]\n",
    "# df_train = df_train[df_train.attack_cat != \"exploits\"]\n",
    "# df_train = df_train[df_train.attack_cat != \"fuzzers\"]\n",
    "df_train['attack_cat'].value_counts()"
   ]
  },
  {
   "cell_type": "code",
   "execution_count": 19,
   "id": "b3e7fbec",
   "metadata": {
    "colab": {
     "base_uri": "https://localhost:8080/"
    },
    "executionInfo": {
     "elapsed": 209,
     "status": "ok",
     "timestamp": 1652361130652,
     "user": {
      "displayName": "IBRAHIM SAYEM",
      "userId": "04342073124846378643"
     },
     "user_tz": 240
    },
    "id": "b3e7fbec",
    "outputId": "e393a3f9-cf0e-4d55-97cc-9a8abf45aaeb"
   },
   "outputs": [
    {
     "data": {
      "text/plain": [
       "array(['normal', 'fuzzers', 'generic', 'dos', 'reconnaissance',\n",
       "       'shellcode', 'worms'], dtype=object)"
      ]
     },
     "execution_count": 19,
     "metadata": {},
     "output_type": "execute_result"
    }
   ],
   "source": [
    "df_train = pd.concat([df_train, df_less], axis=0)\n",
    "df_train['attack_cat'].unique()"
   ]
  },
  {
   "cell_type": "code",
   "execution_count": 20,
   "id": "c950c55e",
   "metadata": {
    "colab": {
     "base_uri": "https://localhost:8080/"
    },
    "executionInfo": {
     "elapsed": 335,
     "status": "ok",
     "timestamp": 1652361134684,
     "user": {
      "displayName": "IBRAHIM SAYEM",
      "userId": "04342073124846378643"
     },
     "user_tz": 240
    },
    "id": "c950c55e",
    "outputId": "4f427044-5a44-434f-b42f-808672f5a112"
   },
   "outputs": [
    {
     "data": {
      "text/plain": [
       "normal            79050\n",
       "generic           50040\n",
       "fuzzers           20609\n",
       "worms             12546\n",
       "shellcode         11661\n",
       "reconnaissance    10604\n",
       "dos                8477\n",
       "Name: attack_cat, dtype: int64"
      ]
     },
     "execution_count": 20,
     "metadata": {},
     "output_type": "execute_result"
    }
   ],
   "source": [
    "y_train = df_train['attack_cat']\n",
    "x_train = df_train.drop('attack_cat', axis = 1)\n",
    "# x_train, x_test, y_train, y_test = train_test_split(x_train, y, test_size=0.15, shuffle = True, random_state=42, stratify = y)\n",
    "y_train.value_counts()"
   ]
  },
  {
   "cell_type": "code",
   "execution_count": 21,
   "id": "4fd8345b",
   "metadata": {
    "colab": {
     "base_uri": "https://localhost:8080/"
    },
    "executionInfo": {
     "elapsed": 431,
     "status": "ok",
     "timestamp": 1652361137120,
     "user": {
      "displayName": "IBRAHIM SAYEM",
      "userId": "04342073124846378643"
     },
     "user_tz": 240
    },
    "id": "4fd8345b",
    "outputId": "91bab920-5033-4e22-ff08-7570be80c277"
   },
   "outputs": [
    {
     "name": "stdout",
     "output_type": "stream",
     "text": [
      "Training data shape :  (192987, 25) (192987,)\n",
      "Testing data shape :  (31222, 25) (31222,)\n",
      "Total number of outputs :  7\n",
      "Output classes :  ['dos' 'fuzzers' 'generic' 'normal' 'reconnaissance' 'shellcode' 'worms']\n"
     ]
    }
   ],
   "source": [
    "print('Training data shape : ', x_train.shape, y_train.shape)\n",
    "print('Testing data shape : ', x_test.shape, y_test.shape)\n",
    "# Find the unique numbers from the train labels\n",
    "classes = np.unique(y_train)\n",
    "nClasses = len(classes)\n",
    "print('Total number of outputs : ', nClasses)\n",
    "print('Output classes : ', classes)"
   ]
  },
  {
   "cell_type": "code",
   "execution_count": 22,
   "id": "14361d5e",
   "metadata": {
    "colab": {
     "base_uri": "https://localhost:8080/"
    },
    "executionInfo": {
     "elapsed": 213,
     "status": "ok",
     "timestamp": 1652361139232,
     "user": {
      "displayName": "IBRAHIM SAYEM",
      "userId": "04342073124846378643"
     },
     "user_tz": 240
    },
    "id": "14361d5e",
    "outputId": "04aacfe8-bd20-43b3-fbeb-800279b65a12"
   },
   "outputs": [
    {
     "name": "stdout",
     "output_type": "stream",
     "text": [
      "(192987, 25)\n",
      "(31222, 25)\n"
     ]
    }
   ],
   "source": [
    "#Normalize the data\n",
    "scaler = MinMaxScaler()\n",
    "x_train = scaler.fit_transform(x_train)\n",
    "x_test = scaler.fit_transform(x_test)\n",
    "print(x_train.shape)\n",
    "print(x_test.shape)"
   ]
  },
  {
   "cell_type": "code",
   "execution_count": 23,
   "id": "74f6584b",
   "metadata": {
    "id": "74f6584b"
   },
   "outputs": [],
   "source": [
    "#label encoding y_train\n",
    "label_encoder = LabelEncoder()\n",
    "y_train = label_encoder.fit_transform(y_train)\n",
    "y_test = label_encoder.fit_transform(y_test)"
   ]
  },
  {
   "cell_type": "code",
   "execution_count": 24,
   "id": "fc544cd0",
   "metadata": {
    "colab": {
     "base_uri": "https://localhost:8080/"
    },
    "executionInfo": {
     "elapsed": 97,
     "status": "ok",
     "timestamp": 1652361143255,
     "user": {
      "displayName": "IBRAHIM SAYEM",
      "userId": "04342073124846378643"
     },
     "user_tz": 240
    },
    "id": "fc544cd0",
    "outputId": "16372fd1-fe2b-4630-fe44-1b9838045121"
   },
   "outputs": [
    {
     "data": {
      "text/plain": [
       "((31222, 7), (192987, 7))"
      ]
     },
     "execution_count": 24,
     "metadata": {},
     "output_type": "execute_result"
    }
   ],
   "source": [
    "#label encoding y_train\n",
    "# label_encoder = preprocessing.LabelEncoder()\n",
    "y_test = to_categorical(y_test,  num_classes = 7)\n",
    "y_train = to_categorical(y_train, num_classes = 7)\n",
    "y_test.shape, y_train.shape"
   ]
  },
  {
   "cell_type": "code",
   "execution_count": 25,
   "id": "55810dee",
   "metadata": {
    "colab": {
     "base_uri": "https://localhost:8080/"
    },
    "executionInfo": {
     "elapsed": 110,
     "status": "ok",
     "timestamp": 1652361150448,
     "user": {
      "displayName": "IBRAHIM SAYEM",
      "userId": "04342073124846378643"
     },
     "user_tz": 240
    },
    "id": "55810dee",
    "outputId": "a0b7fee1-40dc-4f30-96fe-55d0016dc454"
   },
   "outputs": [
    {
     "name": "stdout",
     "output_type": "stream",
     "text": [
      "x_train shape:  (192987, 5, 5)\n",
      "test shape:  (31222, 5, 5)\n"
     ]
    }
   ],
   "source": [
    "#Reshape\n",
    "x_train = x_train.reshape(-1, 5,5)\n",
    "x_test = x_test.reshape(-1, 5,5)\n",
    "print(\"x_train shape: \",x_train.shape)\n",
    "print(\"test shape: \",x_test.shape)"
   ]
  },
  {
   "cell_type": "code",
   "execution_count": 26,
   "id": "c418c337",
   "metadata": {
    "id": "c418c337"
   },
   "outputs": [],
   "source": [
    "from sklearn.model_selection import train_test_split\n",
    "x_train,valid_x,train_label,valid_label = train_test_split(x_train, y_train, test_size=0.15, random_state=42, stratify = y_train)"
   ]
  },
  {
   "cell_type": "code",
   "execution_count": 27,
   "id": "4606fe6d",
   "metadata": {
    "colab": {
     "base_uri": "https://localhost:8080/"
    },
    "executionInfo": {
     "elapsed": 121,
     "status": "ok",
     "timestamp": 1652361157341,
     "user": {
      "displayName": "IBRAHIM SAYEM",
      "userId": "04342073124846378643"
     },
     "user_tz": 240
    },
    "id": "4606fe6d",
    "outputId": "b1f6e647-f8e7-45c7-bc9d-a2354708e472"
   },
   "outputs": [
    {
     "data": {
      "text/plain": [
       "((164038, 5, 5), (28949, 5, 5), (164038, 7), (28949, 7))"
      ]
     },
     "execution_count": 27,
     "metadata": {},
     "output_type": "execute_result"
    }
   ],
   "source": [
    "x_train.shape,valid_x.shape,train_label.shape,valid_label.shape"
   ]
  },
  {
   "cell_type": "code",
   "execution_count": 28,
   "id": "46c58a36",
   "metadata": {
    "id": "46c58a36"
   },
   "outputs": [],
   "source": [
    "import keras\n",
    "from keras.models import Sequential, Input, Model\n",
    "from keras.layers import Dense, LSTM, Dropout, GRU, Bidirectional, Flatten, CuDNNLSTM, Bidirectional, Reshape\n",
    "from keras.layers import Conv2D, MaxPooling2D, BatchNormalization\n",
    "# from tensorflow.keras.layers import BatchNormalization\n",
    "from keras.layers.advanced_activations import LeakyReLU\n",
    "from tensorflow.keras.optimizers import RMSprop,Adam, SGD\n",
    "import tensorflow as tf \n",
    "from sklearn.utils import class_weight\n",
    "from numpy import dstack\n",
    "from keras.models import model_from_json, load_model\n",
    "from keras.preprocessing.image import ImageDataGenerator"
   ]
  },
  {
   "cell_type": "code",
   "execution_count": 29,
   "id": "c568ffba",
   "metadata": {
    "id": "c568ffba"
   },
   "outputs": [],
   "source": [
    "batch_size = 128\n",
    "epochs = 30\n",
    "num_classes = 7"
   ]
  },
  {
   "cell_type": "code",
   "execution_count": 30,
   "id": "8d72bbcd",
   "metadata": {
    "id": "8d72bbcd"
   },
   "outputs": [
    {
     "name": "stdout",
     "output_type": "stream",
     "text": [
      "Model: \"sequential\"\n",
      "_________________________________________________________________\n",
      " Layer (type)                Output Shape              Param #   \n",
      "=================================================================\n",
      " conv2d (Conv2D)             (None, 5, 5, 64)          320       \n",
      "                                                                 \n",
      " conv2d_1 (Conv2D)           (None, 5, 5, 64)          16448     \n",
      "                                                                 \n",
      " conv2d_2 (Conv2D)           (None, 5, 5, 128)         32896     \n",
      "                                                                 \n",
      " conv2d_3 (Conv2D)           (None, 5, 5, 128)         65664     \n",
      "                                                                 \n",
      " conv2d_4 (Conv2D)           (None, 5, 5, 256)         131328    \n",
      "                                                                 \n",
      " conv2d_5 (Conv2D)           (None, 5, 5, 256)         262400    \n",
      "                                                                 \n",
      " flatten (Flatten)           (None, 6400)              0         \n",
      "                                                                 \n",
      " dense (Dense)               (None, 1024)              6554624   \n",
      "                                                                 \n",
      " dropout (Dropout)           (None, 1024)              0         \n",
      "                                                                 \n",
      " dense_1 (Dense)             (None, 512)               524800    \n",
      "                                                                 \n",
      " dense_2 (Dense)             (None, 7)                 3591      \n",
      "                                                                 \n",
      "=================================================================\n",
      "Total params: 7,592,071\n",
      "Trainable params: 7,592,071\n",
      "Non-trainable params: 0\n",
      "_________________________________________________________________\n"
     ]
    }
   ],
   "source": [
    "# def model_cnn ():\n",
    "model1 = Sequential()\n",
    "model1.add(Conv2D(64, kernel_size=(2, 2),activation='relu',padding='same',input_shape=(5,5,1)))\n",
    "model1.add(Conv2D(64, (2, 2), activation='relu',padding='same'))\n",
    "# model1.add(MaxPooling2D((2, 2),padding='same'))\n",
    "# model.add(Dropout(0.1))\n",
    "model1.add(Conv2D(128, (2, 2), activation='relu',padding='same'))\n",
    "model1.add(Conv2D(128, (2, 2), activation='relu',padding='same'))\n",
    "# model.add(Conv2D(64, (2, 2), activation='relu',padding='same'))\n",
    "# model1.add(MaxPooling2D(pool_size=(2, 2),padding='same'))\n",
    "# model.add(Dropout(0.10))\n",
    "model1.add(Conv2D(256, (2, 2), activation='relu',padding='same'))\n",
    "model1.add(Conv2D(256, (2, 2), activation='relu',padding='same'))\n",
    "# model.add(Conv2D(128, (2, 2), activation='relu',padding='same'))\n",
    "# model.add(Conv2D(256, (2, 2), activation='relu',padding='same'))\n",
    "# model1.add(MaxPooling2D(pool_size=(2, 2),padding='same'))\n",
    "# model.add(Dropout(0.10))\n",
    "\n",
    "\n",
    "model1.add(Flatten())\n",
    "model1.add(Dense(1024, activation='relu'))       \n",
    "model1.add(Dropout(0.5))\n",
    "model1.add(Dense(512, activation='relu'))\n",
    "model1.add(Dense(num_classes, activation='softmax'))\n",
    "model1.summary()"
   ]
  },
  {
   "cell_type": "code",
   "execution_count": 31,
   "id": "11c068be",
   "metadata": {
    "id": "11c068be"
   },
   "outputs": [],
   "source": [
    "optimizer = Adam(learning_rate=0.001)\n",
    "model1.compile(optimizer = optimizer , loss = \"categorical_crossentropy\", metrics=[\"accuracy\"])"
   ]
  },
  {
   "cell_type": "code",
   "execution_count": 32,
   "id": "28810d50",
   "metadata": {
    "colab": {
     "base_uri": "https://localhost:8080/"
    },
    "executionInfo": {
     "elapsed": 8723781,
     "status": "ok",
     "timestamp": 1652369906836,
     "user": {
      "displayName": "IBRAHIM SAYEM",
      "userId": "04342073124846378643"
     },
     "user_tz": 240
    },
    "id": "28810d50",
    "outputId": "2523a6d2-91bf-4592-e792-34db22edbe4e"
   },
   "outputs": [
    {
     "name": "stdout",
     "output_type": "stream",
     "text": [
      "Epoch 1/30\n",
      "1282/1282 [==============================] - 30s 13ms/step - loss: 0.4663 - accuracy: 0.8086 - val_loss: 0.3074 - val_accuracy: 0.8737\n",
      "Epoch 2/30\n",
      "1282/1282 [==============================] - 16s 12ms/step - loss: 0.3072 - accuracy: 0.8689 - val_loss: 0.2885 - val_accuracy: 0.8783\n",
      "Epoch 3/30\n",
      "1282/1282 [==============================] - 16s 13ms/step - loss: 0.2826 - accuracy: 0.8802 - val_loss: 0.2699 - val_accuracy: 0.8856\n",
      "Epoch 4/30\n",
      "1282/1282 [==============================] - 17s 13ms/step - loss: 0.2631 - accuracy: 0.8891 - val_loss: 0.2527 - val_accuracy: 0.8932\n",
      "Epoch 5/30\n",
      "1282/1282 [==============================] - 17s 13ms/step - loss: 0.2483 - accuracy: 0.8953 - val_loss: 0.2484 - val_accuracy: 0.8951\n",
      "Epoch 6/30\n",
      "1282/1282 [==============================] - 17s 14ms/step - loss: 0.2437 - accuracy: 0.8971 - val_loss: 0.2312 - val_accuracy: 0.9034\n",
      "Epoch 7/30\n",
      "1282/1282 [==============================] - 18s 14ms/step - loss: 0.2352 - accuracy: 0.8997 - val_loss: 0.2299 - val_accuracy: 0.9051\n",
      "Epoch 8/30\n",
      "1282/1282 [==============================] - 18s 14ms/step - loss: 0.2306 - accuracy: 0.9010 - val_loss: 0.2266 - val_accuracy: 0.9043\n",
      "Epoch 9/30\n",
      "1282/1282 [==============================] - 19s 15ms/step - loss: 0.2241 - accuracy: 0.9040 - val_loss: 0.2195 - val_accuracy: 0.9069\n",
      "Epoch 10/30\n",
      "1282/1282 [==============================] - 19s 15ms/step - loss: 0.2199 - accuracy: 0.9050 - val_loss: 0.2250 - val_accuracy: 0.9051\n",
      "Epoch 11/30\n",
      "1282/1282 [==============================] - 19s 15ms/step - loss: 0.2174 - accuracy: 0.9066 - val_loss: 0.2461 - val_accuracy: 0.8928\n",
      "Epoch 12/30\n",
      "1282/1282 [==============================] - 19s 15ms/step - loss: 0.2159 - accuracy: 0.9067 - val_loss: 0.2175 - val_accuracy: 0.9078\n",
      "Epoch 13/30\n",
      "1282/1282 [==============================] - 19s 15ms/step - loss: 0.2136 - accuracy: 0.9086 - val_loss: 0.2119 - val_accuracy: 0.9118\n",
      "Epoch 14/30\n",
      "1282/1282 [==============================] - 19s 15ms/step - loss: 0.2092 - accuracy: 0.9098 - val_loss: 0.2102 - val_accuracy: 0.9094\n",
      "Epoch 15/30\n",
      "1282/1282 [==============================] - 19s 15ms/step - loss: 0.2076 - accuracy: 0.9105 - val_loss: 0.2090 - val_accuracy: 0.9103\n",
      "Epoch 16/30\n",
      "1282/1282 [==============================] - 19s 15ms/step - loss: 0.2034 - accuracy: 0.9124 - val_loss: 0.2058 - val_accuracy: 0.9142\n",
      "Epoch 17/30\n",
      "1282/1282 [==============================] - 20s 15ms/step - loss: 0.2028 - accuracy: 0.9123 - val_loss: 0.2126 - val_accuracy: 0.9138\n",
      "Epoch 18/30\n",
      "1282/1282 [==============================] - 20s 15ms/step - loss: 0.2003 - accuracy: 0.9133 - val_loss: 0.2090 - val_accuracy: 0.9109\n",
      "Epoch 19/30\n",
      "1282/1282 [==============================] - 20s 15ms/step - loss: 0.2004 - accuracy: 0.9135 - val_loss: 0.2045 - val_accuracy: 0.9133\n",
      "Epoch 20/30\n",
      "1282/1282 [==============================] - 20s 15ms/step - loss: 0.1972 - accuracy: 0.9147 - val_loss: 0.2090 - val_accuracy: 0.9123\n",
      "Epoch 21/30\n",
      "1282/1282 [==============================] - 20s 16ms/step - loss: 0.1953 - accuracy: 0.9158 - val_loss: 0.2085 - val_accuracy: 0.9136\n",
      "Epoch 22/30\n",
      "1282/1282 [==============================] - 20s 16ms/step - loss: 0.1946 - accuracy: 0.9163 - val_loss: 0.2086 - val_accuracy: 0.9130\n",
      "Epoch 23/30\n",
      "1282/1282 [==============================] - 20s 15ms/step - loss: 0.1908 - accuracy: 0.9172 - val_loss: 0.2161 - val_accuracy: 0.9126\n",
      "Epoch 24/30\n",
      "1282/1282 [==============================] - 20s 15ms/step - loss: 0.1893 - accuracy: 0.9178 - val_loss: 0.2086 - val_accuracy: 0.9120\n",
      "Epoch 25/30\n",
      "1282/1282 [==============================] - 20s 15ms/step - loss: 0.1881 - accuracy: 0.9186 - val_loss: 0.2065 - val_accuracy: 0.9140\n",
      "Epoch 26/30\n",
      "1282/1282 [==============================] - 20s 15ms/step - loss: 0.1856 - accuracy: 0.9193 - val_loss: 0.2089 - val_accuracy: 0.9150\n",
      "Epoch 27/30\n",
      "1282/1282 [==============================] - 20s 15ms/step - loss: 0.1851 - accuracy: 0.9195 - val_loss: 0.2072 - val_accuracy: 0.9149\n",
      "Epoch 28/30\n",
      "1282/1282 [==============================] - 20s 16ms/step - loss: 0.1839 - accuracy: 0.9210 - val_loss: 0.2100 - val_accuracy: 0.9115\n",
      "Epoch 29/30\n",
      "1282/1282 [==============================] - 20s 16ms/step - loss: 0.1799 - accuracy: 0.9220 - val_loss: 0.2005 - val_accuracy: 0.9184\n",
      "Epoch 30/30\n",
      "1282/1282 [==============================] - 20s 16ms/step - loss: 0.1800 - accuracy: 0.9216 - val_loss: 0.2199 - val_accuracy: 0.9129\n"
     ]
    }
   ],
   "source": [
    "history1 = model1.fit(x_train, train_label, batch_size=batch_size,epochs=epochs,verbose=1,validation_data=(valid_x, valid_label),shuffle=True)"
   ]
  },
  {
   "cell_type": "code",
   "execution_count": null,
   "id": "3da15f70",
   "metadata": {},
   "outputs": [],
   "source": [
    "# Load the model\n",
    "stacked_model = load_model('stack_ensemble.h5')"
   ]
  },
  {
   "cell_type": "code",
   "execution_count": null,
   "id": "db59efab",
   "metadata": {},
   "outputs": [],
   "source": [
    "# make a prediction with a stacked model\n",
    "def predict_stacked_model(stacked_model, inputX):\n",
    "\t# prepare input data\n",
    "\tX = [inputX for _ in range(len(stacked_model.input))]\n",
    "\t# make prediction\n",
    "\treturn stacked_model.predict(X, verbose=1)"
   ]
  },
  {
   "cell_type": "code",
   "execution_count": null,
   "id": "b5c2a111",
   "metadata": {
    "id": "b5c2a111"
   },
   "outputs": [],
   "source": [
    "#model lstm\n",
    "# def model_lstm ():\n",
    "model2 = Sequential()\n",
    "# model2.add(LSTM(128,activation='relu',  return_sequences=True, input_shape=(x_train.shape[1], x_train.shape[2]*x_train.shape[2])))\n",
    "model2.add(LSTM(128,activation='relu',  return_sequences=True, input_shape=(5, 5)))\n",
    "# model.add(Dropout(0.25))\n",
    "# Second LSTM layer\n",
    "# model.add(CuDNNLSTM(128))\n",
    "model2.add(LSTM(256,  return_sequences=False))\n",
    "# model.add(Dropout(0.25))\n",
    "# model.add(LSTM(128, activation = \"relu\"))\n",
    "\n",
    "\n",
    "model2.add(Flatten())\n",
    "model2.add(Dense(512, activation = \"relu\"))\n",
    "model2.add(Dropout(0.3))\n",
    "model2.add(Dense(256, activation = \"relu\"))\n",
    "# The output layer\n",
    "model2.add(Dense(7, activation = \"softmax\"))\n",
    "\n",
    "model2.summary()"
   ]
  },
  {
   "cell_type": "code",
   "execution_count": null,
   "id": "dac51b66",
   "metadata": {
    "id": "dac51b66"
   },
   "outputs": [],
   "source": [
    "optimizer = Adam(learning_rate=0.001)\n",
    "model2.compile(optimizer = optimizer , loss = \"categorical_crossentropy\", metrics=[\"accuracy\"])"
   ]
  },
  {
   "cell_type": "code",
   "execution_count": null,
   "id": "ca8ff7eb",
   "metadata": {
    "colab": {
     "base_uri": "https://localhost:8080/"
    },
    "executionInfo": {
     "elapsed": 4646552,
     "status": "ok",
     "timestamp": 1652375177669,
     "user": {
      "displayName": "IBRAHIM SAYEM",
      "userId": "04342073124846378643"
     },
     "user_tz": 240
    },
    "id": "ca8ff7eb",
    "outputId": "58464385-1404-443e-889b-767293ea7ad8"
   },
   "outputs": [],
   "source": [
    "history2 = model2.fit(x_train, train_label, batch_size=batch_size,epochs=epochs,verbose=1,validation_data=(valid_x, valid_label),shuffle=True)"
   ]
  },
  {
   "cell_type": "code",
   "execution_count": null,
   "id": "e7b1893a",
   "metadata": {},
   "outputs": [],
   "source": [
    "history2.summary()"
   ]
  },
  {
   "cell_type": "code",
   "execution_count": null,
   "id": "YRL9IKw9AMvw",
   "metadata": {
    "id": "YRL9IKw9AMvw"
   },
   "outputs": [],
   "source": [
    "# from scikeras.wrappers import KerasClassifier, KerasRegressor\n",
    "# NN_clf2=KerasClassifier(build_fn=model_lstm, epochs=5, batch_size= 64)"
   ]
  },
  {
   "cell_type": "code",
   "execution_count": null,
   "id": "23455116",
   "metadata": {
    "id": "23455116"
   },
   "outputs": [],
   "source": [
    "model2.save('model2.h5')"
   ]
  },
  {
   "cell_type": "code",
   "execution_count": null,
   "id": "b33a2fef",
   "metadata": {},
   "outputs": [],
   "source": [
    "input_shape= x_train.shape[1]*x_train.shape[1]\n",
    "input_shape"
   ]
  },
  {
   "cell_type": "code",
   "execution_count": null,
   "id": "a6a4c0f1",
   "metadata": {
    "id": "a6a4c0f1"
   },
   "outputs": [],
   "source": [
    "# def model_gru():\n",
    "# Adjust input_shape according to x_train's shape\n",
    "input_shape = (x_train.shape[1], x_train.shape[2])\n",
    "model3 = Sequential()\n",
    "model3.add(GRU(64, input_shape=input_shape, activation='tanh', return_sequences=True))\n",
    "# model3.add(GRU(64, (2, 2), activation='tanh',padding='same'))\n",
    "# model3.add(MaxPooling2D((2, 2),padding='same'))\n",
    "# model.add(Dropout(0.1))\n",
    "model3.add(GRU(128, activation='tanh', return_sequences=True))\n",
    "# model3.add(GRU(128, (2, 2), activation='tanh',padding='same'))\n",
    "# model.add(Conv2D(64, (2, 2), activation='relu',padding='same')) \n",
    "# model3.add(MaxPooling2D(pool_size=(2, 2),padding='same'))\n",
    "model3.add(Dropout(0.10))\n",
    "model3.add(GRU(256, activation='tanh'))\n",
    "# model3.add(GRU(256, (2, 2), activation='tanh',padding='same'))\n",
    "# model.add(Conv2D(128, (2, 2), activation='relu',padding='same'))\n",
    "# model.add(Conv2D(256, (2, 2), activation='relu',padding='same'))\n",
    "# model3.add(MaxPooling2D(pool_size=(2, 2),padding='same'))\n",
    "# model.add(Dropout(0.10))\n",
    "\n",
    "model3.add(Flatten())\n",
    "model3.add(Dense(512, activation='relu'))       \n",
    "model3.add(Dropout(0.3))\n",
    "model3.add(Dense(256, activation='relu'))\n",
    "model3.add(Dense(num_classes, activation='softmax'))\n",
    "\n",
    "model3.summary()"
   ]
  },
  {
   "cell_type": "code",
   "execution_count": null,
   "id": "4aafabaf",
   "metadata": {
    "id": "4aafabaf"
   },
   "outputs": [],
   "source": [
    "optimizer = Adam(learning_rate=0.001)\n",
    "model3.compile(optimizer = optimizer , loss = \"categorical_crossentropy\", metrics=[\"accuracy\"])"
   ]
  },
  {
   "cell_type": "code",
   "execution_count": null,
   "id": "d526f1d0",
   "metadata": {
    "colab": {
     "base_uri": "https://localhost:8080/"
    },
    "executionInfo": {
     "elapsed": 4589391,
     "status": "ok",
     "timestamp": 1652381558541,
     "user": {
      "displayName": "IBRAHIM SAYEM",
      "userId": "04342073124846378643"
     },
     "user_tz": 240
    },
    "id": "d526f1d0",
    "outputId": "d4ea0764-f604-40a9-ceb7-8444b5a2f63b"
   },
   "outputs": [],
   "source": [
    "history3 = model3.fit(x_train, train_label, batch_size=batch_size,epochs=epochs,verbose=1,validation_data=(valid_x, valid_label),shuffle=True)"
   ]
  },
  {
   "cell_type": "code",
   "execution_count": null,
   "id": "a4J2IS_4AhCe",
   "metadata": {
    "id": "a4J2IS_4AhCe"
   },
   "outputs": [],
   "source": [
    "# from scikeras.wrappers import KerasClassifier, KerasRegressor\n",
    "# NN_clf3=KerasClassifier(build_fn=model_gru, epochs=5, batch_size= 64)"
   ]
  },
  {
   "cell_type": "code",
   "execution_count": null,
   "id": "ey1D7jknD1ZH",
   "metadata": {
    "id": "ey1D7jknD1ZH"
   },
   "outputs": [],
   "source": [
    "# intermediate = [('NN1', NN_clf1), ('NN2', NN_clf2), ('NN3', NN_clf3)]\n",
    "# intermediate"
   ]
  },
  {
   "cell_type": "code",
   "execution_count": null,
   "id": "Xt8tSj6mD_WO",
   "metadata": {
    "colab": {
     "base_uri": "https://localhost:8080/"
    },
    "executionInfo": {
     "elapsed": 152,
     "status": "ok",
     "timestamp": 1652289290869,
     "user": {
      "displayName": "IBRAHIM SAYEM",
      "userId": "04342073124846378643"
     },
     "user_tz": 240
    },
    "id": "Xt8tSj6mD_WO",
    "outputId": "5366ddc9-6b61-46fb-ced1-22e9620f2570"
   },
   "outputs": [],
   "source": [
    "# from sklearn.ensemble import StackingClassifier\n",
    "# from sklearn.neural_network import MLPClassifier\n",
    "# clf = StackingClassifier(estimators=intermediate, final_estimator=MLPClassifier())\n",
    "# train_label.reshape(-1)\n",
    "# train_label.shape\n",
    "# clf.fit(x_train, train_label)"
   ]
  },
  {
   "cell_type": "code",
   "execution_count": null,
   "id": "9a48dc66",
   "metadata": {
    "id": "9a48dc66"
   },
   "outputs": [],
   "source": [
    "model3.save('model3.h5')"
   ]
  },
  {
   "cell_type": "code",
   "execution_count": 35,
   "id": "fb10efd2",
   "metadata": {
    "colab": {
     "base_uri": "https://localhost:8080/",
     "height": 295
    },
    "executionInfo": {
     "elapsed": 547,
     "status": "ok",
     "timestamp": 1652381733882,
     "user": {
      "displayName": "IBRAHIM SAYEM",
      "userId": "04342073124846378643"
     },
     "user_tz": 240
    },
    "id": "fb10efd2",
    "outputId": "718ac397-fc58-4bd6-b788-b1bfae8e6b07"
   },
   "outputs": [
    {
     "data": {
      "image/png": "[encoded data removed]",
      "text/plain": [
       "<Figure size 432x288 with 1 Axes>"
      ]
     },
     "metadata": {
      "needs_background": "light"
     },
     "output_type": "display_data"
    }
   ],
   "source": [
    "import seaborn as sns\n",
    "import matplotlib.pyplot as plt\n",
    "epochs = range(1,30)\n",
    "plt.plot(history1.history['val_accuracy'], color='r', label=\"validation accuracy\")\n",
    "plt.plot(history1.history['accuracy'], color='b', label=\"training accuracy\")\n",
    "plt.title('Training and Validation Accuracy LSTM')\n",
    "plt.xlabel('Epochs')\n",
    "plt.ylabel('Accuracy')\n",
    "plt.legend()\n",
    "plt.show()"
   ]
  },
  {
   "cell_type": "code",
   "execution_count": 36,
   "id": "82280369",
   "metadata": {
    "colab": {
     "base_uri": "https://localhost:8080/",
     "height": 295
    },
    "executionInfo": {
     "elapsed": 604,
     "status": "ok",
     "timestamp": 1652381739058,
     "user": {
      "displayName": "IBRAHIM SAYEM",
      "userId": "04342073124846378643"
     },
     "user_tz": 240
    },
    "id": "82280369",
    "outputId": "835bc023-731c-494b-c107-82beda3abd9b"
   },
   "outputs": [
    {
     "data": {
      "image/png": "[encoded data removed]",
      "text/plain": [
       "<Figure size 432x288 with 1 Axes>"
      ]
     },
     "metadata": {
      "needs_background": "light"
     },
     "output_type": "display_data"
    }
   ],
   "source": [
    "epochs = range(1,30)\n",
    "plt.plot(history1.history['val_loss'], color='r', label=\"validation loss\")\n",
    "plt.plot(history1.history['loss'], color='b', label=\"training loss\")\n",
    "plt.title('Training and Validation loss LSTM')\n",
    "plt.xlabel('Epochs')\n",
    "plt.ylabel('Loss')\n",
    "plt.legend()\n",
    "plt.show()"
   ]
  },
  {
   "cell_type": "code",
   "execution_count": 37,
   "id": "96948fb2",
   "metadata": {
    "colab": {
     "base_uri": "https://localhost:8080/",
     "height": 583
    },
    "executionInfo": {
     "elapsed": 21490,
     "status": "ok",
     "timestamp": 1652381763862,
     "user": {
      "displayName": "IBRAHIM SAYEM",
      "userId": "04342073124846378643"
     },
     "user_tz": 240
    },
    "id": "96948fb2",
    "outputId": "3a5cbc31-d975-4a3a-9689-84cc934eb08a"
   },
   "outputs": [
    {
     "data": {
      "image/png": "[encoded data removed]",
      "text/plain": [
       "<Figure size 576x576 with 2 Axes>"
      ]
     },
     "metadata": {
      "needs_background": "light"
     },
     "output_type": "display_data"
    }
   ],
   "source": [
    "import seaborn as sns\n",
    "from sklearn.metrics import confusion_matrix\n",
    "# Predict the values from the validation dataset\n",
    "Y_pred = model1.predict(valid_x)\n",
    "# Convert predictions classes to one hot vectors \n",
    "Y_pred_classes = np.argmax(Y_pred,axis = 1) \n",
    "# Convert validation observations to one hot vectors\n",
    "Y_true = np.argmax(valid_label,axis = 1) \n",
    "# compute the confusion matrix\n",
    "confusion_mtx = confusion_matrix(Y_true, Y_pred_classes) \n",
    "# plot the confusion matrix\n",
    "f,ax = plt.subplots(figsize=(8, 8))\n",
    "cmn = confusion_mtx.astype('float') / confusion_mtx.sum(axis=1)[:, np.newaxis]\n",
    "class_names = ['Dos',\n",
    "               'Fuzzers', 'Generic', 'Normal', 'Reconnaissance','Shellcode', 'Worms']\n",
    "sns.heatmap(cmn, annot=True, linewidths=0.02,cmap=\"Reds\",linecolor=\"gray\", fmt= '.2f',xticklabels=class_names, yticklabels=class_names)\n",
    "plt.xlabel(\"Predicted Label\")\n",
    "plt.ylabel(\"True Label\")\n",
    "plt.title(\"Confusion Matrix\")\n",
    "plt.show()"
   ]
  },
  {
   "cell_type": "code",
   "execution_count": 38,
   "id": "cd7adc6a",
   "metadata": {
    "colab": {
     "base_uri": "https://localhost:8080/"
    },
    "executionInfo": {
     "elapsed": 15,
     "status": "ok",
     "timestamp": 1652381763863,
     "user": {
      "displayName": "IBRAHIM SAYEM",
      "userId": "04342073124846378643"
     },
     "user_tz": 240
    },
    "id": "cd7adc6a",
    "outputId": "f2248691-1604-48b5-9f30-49cf20129e64"
   },
   "outputs": [
    {
     "name": "stdout",
     "output_type": "stream",
     "text": [
      "Recall: 0.913\n"
     ]
    }
   ],
   "source": [
    "#Recall Score\n",
    "from sklearn.metrics import recall_score\n",
    "\n",
    "recall = recall_score(Y_true, Y_pred_classes, labels=[0,1,2,3,4,5,6], average='weighted')\n",
    "\n",
    "print('Recall: %.3f' % recall)"
   ]
  },
  {
   "cell_type": "code",
   "execution_count": 39,
   "id": "9be8e05a",
   "metadata": {
    "colab": {
     "base_uri": "https://localhost:8080/"
    },
    "executionInfo": {
     "elapsed": 25,
     "status": "ok",
     "timestamp": 1652381763999,
     "user": {
      "displayName": "IBRAHIM SAYEM",
      "userId": "04342073124846378643"
     },
     "user_tz": 240
    },
    "id": "9be8e05a",
    "outputId": "383933d9-9cda-41f7-dad5-63844d1f7229"
   },
   "outputs": [
    {
     "name": "stdout",
     "output_type": "stream",
     "text": [
      "Recall: 0.911\n"
     ]
    }
   ],
   "source": [
    "#Precision Score\n",
    "from sklearn.metrics import precision_score\n",
    "precision = precision_score(Y_true, Y_pred_classes,labels=[0,1,2,3,4,5,6], average='weighted')\n",
    "print('Recall: %.3f' % precision)"
   ]
  },
  {
   "cell_type": "code",
   "execution_count": 40,
   "id": "dba21341",
   "metadata": {
    "colab": {
     "base_uri": "https://localhost:8080/"
    },
    "executionInfo": {
     "elapsed": 11,
     "status": "ok",
     "timestamp": 1652381763999,
     "user": {
      "displayName": "IBRAHIM SAYEM",
      "userId": "04342073124846378643"
     },
     "user_tz": 240
    },
    "id": "dba21341",
    "outputId": "9d3fb674-c94a-40c8-963a-af484b8c58e3"
   },
   "outputs": [
    {
     "name": "stdout",
     "output_type": "stream",
     "text": [
      "F-Measure: 0.910\n"
     ]
    }
   ],
   "source": [
    "from sklearn.metrics import f1_score\n",
    "f1_m = f1_score(Y_true, Y_pred_classes, labels=[0,1,2,3,4,5,6], average='weighted')\n",
    "print('F-Measure: %.3f' % f1_m)"
   ]
  },
  {
   "cell_type": "code",
   "execution_count": 42,
   "id": "07fd6378",
   "metadata": {},
   "outputs": [
    {
     "name": "stdout",
     "output_type": "stream",
     "text": [
      "976/976 [==============================] - 5s 5ms/step - loss: 0.3994 - accuracy: 0.8900\n",
      "Test loss: 0.3994431495666504\n",
      "Test accuracy: 0.8900134563446045\n"
     ]
    }
   ],
   "source": [
    "# x_test.shape, y_test.shape\n",
    "test_eval = model1.evaluate(x_test, y_test, verbose= 1 )\n",
    "print( 'Test loss:' , test_eval[0])\n",
    "print( 'Test accuracy:' , test_eval[1])"
   ]
  },
  {
   "cell_type": "code",
   "execution_count": 44,
   "id": "cc3875be",
   "metadata": {},
   "outputs": [
    {
     "name": "stdout",
     "output_type": "stream",
     "text": [
      "976/976 [==============================] - 9s 9ms/step - loss: 0.3161 - accuracy: 0.8795\n",
      "              precision    recall  f1-score   support\n",
      "\n",
      "           0       0.50      0.90      0.64      2453\n",
      "           1       0.75      0.44      0.55      3637\n",
      "           2       1.00      0.98      0.99      8831\n",
      "           3       0.90      0.94      0.92     13950\n",
      "           4       0.91      0.55      0.69      2098\n",
      "           5       0.78      0.31      0.44       227\n",
      "           6       0.65      0.77      0.70        26\n",
      "\n",
      "    accuracy                           0.86     31222\n",
      "   macro avg       0.78      0.70      0.70     31222\n",
      "weighted avg       0.88      0.86      0.85     31222\n",
      "\n"
     ]
    }
   ],
   "source": [
    "model1.fit(x_test, y_test)\n",
    "Y_pred =model1.predict(x_test)\n",
    "predicted_classes = np.argmax(np.round(Y_pred),axis= 1)\n",
    "\n",
    "Y_test = np.argmax(y_test, axis=1)\n",
    "from sklearn.metrics import classification_report\n",
    "import matplotlib.pyplot as plt\n",
    "from sklearn.metrics import plot_confusion_matrix\n",
    "confusion_matrix(Y_test, predicted_classes) \n",
    "plt.show()\n",
    "print(classification_report(Y_test, predicted_classes))"
   ]
  },
  {
   "cell_type": "code",
   "execution_count": 46,
   "id": "30fbc9a2",
   "metadata": {},
   "outputs": [
    {
     "name": "stdout",
     "output_type": "stream",
     "text": [
      "976/976 [==============================] - 8s 9ms/step - loss: 0.2742 - accuracy: 0.8893\n",
      "Accuracy per class:\n",
      "Class 0: 0.929\n",
      "Class 1: 0.490\n",
      "Class 2: 0.978\n",
      "Class 3: 0.956\n",
      "Class 4: 0.806\n",
      "Class 5: 0.423\n",
      "Class 6: 0.731\n",
      "\n",
      "Weighted accuracy per class:\n",
      "Class 0: 0.623\n",
      "Class 1: 0.791\n",
      "Class 2: 0.999\n",
      "Class 3: 0.904\n",
      "Class 4: 0.956\n",
      "Class 5: 0.756\n",
      "Class 6: 0.760\n"
     ]
    },
    {
     "data": {
      "image/png": "[encoded data removed]",
      "text/plain": [
       "<Figure size 576x432 with 2 Axes>"
      ]
     },
     "metadata": {
      "needs_background": "light"
     },
     "output_type": "display_data"
    },
    {
     "name": "stdout",
     "output_type": "stream",
     "text": [
      "\n",
      "Classification Report:\n",
      "              precision    recall  f1-score   support\n",
      "\n",
      "           0       0.62      0.93      0.75      2453\n",
      "           1       0.79      0.49      0.61      3637\n",
      "           2       1.00      0.98      0.99      8831\n",
      "           3       0.90      0.96      0.93     13950\n",
      "           4       0.96      0.81      0.88      2098\n",
      "           5       0.76      0.42      0.54       227\n",
      "           6       0.76      0.73      0.75        26\n",
      "\n",
      "    accuracy                           0.89     31222\n",
      "   macro avg       0.83      0.76      0.78     31222\n",
      "weighted avg       0.90      0.89      0.89     31222\n",
      "\n"
     ]
    }
   ],
   "source": [
    "from sklearn.metrics import accuracy_score, classification_report, confusion_matrix\n",
    "import matplotlib.pyplot as plt\n",
    "\n",
    "# Assuming model1 is your trained model and x_test, y_test are your test data\n",
    "model1.fit(x_test, y_test)  # Fit the model (assuming x_train, y_train are defined)\n",
    "Y_pred = model1.predict(x_test)  # Predict classes for test data\n",
    "\n",
    "# Convert predictions and true labels to class indices\n",
    "predicted_classes = np.argmax(np.round(Y_pred), axis=1)\n",
    "Y_test = np.argmax(y_test, axis=1)\n",
    "\n",
    "# Calculate accuracy for each class\n",
    "accuracy_per_class = []\n",
    "for class_idx in np.unique(Y_test):\n",
    "    idx = Y_test == class_idx\n",
    "    accuracy = accuracy_score(Y_test[idx], predicted_classes[idx])\n",
    "    accuracy_per_class.append(accuracy)\n",
    "\n",
    "# Calculate weighted accuracy (weighted by support)\n",
    "weighted_accuracy_per_class = []\n",
    "class_report = classification_report(Y_test, predicted_classes, output_dict=True)\n",
    "for class_idx in np.unique(Y_test):\n",
    "    weighted_accuracy = class_report[str(class_idx)]['precision']\n",
    "    weighted_accuracy_per_class.append(weighted_accuracy)\n",
    "\n",
    "# Print or use these metrics as needed\n",
    "print(\"Accuracy per class:\")\n",
    "for class_idx, acc in enumerate(accuracy_per_class):\n",
    "    print(f\"Class {class_idx}: {acc:.3f}\")\n",
    "\n",
    "print(\"\\nWeighted accuracy per class:\")\n",
    "for class_idx, acc in enumerate(weighted_accuracy_per_class):\n",
    "    print(f\"Class {class_idx}: {acc:.3f}\")\n",
    "\n",
    "# Plot confusion matrix\n",
    "cm = confusion_matrix(Y_test, predicted_classes)\n",
    "plt.figure(figsize=(8, 6))\n",
    "plt.imshow(cm, interpolation='nearest', cmap=plt.cm.Blues)\n",
    "plt.title('Confusion Matrix')\n",
    "plt.colorbar()\n",
    "plt.xticks(np.arange(len(np.unique(Y_test))), np.unique(Y_test))\n",
    "plt.yticks(np.arange(len(np.unique(Y_test))), np.unique(Y_test))\n",
    "plt.ylabel('True label')\n",
    "plt.xlabel('Predicted label')\n",
    "plt.tight_layout()\n",
    "plt.show()\n",
    "\n",
    "# Print classification report\n",
    "print(\"\\nClassification Report:\")\n",
    "print(classification_report(Y_test, predicted_classes))\n"
   ]
  },
  {
   "cell_type": "code",
   "execution_count": null,
   "id": "d388357e",
   "metadata": {
    "colab": {
     "base_uri": "https://localhost:8080/"
    },
    "executionInfo": {
     "elapsed": 10430,
     "status": "ok",
     "timestamp": 1652381774421,
     "user": {
      "displayName": "IBRAHIM SAYEM",
      "userId": "04342073124846378643"
     },
     "user_tz": 240
    },
    "id": "d388357e",
    "outputId": "19c38e0f-2d91-49fa-bf0f-6f4c6a06d2e6"
   },
   "outputs": [],
   "source": [
    "from sklearn import metrics\n",
    "predicted_classes = model1.predict(x_test)\n",
    "predicted_classes = np.argmax(np.round(predicted_classes),axis= 1)\n",
    "\n",
    "Y_test = np.argmax(y_test, axis=1)\n",
    "print(predicted_classes.shape)\n",
    "print(y_test.shape)\n",
    "\n",
    "# Print the confusion matrix\n",
    "print(metrics.confusion_matrix(Y_test, predicted_classes))\n",
    "\n",
    "# Print the precision and recall, among other metrics\n",
    "print(metrics.classification_report(Y_test, predicted_classes, digits=3))"
   ]
  },
  {
   "cell_type": "code",
   "execution_count": null,
   "id": "AfL_FtHYp9ah",
   "metadata": {
    "id": "AfL_FtHYp9ah"
   },
   "outputs": [],
   "source": [
    "from keras.layers.merge import concatenate\n",
    "from keras.utils.vis_utils import plot_model\n",
    "from keras.models import Model\n",
    "from tensorflow.keras.models import Model\n",
    "from keras.layers import Input\n",
    "from keras.models import load_model"
   ]
  },
  {
   "cell_type": "code",
   "execution_count": null,
   "id": "523eaad4",
   "metadata": {
    "id": "523eaad4"
   },
   "outputs": [],
   "source": [
    "from sklearn.metrics import f1_score\n",
    "from sklearn.metrics import recall_score\n",
    "from sklearn.metrics import precision_score\n",
    "dependencies = {\n",
    "    'f1_m': f1_score,\n",
    "    'recall_m': recall_score,\n",
    "    'precision': precision_score\n",
    "}"
   ]
  },
  {
   "cell_type": "code",
   "execution_count": null,
   "id": "2dfefa9e",
   "metadata": {
    "id": "2dfefa9e"
   },
   "outputs": [],
   "source": [
    "# load models from file\n",
    "def load_all_models(n_models):\n",
    "\tall_models = list()\n",
    "\tfor i in range(n_models):\n",
    "\t\t# define filename for this ensemble\n",
    "\t\tfilename = 'model' + str(i + 1) + '.h5'\n",
    "\t\t# load model from file\n",
    "\t\tmodel = load_model(filename,custom_objects=dependencies)\n",
    "\t\t# add to list of members\n",
    "\t\tall_models.append(model)\n",
    "\t\tprint('>loaded %s' % filename)\n",
    "\treturn all_models"
   ]
  },
  {
   "cell_type": "code",
   "execution_count": null,
   "id": "d02fc699",
   "metadata": {
    "colab": {
     "base_uri": "https://localhost:8080/"
    },
    "executionInfo": {
     "elapsed": 3841,
     "status": "ok",
     "timestamp": 1652388350218,
     "user": {
      "displayName": "IBRAHIM SAYEM",
      "userId": "04342073124846378643"
     },
     "user_tz": 240
    },
    "id": "d02fc699",
    "outputId": "d60e0597-dac9-452b-cbcd-525bdda72c7d"
   },
   "outputs": [],
   "source": [
    "n_members = 2\n",
    "members = load_all_models(n_members)\n",
    "print('Loaded %d models' % len(members))"
   ]
  },
  {
   "cell_type": "code",
   "execution_count": null,
   "id": "b3187ff4",
   "metadata": {},
   "outputs": [],
   "source": [
    "import keras\n",
    "from keras.models import Sequential, Input, Model\n",
    "from keras.layers import Dense, LSTM, Dropout, GRU, Bidirectional, Flatten, CuDNNLSTM, Bidirectional, Reshape\n",
    "from keras.layers import Conv2D, MaxPooling2D, BatchNormalization\n",
    "# from tensorflow.keras.layers import BatchNormalization\n",
    "from keras.layers.advanced_activations import LeakyReLU\n",
    "from tensorflow.keras.optimizers import RMSprop,Adam, SGD\n",
    "import tensorflow as tf \n",
    "from sklearn.utils import class_weight\n",
    "from numpy import dstack\n",
    "from keras.models import model_from_json, load_model\n",
    "from keras.preprocessing.image import ImageDataGenerator"
   ]
  },
  {
   "cell_type": "code",
   "execution_count": null,
   "id": "64OpWS2mnKeC",
   "metadata": {
    "id": "64OpWS2mnKeC"
   },
   "outputs": [],
   "source": [
    "# define stacked model from multiple member input models\n",
    "def define_stacked_model(members):\n",
    "\t# update all layers in all models to not be trainable\n",
    "\tfor i in range(len(members)):\n",
    "\t\tmodel = members[i]\n",
    "\t\tfor layer in model.layers:\n",
    "\t\t\t# make not trainable\n",
    "\t\t\tlayer.trainable = False\n",
    "\t\t\t# rename to avoid 'unique layer name' issue\n",
    "\t\t\tlayer._name = 'ensemble_' + str(i+1) + '_' + layer.name\n",
    "\t# define multi-headed input\n",
    "\tensemble_visible = [model.input for model in members]\n",
    "\t# concatenate merge output from each model\n",
    "\tensemble_outputs = [model.output for model in members]\n",
    "\tmerge = concatenate(ensemble_outputs)\n",
    "\tprint(merge.shape)\n",
    "# \tmodel.add(Flatten())\n",
    "# fit standalone model\n",
    "\tflatten = Flatten()(merge)\n",
    "\thidden = Dense(1024, activation='relu')(flatten)\n",
    "\thidden = Dropout(0.5)(hidden)  # Adding dropout layer\n",
    "\thidden = Dense(512, activation='relu')(hidden)\n",
    "\thidden = Dropout(0.5)(hidden)  # Adding dropout layer\n",
    "\n",
    "\t# print(hidden.shape)\n",
    "\toutput = Dense(7, activation='softmax')(hidden)\n",
    "\t# print(output.shape)\n",
    "\tmodel = Model(inputs=ensemble_visible, outputs=output)\n",
    "\t# print(model.shape)\n",
    "\t# plot graph of ensemble\n",
    "\tplot_model(model, show_shapes=True, to_file='model_graph.png')\n",
    "\t# compile\n",
    "\tmodel.compile(loss='categorical_crossentropy', optimizer='adam', metrics=['accuracy'])\n",
    "\treturn model\n",
    "\n",
    "# Create the stacked model\n",
    "stacked_model = define_stacked_model(members)"
   ]
  },
  {
   "cell_type": "code",
   "execution_count": null,
   "id": "2VPTq841CDmW",
   "metadata": {
    "colab": {
     "base_uri": "https://localhost:8080/",
     "height": 165
    },
    "executionInfo": {
     "elapsed": 111,
     "status": "error",
     "timestamp": 1652389414449,
     "user": {
      "displayName": "IBRAHIM SAYEM",
      "userId": "04342073124846378643"
     },
     "user_tz": 240
    },
    "id": "2VPTq841CDmW",
    "outputId": "00711e89-60e2-4e11-a17b-8868739d4a24"
   },
   "outputs": [],
   "source": [
    "define_stacked_model.summary()"
   ]
  },
  {
   "cell_type": "code",
   "execution_count": null,
   "id": "xbh3pr2Pospz",
   "metadata": {
    "colab": {
     "base_uri": "https://localhost:8080/"
    },
    "executionInfo": {
     "elapsed": 769,
     "status": "ok",
     "timestamp": 1652388354650,
     "user": {
      "displayName": "IBRAHIM SAYEM",
      "userId": "04342073124846378643"
     },
     "user_tz": 240
    },
    "id": "xbh3pr2Pospz",
    "outputId": "84ab0b96-3a3f-4d6d-efa0-db0f61149514"
   },
   "outputs": [],
   "source": [
    "# define ensemble model\n",
    "stacked_model = define_stacked_model(members)"
   ]
  },
  {
   "cell_type": "code",
   "execution_count": null,
   "id": "JA5QtTp1be7Y",
   "metadata": {
    "id": "JA5QtTp1be7Y"
   },
   "outputs": [],
   "source": [
    "# aug = tf.keras.preprocessing.image.ImageDataGenerator(\n",
    "#           rotation_range=10,\n",
    "#           zoom_range=0.15,\n",
    "#           width_shift_range=0.1,\n",
    "#           height_shift_range=0.1,\n",
    "#           shear_range=0.15,\n",
    "#           horizontal_flip= False,\n",
    "#           vertical_flip= False,\n",
    "#           fill_mode=\"nearest\"\n",
    "#           )"
   ]
  },
  {
   "cell_type": "code",
   "execution_count": null,
   "id": "DUrFTN0soNQ6",
   "metadata": {
    "id": "DUrFTN0soNQ6"
   },
   "outputs": [],
   "source": [
    "\n",
    "# fit a stacked model\n",
    "def fit_stacked_model(stacked_model, inputX, inputy):\n",
    "\t# prepare input data\n",
    "\tX = [inputX for _ in range(len(stacked_model.input))]\n",
    "\t# encode output data\n",
    "\t# inputy_enc = to_categorical(inputy)\n",
    "\t# fit model\n",
    "\t\n",
    "\tstacked_model.fit(X, inputy, epochs=30, batch_size=128, verbose=1, shuffle=True)\n",
    "#  history3 = model3.fit(x_train, train_label, batch_size=batch_size,epochs=epochs,verbose=1,validation_data=(valid_x, valid_label),shuffle=True)\n",
    "\treturn stacked_model"
   ]
  },
  {
   "cell_type": "code",
   "execution_count": null,
   "id": "8c870963",
   "metadata": {},
   "outputs": [],
   "source": [
    "from tensorflow.keras.models import save_model\n",
    "\n",
    "# fit a stacked model\n",
    "def fit_stacked_model(stacked_model, inputX, inputy, filename='stack_ensemble.h5'):\n",
    "    # prepare input data\n",
    "    X = [inputX for _ in range(len(stacked_model.input))]\n",
    "    # encode output data\n",
    "    # inputy_enc = to_categorical(inputy)\n",
    "    # fit model\n",
    "    stacked_model.fit(X, inputy, epochs=30, batch_size=128, verbose=1, shuffle=True)\n",
    "    # save the model\n",
    "    save_model(stacked_model, filename)\n",
    "    return stacked_model"
   ]
  },
  {
   "cell_type": "code",
   "execution_count": null,
   "id": "fkr_FHTjoizr",
   "metadata": {
    "colab": {
     "base_uri": "https://localhost:8080/"
    },
    "executionInfo": {
     "elapsed": 922159,
     "status": "ok",
     "timestamp": 1652387996548,
     "user": {
      "displayName": "IBRAHIM SAYEM",
      "userId": "04342073124846378643"
     },
     "user_tz": 240
    },
    "id": "fkr_FHTjoizr",
    "outputId": "1058dc93-a356-403f-ac07-c5732cc70724"
   },
   "outputs": [],
   "source": [
    "# fit stacked model on test dataset\n",
    "# print(stacked_model)\n",
    "# x_train.shape, train_label.shape\n",
    "# train_label = y_train = tf.keras.utils.to_categorical(train_label)\n",
    "fit_stacked_model(stacked_model, x_train, train_label)"
   ]
  },
  {
   "cell_type": "code",
   "execution_count": null,
   "id": "0aee7dbe",
   "metadata": {
    "id": "0aee7dbe"
   },
   "outputs": [],
   "source": [
    "# make a prediction with a stacked model\n",
    "def predict_stacked_model(stacked_model, inputX):\n",
    "\t# prepare input data\n",
    "\tX = [inputX for _ in range(len(stacked_model.input))]\n",
    "\t# make prediction\n",
    "\treturn stacked_model.predict(X, verbose=1)"
   ]
  },
  {
   "cell_type": "code",
   "execution_count": null,
   "id": "Usq-tJfE3vsg",
   "metadata": {
    "colab": {
     "base_uri": "https://localhost:8080/"
    },
    "executionInfo": {
     "elapsed": 43773,
     "status": "ok",
     "timestamp": 1652388047040,
     "user": {
      "displayName": "IBRAHIM SAYEM",
      "userId": "04342073124846378643"
     },
     "user_tz": 240
    },
    "id": "Usq-tJfE3vsg",
    "outputId": "1b5930a6-cb15-44b7-eb7f-ca4c1a79c213"
   },
   "outputs": [],
   "source": [
    "from sklearn import metrics\n",
    "predicted_classes = predict_stacked_model(stacked_model, x_test)\n",
    "predicted_classes = np.argmax(np.round(predicted_classes),axis= 1)\n",
    "\n",
    "Y_test = np.argmax(y_test, axis=1)\n",
    "print(predicted_classes.shape)\n",
    "print(y_test.shape)\n",
    "\n",
    "# Print the confusion matrix\n",
    "print(metrics.confusion_matrix(Y_test, predicted_classes))\n",
    "\n",
    "# Print the precision and recall, among other metrics\n",
    "print(metrics.classification_report(Y_test, predicted_classes, digits=3))\n",
    "# make predictions and evaluate\n",
    "# import numpy as np  \n",
    "# from sklearn.metrics import accuracy_score\n",
    "\n",
    "# yhat = predict_stacked_model(stacked_model, x_test)\n",
    "# yhat = np.argmax(yhat, axis=1)\n",
    "# acc = accuracy_score(y_test, yhat)\n",
    "# print('Stacked Test Accuracy: %.3f' % acc)"
   ]
  },
  {
   "cell_type": "code",
   "execution_count": null,
   "id": "3a1c920d",
   "metadata": {},
   "outputs": [],
   "source": [
    "import numpy as np\n",
    "from sklearn.metrics import confusion_matrix, classification_report, accuracy_score\n",
    "\n",
    "# Assuming predict_stacked_model and stacked_model are defined and x_test and y_test are the test data\n",
    "predicted_classes = predict_stacked_model(stacked_model, x_test)\n",
    "predicted_classes = np.argmax(np.round(predicted_classes), axis=1)\n",
    "\n",
    "# Assuming y_test is one-hot encoded\n",
    "Y_test = np.argmax(y_test, axis=1)\n",
    "\n",
    "# Print the shapes of the predicted and actual labels for verification\n",
    "print(predicted_classes.shape)\n",
    "print(Y_test.shape)\n",
    "\n",
    "# Print the confusion matrix\n",
    "conf_matrix = confusion_matrix(Y_test, predicted_classes)\n",
    "print(\"Confusion Matrix:\\n\", conf_matrix)\n",
    "\n",
    "# Print the precision, recall, F1 score, and other metrics\n",
    "class_report = classification_report(Y_test, predicted_classes, digits=3)\n",
    "print(\"Classification Report:\\n\", class_report)\n",
    "\n",
    "# Calculate and print the accuracy\n",
    "accuracy = accuracy_score(Y_test, predicted_classes)\n",
    "print('Stacked Test Accuracy: %.3f' % accuracy)\n"
   ]
  },
  {
   "cell_type": "code",
   "execution_count": null,
   "id": "617d8e2c",
   "metadata": {},
   "outputs": [],
   "source": [
    "import numpy as np\n",
    "import matplotlib.pyplot as plt\n",
    "import seaborn as sns\n",
    "from sklearn.metrics import confusion_matrix, classification_report, accuracy_score\n",
    "\n",
    "# Assuming predict_stacked_model and stacked_model are defined and x_test and y_test are the test data\n",
    "predicted_classes = predict_stacked_model(stacked_model, x_test)\n",
    "predicted_classes = np.argmax(np.round(predicted_classes), axis=1)\n",
    "\n",
    "# Assuming y_test is one-hot encoded\n",
    "Y_test = np.argmax(y_test, axis=1)\n",
    "\n",
    "# Print the shapes of the predicted and actual labels for verification\n",
    "print(predicted_classes.shape)\n",
    "print(Y_test.shape)\n",
    "\n",
    "# Calculate the confusion matrix\n",
    "conf_matrix = confusion_matrix(Y_test, predicted_classes)\n",
    "print(\"Confusion Matrix:\\n\", conf_matrix)\n",
    "\n",
    "# Normalize the confusion matrix by row (i.e., by the number of samples in each class)\n",
    "conf_matrix_normalized = conf_matrix.astype('float') / conf_matrix.sum(axis=1)[:, np.newaxis]\n",
    "\n",
    "# Calculate the accuracy\n",
    "accuracy = accuracy_score(Y_test, predicted_classes)\n",
    "print('Stacked Test Accuracy: %.3f' % accuracy)\n",
    "\n",
    "# Plot the normalized confusion matrix using seaborn\n",
    "plt.figure(figsize=(10, 7))\n",
    "sns.heatmap(conf_matrix_normalized, annot=True, cmap='Blues', xticklabels=np.unique(Y_test), yticklabels=np.unique(Y_test), fmt=\".2%\")\n",
    "plt.xlabel('Predicted Label')\n",
    "plt.ylabel('True Label')\n",
    "plt.title('Confusion Matrix with Percentages')\n",
    "\n",
    "# Display the accuracy on the plot\n",
    "# plt.text(0.5, 0.5, f'Accuracy: {accuracy:.3f}', ha='center', va='center', transform=plt.gca().transAxes, fontsize=20, color='red')\n",
    "plt.show()\n",
    "\n",
    "# Print the precision, recall, F1 score, and other metrics\n",
    "class_report = classification_report(Y_test, predicted_classes, digits=3)\n",
    "print(\"Classification Report:\\n\", class_report)\n"
   ]
  },
  {
   "cell_type": "code",
   "execution_count": null,
   "id": "Ko7uYfg9FFSc",
   "metadata": {
    "colab": {
     "base_uri": "https://localhost:8080/",
     "height": 235
    },
    "executionInfo": {
     "elapsed": 118,
     "status": "error",
     "timestamp": 1652389360109,
     "user": {
      "displayName": "IBRAHIM SAYEM",
      "userId": "04342073124846378643"
     },
     "user_tz": 240
    },
    "id": "Ko7uYfg9FFSc",
    "outputId": "01eeb4d6-7a7b-4162-9063-e540f518e973"
   },
   "outputs": [],
   "source": [
    "import seaborn as sns\n",
    "from sklearn.metrics import confusion_matrix\n",
    "# Predict the values from the validation dataset\n",
    "Y_pred = stacked_model.predict([x_test for _ in range(len(members))])\n",
    "# Convert predictions classes to one hot vectors \n",
    "Y_pred_classes = np.argmax(Y_pred,axis = 1) \n",
    "# Convert validation observations to one hot vectors\n",
    "Y_true = np.argmax(valid_label,axis = 1) \n",
    "# compute the confusion matrix\n",
    "confusion_mtx = confusion_matrix(Y_true, Y_pred_classes) \n",
    "# plot the confusion matrix\n",
    "f,ax = plt.subplots(figsize=(8, 8))\n",
    "cmn = confusion_mtx.astype('float') / confusion_mtx.sum(axis=1)[:, np.newaxis]\n",
    "class_names = ['Dos',\n",
    "               'Fuzzers', 'Generic', 'Normal', 'Reconnaissance','Shellcode', 'Worms']\n",
    "sns.heatmap(cmn, annot=True, linewidths=0.02,cmap=\"Reds\",linecolor=\"gray\", fmt= '.2f',xticklabels=class_names, yticklabels=class_names)\n",
    "plt.xlabel(\"Predicted Label\")\n",
    "plt.ylabel(\"True Label\")\n",
    "plt.title(\"Confusion Matrix\")\n",
    "plt.show()"
   ]
  },
  {
   "cell_type": "code",
   "execution_count": null,
   "id": "ef792016",
   "metadata": {
    "id": "ef792016"
   },
   "outputs": [],
   "source": [
    "from sklearn.linear_model import LogisticRegression\n",
    "optimizer = Adam(learning_rate=0.001)\n",
    "# model_cnn_lstm.compile(optimizer = optimizer , loss = \"categorical_crossentropy\", metrics=[\"accuracy\"])"
   ]
  },
  {
   "cell_type": "code",
   "execution_count": null,
   "id": "a6d47c68",
   "metadata": {
    "id": "a6d47c68"
   },
   "outputs": [],
   "source": [
    "# fit a model based on the outputs from the ensemble members\n",
    "def fit_stacked_model(members, inputX, inputy):\n",
    "\t# create dataset using ensemble\n",
    "\tstackedX = stacked_dataset(members, inputX)\n",
    "\tstackedX = stackedX.reshape((-1, 3,7))\n",
    "\t# fit standalone model\n",
    "\tmodel_cnn_lstm = Sequential()\n",
    "\tmodel_cnn_lstm.add(Conv2D(32, kernel_size=(2, 2),padding='same',input_shape=(3,7,1)))\n",
    "\tmodel_cnn_lstm.add(MaxPooling2D(pool_size=(2,2), padding  =\"same\"))\n",
    "\tmodel_cnn_lstm.add(Dropout(0.15))\n",
    "\n",
    "\tmodel_cnn_lstm.add(Conv2D(64, (2, 2), activation='relu',padding='same'))\n",
    "\tmodel_cnn_lstm.add(MaxPooling2D(pool_size=(2, 2),padding='same'))\n",
    "\tmodel_cnn_lstm.add(Dropout(0.15))\n",
    "\n",
    "\tmodel_cnn_lstm.add(Conv2D(128, (2, 2), activation='relu',padding='same'))           \n",
    "\tmodel_cnn_lstm.add(MaxPooling2D(pool_size=(2, 2),padding='same'))\n",
    "\tmodel_cnn_lstm.add(Dropout(0.15))\n",
    "\n",
    "\n",
    "\n",
    "\tmodel_cnn_lstm.add(Flatten())\n",
    "\t# model_cnn_lstm.add(Reshape((-1, 128)))\n",
    "\t#insert lstm\n",
    "\n",
    "\t# model_cnn_lstm.add(LSTM(64,return_sequences=True))\n",
    "\tmodel_cnn_lstm.add(Dense(1024, activation='relu'))        \n",
    "\tmodel_cnn_lstm.add(Dropout(0.3))\n",
    "\t# model_cnn_lstm.add(LSTM(64,return_sequences=False))\n",
    "\tmodel_cnn_lstm.add(Dense(512, activation='relu'))       \n",
    "\t# model_cnn_lstm.add(Dropout(0.5))\n",
    "\t# model_cnn_lstm.add(Dense(512, activation='relu'))\n",
    "\tmodel_cnn_lstm.add(Dense(num_classes, activation='softmax'))\n",
    "\t# model_cnn_lstm = LogisticRegression() #meta learner\n",
    "\tmodel_cnn_lstm.compile(optimizer = optimizer , loss = \"categorical_crossentropy\", metrics=[\"accuracy\"])\n",
    "\t# history3 = model3.fit(x_train, train_label, batch_size=batch_size,epochs=epochs,verbose=1,validation_data=(valid_x, valid_label),shuffle=True)\n",
    "\t# model_cnn_lstm.fit(stackedX, inputy, batch_size=64,epochs=5,verbose=1,validation_data=(valid_x, valid_label),shuffle=True)\n",
    "\tmodel_cnn_lstm.fit(stackedX, inputy,batch_size=64,epochs=5,verbose=1)\n",
    "\t# model_cnn_lstm.summary()\n",
    "\n",
    "\treturn model_cnn_lstm"
   ]
  },
  {
   "cell_type": "code",
   "execution_count": null,
   "id": "e5e3bfc9",
   "metadata": {
    "id": "e5e3bfc9",
    "outputId": "1764a0be-373b-43ec-e3d6-978ef323adb6"
   },
   "outputs": [],
   "source": [
    "# print(x_train.shape)\n",
    "# print(y_train.shape)\n",
    "model_cnn_lstm = fit_stacked_model(members, x_test,y_test)\n",
    "# model_cnn_lstm.summary()"
   ]
  },
  {
   "cell_type": "code",
   "execution_count": null,
   "id": "06d01329",
   "metadata": {
    "id": "06d01329"
   },
   "outputs": [],
   "source": [
    "# make a prediction with the stacked model\n",
    "def stacked_prediction(members, model_cnn_lstm, inputX):\n",
    "\t# create dataset using ensemble\n",
    "\tstackedX = stacked_dataset(members, inputX)\n",
    "\tstackedX =stackedX.reshape(-1,3,7)\n",
    "\t# make a prediction\n",
    "\tyhat = model_cnn_lstm.predict(stackedX)\n",
    "\treturn yhat"
   ]
  },
  {
   "cell_type": "code",
   "execution_count": null,
   "id": "04d70f7d",
   "metadata": {
    "id": "04d70f7d",
    "outputId": "508bcf40-a95b-4819-e5ce-8a6d315d1950"
   },
   "outputs": [],
   "source": [
    "# evaluate model on test set\n",
    "# print(valid_x.shape)\n",
    "yhat = stacked_prediction(members, model_cnn_lstm, valid_x)\n",
    "from sklearn.metrics import f1_score\n",
    "f1_m = f1_score(Y_true, Y_pred_classes, labels=[0,1,2,3,4,5,6], average='weighted')\n",
    "print('F-Measure: %.3f' % f1_m)"
   ]
  },
  {
   "cell_type": "code",
   "execution_count": null,
   "id": "edb99340",
   "metadata": {
    "id": "edb99340"
   },
   "outputs": [],
   "source": [
    "from sklearn.metrics import f1_score"
   ]
  },
  {
   "cell_type": "code",
   "execution_count": null,
   "id": "8d3ef030",
   "metadata": {
    "id": "8d3ef030"
   },
   "outputs": [],
   "source": [
    "i = 0\n",
    "for model in members:\n",
    "    i+=1\n",
    "    pred = model.predict_classes(X_test)\n",
    "    score = f1_score(y_test,pred)\n",
    "    print('F-Score of model {} is '.format(i),score)"
   ]
  }
 ],
 "metadata": {
  "colab": {
   "name": "stacking_ensemble.ipynb",
   "provenance": []
  },
  "kernelspec": {
   "display_name": "research-ids",
   "language": "python",
   "name": "research-ids"
  },
  "language_info": {
   "codemirror_mode": {
    "name": "ipython",
    "version": 3
   },
   "file_extension": ".py",
   "mimetype": "text/x-python",
   "name": "python",
   "nbconvert_exporter": "python",
   "pygments_lexer": "ipython3",
   "version": "3.7.12"
  },
  "vscode": {
   "interpreter": {
    "hash": "4deb6435e897ee4e26add0db73e7ae4bf7063bf6b1b75634cad584d079733c6f"
   }
  }
 },
 "nbformat": 4,
 "nbformat_minor": 5
}
