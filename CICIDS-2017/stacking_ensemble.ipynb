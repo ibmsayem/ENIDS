{
 "cells": [
  {
   "cell_type": "code",
   "execution_count": null,
   "id": "1d0ee355",
   "metadata": {
    "id": "1d0ee355"
   },
   "outputs": [],
   "source": [
    "import numpy as np\n",
    "import pandas as pd\n",
    "import csv\n",
    "import glob\n",
    "import matplotlib.pyplot as plt\n",
    "import seaborn as sns\n",
    "import tensorflow as tf\n",
    "from sklearn import preprocessing\n",
    "from sklearn.preprocessing import OneHotEncoder\n",
    "from sklearn.preprocessing import LabelEncoder\n",
    "from sklearn.preprocessing import MinMaxScaler\n",
    "from collections import Counter\n",
    "from sklearn.model_selection import train_test_split\n",
    "from tensorflow.keras.utils import to_categorical"
   ]
  },
  {
   "cell_type": "code",
   "execution_count": 12,
   "id": "27c199c1",
   "metadata": {},
   "outputs": [
    {
     "name": "stdout",
     "output_type": "stream",
     "text": [
      "Weighted Average Accuracy: 89.31\n"
     ]
    }
   ],
   "source": [
    "import numpy as np\n",
    "\n",
    "# Class accuracies\n",
    "accuracies = [89.51, 52.89, 98.13, 91.36, 97.03, 90.29, 98.31]\n",
    "\n",
    "# Support (number of instances) for each class\n",
    "support = [100, 200, 150, 120, 180, 130, 170]\n",
    "\n",
    "# Calculate the weighted average accuracy\n",
    "weighted_accuracy = np.average(accuracies, weights=support)\n",
    "\n",
    "print(f\"Weighted Average Accuracy: {weighted_accuracy:.2f}\")"
   ]
  },
  {
   "cell_type": "code",
   "execution_count": 2,
   "id": "8665d623",
   "metadata": {},
   "outputs": [
    {
     "name": "stdout",
     "output_type": "stream",
     "text": [
      "Weighted Average Accuracy: 0.61\n"
     ]
    }
   ],
   "source": [
    "import numpy as np\n",
    "\n",
    "# Given accuracies and support for each label\n",
    "accuracies = [0.1, 0.9, 0.3, 0.4, 0.8, 0.6, 0.7]\n",
    "support = [50, 100, 30, 70, 90, 60, 40]\n",
    "\n",
    "# Calculate weighted average accuracy\n",
    "weighted_accuracy = np.average(accuracies, weights=support)\n",
    "\n",
    "print(f\"Weighted Average Accuracy: {weighted_accuracy:.2f}\")"
   ]
  },
  {
   "cell_type": "code",
   "execution_count": null,
   "id": "b74fa926",
   "metadata": {
    "colab": {
     "base_uri": "https://localhost:8080/",
     "height": 74,
     "resources": {
      "http://localhost:8080/nbextensions/google.colab/files.js": {
       "data": "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",
       "headers": [
        [
         "content-type",
         "application/javascript"
        ]
       ],
       "ok": true,
       "status": 200,
       "status_text": ""
      }
     }
    },
    "id": "b74fa926",
    "outputId": "532b2615-5181-4a6e-fdd6-4539ef8d43e1"
   },
   "outputs": [],
   "source": [
    "path = r'C:\\Users\\ibmcs\\Downloads\\cicids2017\\full'\n",
    "all_files = glob.glob(path + \"/*.csv\")\n",
    "li = []\n",
    "for filename in all_files:\n",
    "    df = pd.read_csv(filename, index_col=None, header=0, encoding='utf-8', low_memory=False)\n",
    "    li.append(df)\n",
    "\n",
    "df = pd.concat(li, axis=0, ignore_index=True)\n",
    "# df['padding1'] = 0\n",
    "# df['padding2'] = 0\n",
    "# df['padding3'] = 0\n",
    "# df['padding4'] = 0\n",
    "df"
   ]
  },
  {
   "cell_type": "code",
   "execution_count": null,
   "id": "HjSiXbkXS7Hi",
   "metadata": {
    "colab": {
     "base_uri": "https://localhost:8080/"
    },
    "id": "HjSiXbkXS7Hi",
    "outputId": "1ee5e649-81a0-404b-f48e-ecd61c8f852a"
   },
   "outputs": [],
   "source": [
    "df.columns = df.columns.str.lower().str.lstrip().str.rstrip().str.replace(\" \",\"_\")\n",
    "df.replace([np.inf, -np.inf], np.nan, inplace=True)\n",
    "# Drop rows with NaN\n",
    "df.dropna(inplace=True)\n",
    "df.columns"
   ]
  },
  {
   "cell_type": "code",
   "execution_count": null,
   "id": "27cd9cc0",
   "metadata": {
    "colab": {
     "base_uri": "https://localhost:8080/"
    },
    "id": "27cd9cc0",
    "outputId": "01a435cb-e1a6-4637-9848-94f61a700e84"
   },
   "outputs": [],
   "source": [
    "all_obj_to_str = list(df.dtypes[df.dtypes == 'object'].index)\n",
    "all_obj_to_str\n",
    "for col in all_obj_to_str:\n",
    "  df[col] = df[col].astype(str).str.lower()\n",
    "df[col]"
   ]
  },
  {
   "cell_type": "code",
   "execution_count": null,
   "id": "70b84879",
   "metadata": {
    "colab": {
     "base_uri": "https://localhost:8080/"
    },
    "id": "70b84879",
    "outputId": "a535198f-7375-444b-c27b-dd95b2055085"
   },
   "outputs": [],
   "source": [
    "df.columns"
   ]
  },
  {
   "cell_type": "code",
   "execution_count": null,
   "id": "da7ee65d",
   "metadata": {
    "colab": {
     "base_uri": "https://localhost:8080/",
     "height": 488
    },
    "id": "da7ee65d",
    "outputId": "b9378b78-0917-4e3d-aafc-1d0b1c4455da"
   },
   "outputs": [],
   "source": [
    "# df.drop(['subflow_fwd_packets'],axis=1, inplace = True)\n",
    "# df"
   ]
  },
  {
   "cell_type": "code",
   "execution_count": null,
   "id": "Nmc1_Drklz3z",
   "metadata": {
    "colab": {
     "base_uri": "https://localhost:8080/"
    },
    "id": "Nmc1_Drklz3z",
    "outputId": "5a094294-b45a-4c6e-a7db-4ec39c8f2438"
   },
   "outputs": [],
   "source": [
    "df['label'].value_counts()"
   ]
  },
  {
   "cell_type": "code",
   "execution_count": null,
   "id": "5CjTVjmPl2gZ",
   "metadata": {
    "colab": {
     "base_uri": "https://localhost:8080/"
    },
    "id": "5CjTVjmPl2gZ",
    "outputId": "646b2a2c-d5cd-4f68-e544-276c3e831c6e"
   },
   "outputs": [],
   "source": [
    "Y = df['label']\n",
    "X = df.drop('label', axis = 1)\n",
    "# x_train, x_test, y_train, y_test = train_test_split(x, y, test_size=0.15, shuffle = True, random_state=42, stratify = y)\n",
    "Y.value_counts()"
   ]
  },
  {
   "cell_type": "code",
   "execution_count": null,
   "id": "EW_C7FqBl40y",
   "metadata": {
    "id": "EW_C7FqBl40y"
   },
   "outputs": [],
   "source": [
    "x_train, x_test, y_train, y_test = train_test_split(X, Y, test_size=0.25, shuffle = True, random_state=42, stratify = Y)"
   ]
  },
  {
   "cell_type": "code",
   "execution_count": null,
   "id": "18-FtaDel51a",
   "metadata": {
    "colab": {
     "base_uri": "https://localhost:8080/",
     "height": 488
    },
    "id": "18-FtaDel51a",
    "outputId": "df9d19a6-84d9-4abf-d686-919c668fd7b8"
   },
   "outputs": [],
   "source": [
    "df_train = pd.concat([x_train, y_train], axis=1)\n",
    "df_train"
   ]
  },
  {
   "cell_type": "code",
   "execution_count": null,
   "id": "sqXGk479l70q",
   "metadata": {
    "colab": {
     "base_uri": "https://localhost:8080/"
    },
    "id": "sqXGk479l70q",
    "outputId": "9719616f-1cb4-4718-a817-9e1b67f6d7d8"
   },
   "outputs": [],
   "source": [
    "df_less_freq_attack = df_train[df_train['label'].str.contains('bot|web|brute|dos|ben')]\n",
    "df_less_freq_attack['label'].value_counts()"
   ]
  },
  {
   "cell_type": "code",
   "execution_count": null,
   "id": "RgiU1OuYl9yi",
   "metadata": {
    "colab": {
     "base_uri": "https://localhost:8080/"
    },
    "id": "RgiU1OuYl9yi",
    "outputId": "8a8be85b-3fbe-4313-e140-06922fe34a19"
   },
   "outputs": [],
   "source": [
    "y_df_less_freq_attack = df_less_freq_attack['label']\n",
    "x_df_less_freq_attack = df_less_freq_attack.drop('label', axis = 1)\n",
    "y_df_less_freq_attack"
   ]
  },
  {
   "cell_type": "code",
   "execution_count": null,
   "id": "Ds9qQoN5l_e0",
   "metadata": {
    "colab": {
     "base_uri": "https://localhost:8080/"
    },
    "id": "Ds9qQoN5l_e0",
    "outputId": "ee5a3d86-208e-4555-d3f8-97c4fb353bac"
   },
   "outputs": [],
   "source": [
    "# from imblearn.over_sampling import SMOTE\n",
    "# from imblearn.over_sampling import SVMSMOTE\n",
    "from imblearn.combine import SMOTEENN\n",
    "# from imblearn.combine import SMOTETomek\n",
    "counter = Counter(y_df_less_freq_attack)\n",
    "print(\"before\",counter)\n",
    "# # Resampling the minority class. The strategy can be changed as required.\n",
    "# sm = SMOTE()\n",
    "# sm = SVMSMOTE(sampling_strategy='auto', random_state=None)\n",
    "sm = SMOTEENN(sampling_strategy='auto')\n",
    "# sm = SMOTETomek(random_state = 139)\n",
    "# x_train,y_train = sm.fit_resample(x_train, y_train) \n",
    "x_df_less_freq_attack,y_df_less_freq_attack = sm.fit_resample(x_df_less_freq_attack,y_df_less_freq_attack)\n",
    "# x_train,y_train = smotomek.fit_resample(x_train,y_train)\n",
    "\n",
    "counter = Counter(y_df_less_freq_attack)\n",
    "print(\"After\",counter)"
   ]
  },
  {
   "cell_type": "code",
   "execution_count": null,
   "id": "22c53df1",
   "metadata": {
    "colab": {
     "base_uri": "https://localhost:8080/",
     "height": 488
    },
    "id": "22c53df1",
    "outputId": "e5b160bc-b0dc-4069-d9ca-f8d7ddbbdd43"
   },
   "outputs": [],
   "source": [
    "df_less = pd.concat([x_df_less_freq_attack, y_df_less_freq_attack], axis=1)\n",
    "df_less"
   ]
  },
  {
   "cell_type": "code",
   "execution_count": null,
   "id": "6aff9ca8",
   "metadata": {
    "colab": {
     "base_uri": "https://localhost:8080/"
    },
    "id": "6aff9ca8",
    "outputId": "1be6a27b-9067-4884-d0b7-3c9da13408cb"
   },
   "outputs": [],
   "source": [
    "df_train = df_train[df_train.label != \"dos\"]\n",
    "df_train = df_train[df_train.label != \"benign\"]\n",
    "# df_train = df_train[df_train.label != \"portscan\"]\n",
    "df_train = df_train[df_train.label != \"brute_force\"]\n",
    "df_train = df_train[df_train.label != \"web_attack\"]\n",
    "df_train = df_train[df_train.label != \"bot\"]\n",
    "\n",
    "df_train['label'].value_counts()"
   ]
  },
  {
   "cell_type": "code",
   "execution_count": null,
   "id": "8d46f495",
   "metadata": {
    "colab": {
     "base_uri": "https://localhost:8080/"
    },
    "id": "8d46f495",
    "outputId": "ba0d7841-568b-4c29-b6c6-ce5ac0dbd5bd"
   },
   "outputs": [],
   "source": [
    "df_train = pd.concat([df_train, df_less], axis=0)\n",
    "df_train['label'].unique()"
   ]
  },
  {
   "cell_type": "code",
   "execution_count": null,
   "id": "lM2mqezqmP54",
   "metadata": {
    "colab": {
     "base_uri": "https://localhost:8080/"
    },
    "id": "lM2mqezqmP54",
    "outputId": "c0ed5223-693a-40e0-d8d6-1924c5513706"
   },
   "outputs": [],
   "source": [
    "y_train = df_train['label']\n",
    "x_train = df_train.drop('label', axis = 1)\n",
    "# x_train, x_test, y_train, y_test = train_test_split(X, Y, test_size=0.15, shuffle = True, random_state=42, stratify = Y)\n",
    "# # x_train,valid_x,train_label,valid_label = train_test_split(x_train, y_train, test_size=0.20, random_state=42, stratify = y_train)\n",
    "y_train.value_counts()"
   ]
  },
  {
   "cell_type": "code",
   "execution_count": null,
   "id": "-KuX9PrSmSL-",
   "metadata": {
    "colab": {
     "base_uri": "https://localhost:8080/"
    },
    "id": "-KuX9PrSmSL-",
    "outputId": "92dbaeee-fa09-4394-a8ed-b6565d342ae5"
   },
   "outputs": [],
   "source": [
    "print('Training data shape : ', x_train.shape, y_train.shape)\n",
    "print('Testing data shape : ', x_test.shape, y_test.shape)\n",
    "# Find the unique numbers from the train labels\n",
    "classes = np.unique(y_train)\n",
    "nClasses = len(classes)\n",
    "print('Total number of outputs : ', nClasses)\n",
    "print('Output classes : ', classes)"
   ]
  },
  {
   "cell_type": "code",
   "execution_count": null,
   "id": "-bDB9zMPmUD5",
   "metadata": {
    "colab": {
     "base_uri": "https://localhost:8080/"
    },
    "id": "-bDB9zMPmUD5",
    "outputId": "1c240161-6fb2-4a92-d041-91fa2078e7b1"
   },
   "outputs": [],
   "source": [
    "scaler = MinMaxScaler()\n",
    "x_train = scaler.fit_transform(x_train)\n",
    "x_test = scaler.fit_transform(x_test)\n",
    "print(x_train.shape)\n",
    "print(x_test.shape)"
   ]
  },
  {
   "cell_type": "code",
   "execution_count": null,
   "id": "SB8oZauumV1Q",
   "metadata": {
    "id": "SB8oZauumV1Q"
   },
   "outputs": [],
   "source": [
    "#label encoding y_train\n",
    "label_encoder = preprocessing.LabelEncoder()\n",
    "y_train = label_encoder.fit_transform(y_train)\n",
    "y_test = label_encoder.fit_transform(y_test)"
   ]
  },
  {
   "cell_type": "code",
   "execution_count": null,
   "id": "yrqxcUtbmXmv",
   "metadata": {
    "colab": {
     "base_uri": "https://localhost:8080/"
    },
    "id": "yrqxcUtbmXmv",
    "outputId": "423db7cc-e34f-4e91-bd97-1b594bc4df7d"
   },
   "outputs": [],
   "source": [
    "#label encoding y_train\n",
    "# label_encoder = preprocessing.LabelEncoder()\n",
    "y_test = to_categorical(y_test,  num_classes = 7)\n",
    "y_train = to_categorical(y_train, num_classes = 7)\n",
    "y_test.shape, y_train.shape"
   ]
  },
  {
   "cell_type": "code",
   "execution_count": null,
   "id": "FCdCyXAKmZKp",
   "metadata": {
    "colab": {
     "base_uri": "https://localhost:8080/"
    },
    "id": "FCdCyXAKmZKp",
    "outputId": "8739050f-91db-4551-ee13-9003440c58eb"
   },
   "outputs": [],
   "source": [
    "#Reshape\n",
    "x_train = x_train.reshape(-1,7,7)\n",
    "x_test = x_test.reshape(-1,7,7)\n",
    "print(\"x_train shape: \",x_train.shape)\n",
    "print(\"x_test shape: \",x_test.shape)"
   ]
  },
  {
   "cell_type": "code",
   "execution_count": null,
   "id": "G29ztRvsmcpw",
   "metadata": {
    "id": "G29ztRvsmcpw"
   },
   "outputs": [],
   "source": [
    "from sklearn.model_selection import train_test_split\n",
    "x_train,valid_x,train_label,valid_label = train_test_split(x_train, y_train, test_size=0.15, random_state=42, shuffle=True, stratify = y_train)"
   ]
  },
  {
   "cell_type": "code",
   "execution_count": null,
   "id": "4OxaMmRYme6p",
   "metadata": {
    "colab": {
     "base_uri": "https://localhost:8080/"
    },
    "id": "4OxaMmRYme6p",
    "outputId": "120c7030-a76a-43a0-cd4c-83005c558269"
   },
   "outputs": [],
   "source": [
    "x_train.shape[1:],valid_x.shape,train_label.shape,valid_label.shape"
   ]
  },
  {
   "cell_type": "code",
   "execution_count": null,
   "id": "46c58a36",
   "metadata": {
    "id": "46c58a36"
   },
   "outputs": [],
   "source": [
    "import keras\n",
    "from keras.models import Sequential,Input,Model\n",
    "from keras.layers import Dense, LSTM, Dropout, GRU, Bidirectional, Flatten, CuDNNLSTM, Bidirectional\n",
    "from keras.layers import Conv2D, MaxPooling2D, BatchNormalization\n",
    "# from tensorflow.keras.layers import BatchNormalization\n",
    "from keras.layers.advanced_activations import LeakyReLU\n",
    "from tensorflow.keras.optimizers import RMSprop,Adam, SGD\n",
    "import tensorflow as tf \n",
    "from sklearn.utils import class_weight\n",
    "from keras.preprocessing.image import ImageDataGenerator"
   ]
  },
  {
   "cell_type": "code",
   "execution_count": null,
   "id": "c568ffba",
   "metadata": {
    "id": "c568ffba"
   },
   "outputs": [],
   "source": [
    "batch_size = 64\n",
    "epochs = 50\n",
    "num_classes = 7"
   ]
  },
  {
   "cell_type": "code",
   "execution_count": null,
   "id": "8d72bbcd",
   "metadata": {
    "id": "8d72bbcd"
   },
   "outputs": [],
   "source": [
    "model1 = Sequential()\n",
    "model1.add(Conv2D(16, kernel_size=(2, 2),activation='relu',padding='same',input_shape=(7,7,1)))\n",
    "model1.add(Conv2D(16, (2, 2), activation='relu',padding='same'))\n",
    "# model1.add(MaxPooling2D(pool_size=(2, 2),padding='same'))\n",
    "# model1.add(MaxPooling2D(pool_size=(2, 2),padding='same'))\n",
    "\n",
    "# model1.add(Dropout(0.25))\n",
    "\n",
    "\n",
    "model1.add(Conv2D(32, (2, 2), activation='relu',padding='same'))\n",
    "model1.add(Conv2D(32, (2, 2), activation='relu',padding='same'))\n",
    "# model.add(Conv2D(64, (2, 2), activation='relu',padding='same'))\n",
    "model1.add(MaxPooling2D(pool_size=(2, 2),padding='same'))\n",
    "# model1.add(MaxPooling2D(pool_size=(2, 2),padding='same'))\n",
    "\n",
    "# model.add(Dropout(0.20))\n",
    "\n",
    "\n",
    "model1.add(Conv2D(64, (2, 2), activation='relu',padding='same'))\n",
    "model1.add(Conv2D(64, (2, 2), activation='relu',padding='same'))\n",
    "# model.add(Conv2D(128, (2, 2), activation='relu',padding='same'))\n",
    "# model.add(Conv2D(256, (3, 3), activation='relu',padding='same'))\n",
    "model1.add(MaxPooling2D(pool_size=(2, 2),padding='same'))\n",
    "# model1.add(MaxPooling2D(pool_size=(2, 2),padding='same'))\n",
    "# model1.add(Dropout(0.20))\n",
    "\n",
    "\n",
    "\n",
    "\n",
    "model1.add(Flatten())\n",
    "model1.add(Dense(1024, activation='relu'))       \n",
    "model1.add(Dropout(0.3))\n",
    "model1.add(Dense(512, activation='relu'))\n",
    "model1.add(Dense(num_classes, activation='softmax'))"
   ]
  },
  {
   "cell_type": "code",
   "execution_count": null,
   "id": "11c068be",
   "metadata": {
    "id": "11c068be"
   },
   "outputs": [],
   "source": [
    "optimizer = Adam(learning_rate=0.001)\n",
    "model1.compile(optimizer = optimizer , loss = \"categorical_crossentropy\", metrics=[\"accuracy\"])"
   ]
  },
  {
   "cell_type": "code",
   "execution_count": null,
   "id": "28810d50",
   "metadata": {
    "colab": {
     "base_uri": "https://localhost:8080/"
    },
    "id": "28810d50",
    "outputId": "aea4d1a1-68db-451a-cd0b-9187fced9c78"
   },
   "outputs": [],
   "source": [
    "history1 = model1.fit(x_train, train_label, batch_size=batch_size,epochs=epochs,verbose=1,validation_data=(valid_x, valid_label),shuffle=True)"
   ]
  },
  {
   "cell_type": "code",
   "execution_count": null,
   "id": "9v8TzdsI_ifT",
   "metadata": {
    "id": "9v8TzdsI_ifT"
   },
   "outputs": [],
   "source": [
    "# !pip install scikeras\n",
    "# from scikeras.wrappers import KerasClassifier, KerasRegressor\n",
    "# NN_clf1=KerasClassifier(build_fn=model_cnn, epochs=5, batch_size= 64)"
   ]
  },
  {
   "cell_type": "code",
   "execution_count": null,
   "id": "d82f85c6",
   "metadata": {
    "id": "d82f85c6"
   },
   "outputs": [],
   "source": [
    "# %pip install h5py\n",
    "# model_cnn.save('C:/Users/ibmcs/Downloads/UNSW-NB15/model_cnn.h5')\n",
    "model1.save('model1.h5')"
   ]
  },
  {
   "cell_type": "code",
   "execution_count": null,
   "id": "XR6vXsdNRyb5",
   "metadata": {
    "colab": {
     "base_uri": "https://localhost:8080/"
    },
    "id": "XR6vXsdNRyb5",
    "outputId": "feca52cf-d6e6-43a0-94a5-e5f674905831"
   },
   "outputs": [],
   "source": [
    "x_train.shape[1:3]"
   ]
  },
  {
   "cell_type": "code",
   "execution_count": null,
   "id": "b5c2a111",
   "metadata": {
    "id": "b5c2a111"
   },
   "outputs": [],
   "source": [
    "#model lstm\n",
    "# def model_lstm ():\n",
    "model2 = Sequential()\n",
    "model2.add(CuDNNLSTM(16, input_shape=(x_train.shape[1:3]),  return_sequences=True))\n",
    "model2.add(Dropout(0.2))\n",
    "# Second LSTM layer\n",
    "# model.add(CuDNNLSTM(128))\n",
    "model2.add(CuDNNLSTM(32,  return_sequences=False))\n",
    "model2.add(Dropout(0.2))\n",
    "# model.add(LSTM(128, activation = \"relu\"))\n",
    "\n",
    "\n",
    "model2.add(Flatten())\n",
    "model2.add(Dense(32, activation = \"relu\"))\n",
    "model2.add(Dropout(0.5))\n",
    "model2.add(Dense(16, activation = \"relu\"))\n",
    "# The output layer\n",
    "model2.add(Dense(7, activation = \"softmax\"))\n",
    "\n",
    "  # return model2"
   ]
  },
  {
   "cell_type": "code",
   "execution_count": null,
   "id": "dac51b66",
   "metadata": {
    "id": "dac51b66"
   },
   "outputs": [],
   "source": [
    "optimizer = Adam(learning_rate=0.001)\n",
    "model2.compile(optimizer = optimizer , loss = \"categorical_crossentropy\", metrics=[\"accuracy\"])"
   ]
  },
  {
   "cell_type": "code",
   "execution_count": null,
   "id": "ca8ff7eb",
   "metadata": {
    "colab": {
     "background_save": true,
     "base_uri": "https://localhost:8080/"
    },
    "id": "ca8ff7eb",
    "outputId": "b313ad5f-7d55-4d5b-9e02-f274710a4648"
   },
   "outputs": [],
   "source": [
    "history2 = model2.fit(x_train, train_label, batch_size=batch_size,epochs=epochs,verbose=1,validation_data=(valid_x, valid_label),shuffle=True)"
   ]
  },
  {
   "cell_type": "code",
   "execution_count": null,
   "id": "YRL9IKw9AMvw",
   "metadata": {
    "id": "YRL9IKw9AMvw"
   },
   "outputs": [],
   "source": [
    "# from scikeras.wrappers import KerasClassifier, KerasRegressor\n",
    "# NN_clf2=KerasClassifier(build_fn=model_lstm, epochs=5, batch_size= 64)"
   ]
  },
  {
   "cell_type": "code",
   "execution_count": null,
   "id": "23455116",
   "metadata": {
    "colab": {
     "background_save": true
    },
    "id": "23455116"
   },
   "outputs": [],
   "source": [
    "model2.save('model2.h5')"
   ]
  },
  {
   "cell_type": "code",
   "execution_count": null,
   "id": "a6a4c0f1",
   "metadata": {
    "colab": {
     "background_save": true
    },
    "id": "a6a4c0f1"
   },
   "outputs": [],
   "source": [
    "# def model_gru():\n",
    "model3 = Sequential()\n",
    "model3.add(GRU(16, input_shape=(x_train.shape[1:3]), activation='tanh', return_sequences=True))\n",
    "\n",
    "model3.add(Dropout(0.2))\n",
    "\n",
    "\n",
    "model3.add(GRU(32, activation='tanh'))\n",
    "model3.add(Dropout(0.2))\n",
    "\n",
    "model3.add(Flatten())\n",
    "model3.add(Dense(32, activation='relu'))       \n",
    "model3.add(Dropout(0.5))\n",
    "model3.add(Dense(16, activation='relu'))\n",
    "model3.add(Dense(num_classes, activation='softmax'))\n",
    "\n",
    "  # return model3\n"
   ]
  },
  {
   "cell_type": "code",
   "execution_count": null,
   "id": "4aafabaf",
   "metadata": {
    "colab": {
     "background_save": true
    },
    "id": "4aafabaf"
   },
   "outputs": [],
   "source": [
    "optimizer = Adam(learning_rate=0.001)\n",
    "model3.compile(optimizer = optimizer , loss = \"categorical_crossentropy\", metrics=[\"accuracy\"])"
   ]
  },
  {
   "cell_type": "code",
   "execution_count": null,
   "id": "d526f1d0",
   "metadata": {
    "id": "d526f1d0"
   },
   "outputs": [],
   "source": [
    "history3 = model3.fit(x_train, train_label, batch_size=batch_size,epochs=epochs,verbose=1,validation_data=(valid_x, valid_label),shuffle=True)"
   ]
  },
  {
   "cell_type": "code",
   "execution_count": null,
   "id": "a4J2IS_4AhCe",
   "metadata": {
    "id": "a4J2IS_4AhCe"
   },
   "outputs": [],
   "source": [
    "# from scikeras.wrappers import KerasClassifier, KerasRegressor\n",
    "# NN_clf3=KerasClassifier(build_fn=model_gru, epochs=5, batch_size= 64)"
   ]
  },
  {
   "cell_type": "code",
   "execution_count": null,
   "id": "ey1D7jknD1ZH",
   "metadata": {
    "id": "ey1D7jknD1ZH"
   },
   "outputs": [],
   "source": [
    "# intermediate = [('NN1', NN_clf1), ('NN2', NN_clf2), ('NN3', NN_clf3)]\n",
    "# intermediate"
   ]
  },
  {
   "cell_type": "code",
   "execution_count": null,
   "id": "Xt8tSj6mD_WO",
   "metadata": {
    "colab": {
     "base_uri": "https://localhost:8080/"
    },
    "id": "Xt8tSj6mD_WO",
    "outputId": "5366ddc9-6b61-46fb-ced1-22e9620f2570"
   },
   "outputs": [],
   "source": [
    "# from sklearn.ensemble import StackingClassifier\n",
    "# from sklearn.neural_network import MLPClassifier\n",
    "# clf = StackingClassifier(estimators=intermediate, final_estimator=MLPClassifier())\n",
    "# train_label.reshape(-1)\n",
    "# train_label.shape\n",
    "# clf.fit(x_train, train_label)"
   ]
  },
  {
   "cell_type": "code",
   "execution_count": null,
   "id": "9a48dc66",
   "metadata": {
    "id": "9a48dc66"
   },
   "outputs": [],
   "source": [
    "model3.save('model3.h5')"
   ]
  },
  {
   "cell_type": "code",
   "execution_count": null,
   "id": "fb10efd2",
   "metadata": {
    "colab": {
     "base_uri": "https://localhost:8080/",
     "height": 295
    },
    "id": "fb10efd2",
    "outputId": "b4674f81-0775-490d-b8ac-512fe7d1f402"
   },
   "outputs": [],
   "source": [
    "import seaborn as sns\n",
    "import matplotlib.pyplot as plt\n",
    "epochs = range(1,50)\n",
    "plt.plot(history1.history['val_accuracy'], color='r', label=\"validation accuracy\")\n",
    "plt.plot(history1.history['accuracy'], color='b', label=\"training accuracy\")\n",
    "plt.title('Training and Validation Accuracy LSTM')\n",
    "plt.xlabel('Epochs')\n",
    "plt.ylabel('Accuracy')\n",
    "plt.legend()\n",
    "plt.show()"
   ]
  },
  {
   "cell_type": "code",
   "execution_count": null,
   "id": "82280369",
   "metadata": {
    "colab": {
     "base_uri": "https://localhost:8080/",
     "height": 295
    },
    "id": "82280369",
    "outputId": "2d0e95fc-38e6-4ce8-8e18-ccc41864b6a1"
   },
   "outputs": [],
   "source": [
    "epochs = range(1,50)\n",
    "plt.plot(history1.history['val_loss'], color='r', label=\"validation loss\")\n",
    "plt.plot(history1.history['loss'], color='b', label=\"training loss\")\n",
    "plt.title('Training and Validation loss LSTM')\n",
    "plt.xlabel('Epochs')\n",
    "plt.ylabel('Loss')\n",
    "plt.legend()\n",
    "plt.show()"
   ]
  },
  {
   "cell_type": "code",
   "execution_count": null,
   "id": "96948fb2",
   "metadata": {
    "colab": {
     "base_uri": "https://localhost:8080/",
     "height": 583
    },
    "id": "96948fb2",
    "outputId": "f7615c71-a426-48c6-9a75-a4df89be826a"
   },
   "outputs": [],
   "source": [
    "import seaborn as sns\n",
    "from sklearn.metrics import confusion_matrix\n",
    "# Predict the values from the validation dataset\n",
    "Y_pred = model1.predict(valid_x)\n",
    "sns.set(font_scale=1.5) # Adjust to fit\n",
    "# Convert predictions classes to one hot vectors \n",
    "Y_pred_classes = np.argmax(Y_pred,axis = 1) \n",
    "# Convert validation observations to one hot vectors\n",
    "Y_true = np.argmax(valid_label,axis = 1) \n",
    "# compute the confusion matrix\n",
    "confusion_mtx = confusion_matrix(Y_true, Y_pred_classes) \n",
    "# plot the confusion matrix\n",
    "f,ax = plt.subplots(figsize=(10, 9))\n",
    "cmn = confusion_mtx.astype('float') / confusion_mtx.sum(axis=1)[:, np.newaxis]\n",
    "class_names = ['Benign', 'Bot', 'Brute-Force','Dos',\n",
    "               'DDoS', 'Portscan', 'Webattack']\n",
    "sns.heatmap(cmn, annot=True, linewidths=0.02,cmap=\"Reds\",linecolor=\"gray\", fmt= '.2f',xticklabels=class_names, yticklabels=class_names)\n",
    "# label_font = {'size':'5'}  # Adjust to fit\n",
    "# title_font = {'size':'5'}  # Adjust to fit\n",
    "\n",
    "plt.xlabel(\"Predicted Label\")\n",
    "plt.ylabel(\"True Label\")\n",
    "plt.title(\"Confusion Matrix of CICIDS-2017 for Proposed ENIDS\")\n",
    "plt.show()"
   ]
  },
  {
   "cell_type": "code",
   "execution_count": null,
   "id": "cd7adc6a",
   "metadata": {
    "colab": {
     "base_uri": "https://localhost:8080/"
    },
    "id": "cd7adc6a",
    "outputId": "74087e6f-bf23-4313-b3a3-454765b5cca5"
   },
   "outputs": [],
   "source": [
    "#Recall Score\n",
    "from sklearn.metrics import recall_score\n",
    "\n",
    "recall = recall_score(Y_true, Y_pred_classes, labels=[0,1,2,3,4,5,6], average='weighted')\n",
    "\n",
    "print('Recall: %.5f' % recall)"
   ]
  },
  {
   "cell_type": "code",
   "execution_count": null,
   "id": "9be8e05a",
   "metadata": {
    "colab": {
     "base_uri": "https://localhost:8080/"
    },
    "id": "9be8e05a",
    "outputId": "a2a180f0-9b38-4f27-ae51-05bea6e2b253"
   },
   "outputs": [],
   "source": [
    "#Precision Score\n",
    "from sklearn.metrics import precision_score\n",
    "precision = precision_score(Y_true, Y_pred_classes,labels=[0,1,2,3,4,5,6], average='weighted')\n",
    "print('Recall: %.5f' % precision)"
   ]
  },
  {
   "cell_type": "code",
   "execution_count": null,
   "id": "dba21341",
   "metadata": {
    "colab": {
     "base_uri": "https://localhost:8080/"
    },
    "id": "dba21341",
    "outputId": "0a80f594-1594-4981-d6a0-738a564b0bd7"
   },
   "outputs": [],
   "source": [
    "from sklearn.metrics import f1_score\n",
    "f1_m = f1_score(Y_true, Y_pred_classes, labels=[0,1,2,3,4,5,6], average='weighted')\n",
    "print('F-Measure: %.5f' % f1_m)"
   ]
  },
  {
   "cell_type": "code",
   "execution_count": null,
   "id": "0dab2f14",
   "metadata": {},
   "outputs": [],
   "source": [
    "from sklearn import metrics\n",
    "# Print the confusion matrix\n",
    "Y_pred = model1.predict(x_train)\n",
    "Y_pred_classes = np.argmax(Y_pred,axis = 1)\n",
    "Y_true = np.argmax(train_label, axis=1)\n",
    "print(metrics.confusion_matrix(Y_true, Y_pred_classes))\n",
    "\n",
    "# Print the precision and recall, among other metrics\n",
    "print(metrics.classification_report(Y_true, Y_pred_classes, digits=5))"
   ]
  },
  {
   "cell_type": "code",
   "execution_count": null,
   "id": "d388357e",
   "metadata": {
    "colab": {
     "base_uri": "https://localhost:8080/"
    },
    "id": "d388357e",
    "outputId": "20f37ea2-7aeb-40e1-875d-76aa8d4b2997"
   },
   "outputs": [],
   "source": [
    "from sklearn import metrics\n",
    "predicted_classes = model1.predict(x_test)\n",
    "predicted_classes = np.argmax(np.round(predicted_classes),axis= 1)\n",
    "\n",
    "Y_test = np.argmax(y_test, axis=1)\n",
    "print(predicted_classes.shape)\n",
    "print(y_test.shape)\n",
    "\n",
    "# Print the confusion matrix\n",
    "print(metrics.confusion_matrix(Y_test, predicted_classes))\n",
    "\n",
    "# Print the precision and recall, among other metrics\n",
    "print(metrics.classification_report(Y_test, predicted_classes, digits=4))"
   ]
  },
  {
   "cell_type": "code",
   "execution_count": null,
   "id": "36c51887",
   "metadata": {},
   "outputs": [],
   "source": [
    "# x_test.shape, y_test.shape\n",
    "test_eval = model1.evaluate(x_test, y_test, verbose= 1 )\n",
    "print( 'Test loss:' , test_eval[0])\n",
    "print( 'Test accuracy:' , test_eval[1])"
   ]
  },
  {
   "cell_type": "code",
   "execution_count": null,
   "id": "967eb521",
   "metadata": {},
   "outputs": [],
   "source": [
    "model1.fit(x_test, y_test)\n",
    "Y_pred =model1.predict(x_test)\n",
    "predicted_classes = np.argmax(np.round(Y_pred),axis= 1)\n",
    "\n",
    "Y_test = np.argmax(y_test, axis=1)\n",
    "from sklearn.metrics import classification_report\n",
    "import matplotlib.pyplot as plt\n",
    "from sklearn.metrics import plot_confusion_matrix\n",
    "confusion_matrix(Y_test, predicted_classes) \n",
    "plt.show()\n",
    "print(classification_report(Y_test, predicted_classes, digits=5))"
   ]
  },
  {
   "cell_type": "code",
   "execution_count": null,
   "id": "dc60e6dd",
   "metadata": {},
   "outputs": [],
   "source": [
    "import seaborn as sns\n",
    "from sklearn.metrics import confusion_matrix\n",
    "# Predict the values from the validation dataset\n",
    "Y_pred = model1.predict(x_test)\n",
    "# Convert predictions classes to one hot vectors \n",
    "Y_pred_classes = np.argmax(Y_pred,axis = 1) \n",
    "# Convert validation observations to one hot vectors\n",
    "Y_true = np.argmax(y_test,axis = 1) \n",
    "# compute the confusion matrix\n",
    "confusion_mtx = confusion_matrix(Y_true, Y_pred_classes) \n",
    "# plot the confusion matrix\n",
    "f,ax = plt.subplots(figsize=(8, 8))\n",
    "cmn = confusion_mtx.astype('float') / confusion_mtx.sum(axis=1)[:, np.newaxis]\n",
    "class_names = ['Benign', 'Bot', 'Brute-force','Dos',\n",
    "               'DDoS', 'Portscan', 'Webattack']\n",
    "sns.heatmap(cmn, annot=True, linewidths=0.02,cmap=\"Reds\",linecolor=\"gray\", fmt= '.2f',xticklabels=class_names, yticklabels=class_names)\n",
    "plt.xlabel(\"Predicted Label\")\n",
    "plt.ylabel(\"True Label\")\n",
    "plt.title(\"Confusion Matrix CNN\")\n",
    "plt.show()"
   ]
  },
  {
   "cell_type": "code",
   "execution_count": null,
   "id": "AfL_FtHYp9ah",
   "metadata": {
    "id": "AfL_FtHYp9ah"
   },
   "outputs": [],
   "source": [
    "from keras.layers.merge import concatenate\n",
    "from keras.utils.vis_utils import plot_model\n",
    "from keras.models import Model\n",
    "from tensorflow.keras.models import Model\n",
    "from keras.layers import Input\n",
    "from keras.models import load_model"
   ]
  },
  {
   "cell_type": "code",
   "execution_count": null,
   "id": "523eaad4",
   "metadata": {
    "id": "523eaad4"
   },
   "outputs": [],
   "source": [
    "dependencies = {\n",
    "    'f1_m': f1_m,\n",
    "    'recall_m': recall,\n",
    "    'precision': precision\n",
    "}"
   ]
  },
  {
   "cell_type": "code",
   "execution_count": null,
   "id": "55126a5e",
   "metadata": {},
   "outputs": [],
   "source": [
    "from sklearn.metrics import f1_score\n",
    "from sklearn.metrics import recall_score\n",
    "from sklearn.metrics import precision_score\n",
    "dependencies = {\n",
    "    'f1_m': f1_score,\n",
    "    'recall_m': recall_score,\n",
    "    'precision': precision_score\n",
    "}"
   ]
  },
  {
   "cell_type": "code",
   "execution_count": null,
   "id": "2dfefa9e",
   "metadata": {
    "id": "2dfefa9e"
   },
   "outputs": [],
   "source": [
    "# load models from file\n",
    "def load_all_models(n_models):\n",
    "\tall_models = list()\n",
    "\tfor i in range(n_models):\n",
    "\t\t# define filename for this ensemble\n",
    "\t\tfilename = 'model' + str(i + 1) + '.h5'\n",
    "\t\t# load model from file\n",
    "\t\tmodel = load_model(filename,custom_objects=dependencies)\n",
    "\t\t# add to list of members\n",
    "\t\tall_models.append(model)\n",
    "\t\tprint('>loaded %s' % filename)\n",
    "\treturn all_models"
   ]
  },
  {
   "cell_type": "code",
   "execution_count": null,
   "id": "d02fc699",
   "metadata": {
    "colab": {
     "base_uri": "https://localhost:8080/"
    },
    "id": "d02fc699",
    "outputId": "5a4d76ba-88e7-4e67-d225-7085f0a90bc4"
   },
   "outputs": [],
   "source": [
    "n_members = 3\n",
    "members = load_all_models(n_members)\n",
    "print('Loaded %d models' % len(members))"
   ]
  },
  {
   "cell_type": "code",
   "execution_count": null,
   "id": "64OpWS2mnKeC",
   "metadata": {
    "id": "64OpWS2mnKeC"
   },
   "outputs": [],
   "source": [
    "# define stacked model from multiple member input models\n",
    "def define_stacked_model(members):\n",
    "\t# update all layers in all models to not be trainable\n",
    "\tfor i in range(len(members)):\n",
    "\t\tmodel = members[i]\n",
    "\t\tfor layer in model.layers:\n",
    "\t\t\t# make not trainable\n",
    "\t\t\tlayer.trainable = False\n",
    "\t\t\t# rename to avoid 'unique layer name' issue\n",
    "\t\t\tlayer._name = 'ensemble_' + str(i+1) + '_' + layer.name\n",
    "\t# define multi-headed input\n",
    "\tensemble_visible = [model.input for model in members]\n",
    "\t# concatenate merge output from each model\n",
    "\tensemble_outputs = [model.output for model in members]\n",
    "\tmerge = concatenate(ensemble_outputs)\n",
    "\tprint(merge.shape)\n",
    "# \tmodel.add(Flatten())\n",
    "# fit standalone model\n",
    "\tflatten = Flatten()(merge)\n",
    "\thidden = Dense(1024, activation='relu')(flatten)\n",
    "\thidden = Dense(512, activation='relu')(hidden)\n",
    "\t# print(hidden.shape)\n",
    "\toutput = Dense(7, activation='softmax')(hidden)\n",
    "\t# print(output.shape)\n",
    "\tmodel = Model(inputs=ensemble_visible, outputs=output)\n",
    "\t# print(model.shape)\n",
    "\t# plot graph of ensemble\n",
    "\tplot_model(model, show_shapes=True, to_file='model_graph.png')\n",
    "\t# compile\n",
    "\tmodel.compile(loss='categorical_crossentropy', optimizer='adam', metrics=['accuracy'])\n",
    "\treturn model\n",
    "# Create the stacked model\n",
    "stacked_model = define_stacked_model(members)"
   ]
  },
  {
   "cell_type": "code",
   "execution_count": null,
   "id": "2VPTq841CDmW",
   "metadata": {
    "colab": {
     "base_uri": "https://localhost:8080/",
     "height": 165
    },
    "id": "2VPTq841CDmW",
    "outputId": "c42a3900-d059-4458-e936-5da1f31870e3"
   },
   "outputs": [],
   "source": [
    "define_stacked_model.summary()"
   ]
  },
  {
   "cell_type": "code",
   "execution_count": null,
   "id": "xbh3pr2Pospz",
   "metadata": {
    "colab": {
     "base_uri": "https://localhost:8080/"
    },
    "id": "xbh3pr2Pospz",
    "outputId": "fa484b68-69ad-4f30-b1d6-874bb0d378ef"
   },
   "outputs": [],
   "source": [
    "# define ensemble model\n",
    "stacked_model = define_stacked_model(members)"
   ]
  },
  {
   "cell_type": "code",
   "execution_count": null,
   "id": "JA5QtTp1be7Y",
   "metadata": {
    "id": "JA5QtTp1be7Y"
   },
   "outputs": [],
   "source": [
    "aug = tf.keras.preprocessing.image.ImageDataGenerator(\n",
    "          rotation_range=10,\n",
    "          zoom_range=0.15,\n",
    "          width_shift_range=0.1,\n",
    "          height_shift_range=0.1,\n",
    "          shear_range=0.15,\n",
    "          horizontal_flip= False,\n",
    "          vertical_flip= False,\n",
    "          fill_mode=\"nearest\"\n",
    "          )"
   ]
  },
  {
   "cell_type": "code",
   "execution_count": null,
   "id": "DUrFTN0soNQ6",
   "metadata": {
    "id": "DUrFTN0soNQ6"
   },
   "outputs": [],
   "source": [
    "\n",
    "# fit a stacked model\n",
    "def fit_stacked_model(model, inputX, inputy):\n",
    "\t# prepare input data\n",
    "\tX = [inputX for _ in range(len(model.input))]\n",
    "\t# encode output data\n",
    "\t# inputy_enc = to_categorical(inputy)\n",
    "\t# fit model\n",
    "\t\n",
    "\tmodel.fit(X, inputy, epochs=50, batch_size=64, verbose=1, shuffle=True)\n",
    "#  history3 = model3.fit(x_train, train_label, batch_size=batch_size,epochs=epochs,verbose=1,validation_data=(valid_x, valid_label),shuffle=True)\n",
    "  "
   ]
  },
  {
   "cell_type": "code",
   "execution_count": null,
   "id": "3d6416a4",
   "metadata": {},
   "outputs": [],
   "source": [
    "\n",
    "# fit a stacked model\n",
    "def fit_stacked_model(stacked_model, inputX, inputy):\n",
    "\t# prepare input data\n",
    "\tX = [inputX for _ in range(len(stacked_model.input))]\n",
    "\t# encode output data\n",
    "\t# inputy_enc = to_categorical(inputy)\n",
    "\t# fit model\n",
    "\t\n",
    "\tstacked_model.fit(X, inputy, epochs=50, batch_size=64, verbose=1, shuffle=True)\n",
    "#  history3 = model3.fit(x_train, train_label, batch_size=batch_size,epochs=epochs,verbose=1,validation_data=(valid_x, valid_label),shuffle=True)\n",
    "\treturn stacked_model"
   ]
  },
  {
   "cell_type": "code",
   "execution_count": null,
   "id": "tEabqqphtvZI",
   "metadata": {
    "colab": {
     "base_uri": "https://localhost:8080/",
     "height": 165
    },
    "id": "tEabqqphtvZI",
    "outputId": "dfa4084a-fb82-4700-c06d-610bc0c6ffe1"
   },
   "outputs": [],
   "source": [
    "from tensorflow.keras.models import save_model\n",
    "\n",
    "# fit a stacked model\n",
    "def fit_stacked_model(stacked_model, inputX, inputy, filename='stack_ensemble.h5'):\n",
    "    # prepare input data\n",
    "    X = [inputX for _ in range(len(stacked_model.input))]\n",
    "    # encode output data\n",
    "    # inputy_enc = to_categorical(inputy)\n",
    "    # fit model\n",
    "    stacked_model.fit(X, inputy, epochs=30, batch_size=128, verbose=1, shuffle=True)\n",
    "    # save the model\n",
    "    save_model(stacked_model, filename)\n",
    "    return stacked_model"
   ]
  },
  {
   "cell_type": "code",
   "execution_count": null,
   "id": "fkr_FHTjoizr",
   "metadata": {
    "colab": {
     "base_uri": "https://localhost:8080/"
    },
    "id": "fkr_FHTjoizr",
    "outputId": "de2fd394-24bc-412d-a695-a53f3c3f39ed"
   },
   "outputs": [],
   "source": [
    "# fit stacked model on test dataset\n",
    "# print(stacked_model)\n",
    "# x_train.shape, train_label.shape\n",
    "# train_label = y_train = tf.keras.utils.to_categorical(train_label)\n",
    "fit_stacked_model(stacked_model, x_train, train_label)"
   ]
  },
  {
   "cell_type": "code",
   "execution_count": null,
   "id": "0aee7dbe",
   "metadata": {
    "id": "0aee7dbe"
   },
   "outputs": [],
   "source": [
    "# make a prediction with a stacked model\n",
    "def predict_stacked_model(stacked_model, inputX):\n",
    "\t# prepare input data\n",
    "\tX = [inputX for _ in range(len(stacked_model.input))]\n",
    "\t# make prediction\n",
    "\treturn stacked_model.predict(X, verbose=1)"
   ]
  },
  {
   "cell_type": "code",
   "execution_count": null,
   "id": "Usq-tJfE3vsg",
   "metadata": {
    "colab": {
     "base_uri": "https://localhost:8080/"
    },
    "id": "Usq-tJfE3vsg",
    "outputId": "485e8e04-7228-4c59-9bf0-bca74a196d37"
   },
   "outputs": [],
   "source": [
    "from sklearn import metrics\n",
    "predicted_classes = predict_stacked_model(stacked_model, x_test)\n",
    "predicted_classes = np.argmax(np.round(predicted_classes),axis= 1)\n",
    "\n",
    "Y_test = np.argmax(y_test, axis=1)\n",
    "print(predicted_classes.shape)\n",
    "print(y_test.shape)\n",
    "\n",
    "# Print the confusion matrix\n",
    "print(metrics.confusion_matrix(Y_test, predicted_classes))\n",
    "\n",
    "# Print the precision and recall, among other metrics\n",
    "print(metrics.classification_report(Y_test, predicted_classes, digits=3))\n",
    "# make predictions and evaluate\n",
    "# import numpy as np  \n",
    "# from sklearn.metrics import accuracy_score\n",
    "\n",
    "# yhat = predict_stacked_model(stacked_model, x_test)\n",
    "# yhat = np.argmax(yhat, axis=1)\n",
    "# acc = accuracy_score(y_test, yhat)\n",
    "# print('Stacked Test Accuracy: %.3f' % acc)"
   ]
  },
  {
   "cell_type": "code",
   "execution_count": null,
   "id": "Ko7uYfg9FFSc",
   "metadata": {
    "colab": {
     "base_uri": "https://localhost:8080/",
     "height": 513
    },
    "id": "Ko7uYfg9FFSc",
    "outputId": "20b7a1d7-2150-4c29-bd24-7b8945300b22"
   },
   "outputs": [],
   "source": [
    "import seaborn as sns\n",
    "from sklearn.metrics import confusion_matrix\n",
    "# Predict the values from the validation dataset\n",
    "# Y_pred = predict_stacked_model.predict(stacked_model, x_test)\n",
    "# print(Y_pred)\n",
    "# Convert predictions classes to one hot vectors \n",
    "# Y_pred_classes = np.argmax(Y_pred,axis = 1) \n",
    "# Convert validation observations to one hot vectors\n",
    "# Y_true = np.argmax(valid_label,axis = 1) \n",
    "# compute the confusion matrix\n",
    "confusion_mtx = confusion_matrix(Y_test, predicted_classes) \n",
    "# plot the confusion matrix\n",
    "f,ax = plt.subplots(figsize=(8, 8))\n",
    "cmn = confusion_mtx.astype('float') / confusion_mtx.sum(axis=1)[:, np.newaxis]\n",
    "class_names = ['benign', 'bot', 'brute-force','Dos',\n",
    "               'DDoS', 'Portscan', 'Webattack']\n",
    "sns.heatmap(cmn, annot=True, linewidths=0.02,cmap=\"Reds\",linecolor=\"gray\", fmt= '.2f',xticklabels=class_names, yticklabels=class_names)\n",
    "plt.xlabel(\"Predicted Label\")\n",
    "plt.ylabel(\"True Label\")\n",
    "plt.title(\"Confusion Matrix\")\n",
    "plt.show()"
   ]
  },
  {
   "cell_type": "code",
   "execution_count": null,
   "id": "ef792016",
   "metadata": {
    "id": "ef792016"
   },
   "outputs": [],
   "source": [
    "from sklearn.linear_model import LogisticRegression\n",
    "optimizer = Adam(learning_rate=0.001)\n",
    "# model_cnn_lstm.compile(optimizer = optimizer , loss = \"categorical_crossentropy\", metrics=[\"accuracy\"])"
   ]
  },
  {
   "cell_type": "code",
   "execution_count": null,
   "id": "a6d47c68",
   "metadata": {
    "id": "a6d47c68"
   },
   "outputs": [],
   "source": [
    "# fit a model based on the outputs from the ensemble members\n",
    "def fit_stacked_model(members, inputX, inputy):\n",
    "\t# create dataset using ensemble\n",
    "\tstackedX = stacked_dataset(members, inputX)\n",
    "\tstackedX = stackedX.reshape((-1, 3,7))\n",
    "\t# fit standalone model\n",
    "\tmodel_cnn_lstm = Sequential()\n",
    "\tmodel_cnn_lstm.add(Conv2D(32, kernel_size=(2, 2),padding='same',input_shape=(3,7,1)))\n",
    "\tmodel_cnn_lstm.add(MaxPooling2D(pool_size=(2,2), padding  =\"same\"))\n",
    "\tmodel_cnn_lstm.add(Dropout(0.15))\n",
    "\n",
    "\tmodel_cnn_lstm.add(Conv2D(64, (2, 2), activation='relu',padding='same'))\n",
    "\tmodel_cnn_lstm.add(MaxPooling2D(pool_size=(2, 2),padding='same'))\n",
    "\tmodel_cnn_lstm.add(Dropout(0.15))\n",
    "\n",
    "\tmodel_cnn_lstm.add(Conv2D(128, (2, 2), activation='relu',padding='same'))           \n",
    "\tmodel_cnn_lstm.add(MaxPooling2D(pool_size=(2, 2),padding='same'))\n",
    "\tmodel_cnn_lstm.add(Dropout(0.15))\n",
    "\n",
    "\n",
    "\n",
    "\tmodel_cnn_lstm.add(Flatten())\n",
    "\t# model_cnn_lstm.add(Reshape((-1, 128)))\n",
    "\t#insert lstm\n",
    "\n",
    "\t# model_cnn_lstm.add(LSTM(64,return_sequences=True))\n",
    "\tmodel_cnn_lstm.add(Dense(1024, activation='relu'))        \n",
    "\tmodel_cnn_lstm.add(Dropout(0.3))\n",
    "\t# model_cnn_lstm.add(LSTM(64,return_sequences=False))\n",
    "\tmodel_cnn_lstm.add(Dense(512, activation='relu'))       \n",
    "\t# model_cnn_lstm.add(Dropout(0.5))\n",
    "\t# model_cnn_lstm.add(Dense(512, activation='relu'))\n",
    "\tmodel_cnn_lstm.add(Dense(num_classes, activation='softmax'))\n",
    "\t# model_cnn_lstm = LogisticRegression() #meta learner\n",
    "\tmodel_cnn_lstm.compile(optimizer = optimizer , loss = \"categorical_crossentropy\", metrics=[\"accuracy\"])\n",
    "\t# history3 = model3.fit(x_train, train_label, batch_size=batch_size,epochs=epochs,verbose=1,validation_data=(valid_x, valid_label),shuffle=True)\n",
    "\t# model_cnn_lstm.fit(stackedX, inputy, batch_size=64,epochs=5,verbose=1,validation_data=(valid_x, valid_label),shuffle=True)\n",
    "\tmodel_cnn_lstm.fit(stackedX, inputy,batch_size=64,epochs=5,verbose=1)\n",
    "\t# model_cnn_lstm.summary()\n",
    "\n",
    "\treturn model_cnn_lstm"
   ]
  },
  {
   "cell_type": "code",
   "execution_count": null,
   "id": "e5e3bfc9",
   "metadata": {
    "id": "e5e3bfc9",
    "outputId": "1764a0be-373b-43ec-e3d6-978ef323adb6"
   },
   "outputs": [],
   "source": [
    "# print(x_train.shape)\n",
    "# print(y_train.shape)\n",
    "model_cnn_lstm = fit_stacked_model(members, x_test,y_test)\n",
    "# model_cnn_lstm.summary()"
   ]
  },
  {
   "cell_type": "code",
   "execution_count": null,
   "id": "06d01329",
   "metadata": {
    "id": "06d01329"
   },
   "outputs": [],
   "source": [
    "# make a prediction with the stacked model\n",
    "def stacked_prediction(members, model_cnn_lstm, inputX):\n",
    "\t# create dataset using ensemble\n",
    "\tstackedX = stacked_dataset(members, inputX)\n",
    "\tstackedX =stackedX.reshape(-1,3,7)\n",
    "\t# make a prediction\n",
    "\tyhat = model_cnn_lstm.predict(stackedX)\n",
    "\treturn yhat"
   ]
  },
  {
   "cell_type": "code",
   "execution_count": null,
   "id": "04d70f7d",
   "metadata": {
    "id": "04d70f7d",
    "outputId": "508bcf40-a95b-4819-e5ce-8a6d315d1950"
   },
   "outputs": [],
   "source": [
    "# evaluate model on test set\n",
    "# print(valid_x.shape)\n",
    "yhat = stacked_prediction(members, model_cnn_lstm, valid_x)\n",
    "from sklearn.metrics import f1_score\n",
    "f1_m = f1_score(Y_true, Y_pred_classes, labels=[0,1,2,3,4,5,6], average='weighted')\n",
    "print('F-Measure: %.3f' % f1_m)"
   ]
  },
  {
   "cell_type": "code",
   "execution_count": null,
   "id": "edb99340",
   "metadata": {
    "id": "edb99340"
   },
   "outputs": [],
   "source": [
    "from sklearn.metrics import f1_score"
   ]
  },
  {
   "cell_type": "code",
   "execution_count": null,
   "id": "8d3ef030",
   "metadata": {
    "id": "8d3ef030"
   },
   "outputs": [],
   "source": [
    "i = 0\n",
    "for model in members:\n",
    "    i+=1\n",
    "    pred = model.predict_classes(X_test)\n",
    "    score = f1_score(y_test,pred)\n",
    "    print('F-Score of model {} is '.format(i),score)"
   ]
  }
 ],
 "metadata": {
  "colab": {
   "name": "stacking_ensemble.ipynb",
   "provenance": []
  },
  "kernelspec": {
   "display_name": "research-ids",
   "language": "python",
   "name": "research-ids"
  },
  "language_info": {
   "codemirror_mode": {
    "name": "ipython",
    "version": 3
   },
   "file_extension": ".py",
   "mimetype": "text/x-python",
   "name": "python",
   "nbconvert_exporter": "python",
   "pygments_lexer": "ipython3",
   "version": "3.7.12"
  },
  "vscode": {
   "interpreter": {
    "hash": "4deb6435e897ee4e26add0db73e7ae4bf7063bf6b1b75634cad584d079733c6f"
   }
  }
 },
 "nbformat": 4,
 "nbformat_minor": 5
}
