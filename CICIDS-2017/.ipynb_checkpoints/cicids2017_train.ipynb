{
 "cells": [
  {
   "cell_type": "code",
   "execution_count": 1,
   "id": "1d0ee355",
   "metadata": {
    "id": "1d0ee355"
   },
   "outputs": [],
   "source": [
    "import numpy as np\n",
    "import pandas as pd\n",
    "import csv\n",
    "import glob\n",
    "import matplotlib.pyplot as plt\n",
    "import seaborn as sns\n",
    "import tensorflow as tf\n",
    "from sklearn import preprocessing\n",
    "from sklearn.preprocessing import OneHotEncoder\n",
    "from sklearn.preprocessing import LabelEncoder\n",
    "from sklearn.preprocessing import MinMaxScaler\n",
    "from collections import Counter\n",
    "from sklearn.model_selection import train_test_split\n",
    "from tensorflow.keras.utils import to_categorical"
   ]
  },
  {
   "cell_type": "code",
   "execution_count": 2,
   "id": "b74fa926",
   "metadata": {
    "colab": {
     "base_uri": "https://localhost:8080/",
     "height": 74,
     "resources": {
      "http://localhost:8080/nbextensions/google.colab/files.js": {
       "data": "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",
       "headers": [
        [
         "content-type",
         "application/javascript"
        ]
       ],
       "ok": true,
       "status": 200,
       "status_text": ""
      }
     }
    },
    "id": "b74fa926",
    "outputId": "532b2615-5181-4a6e-fdd6-4539ef8d43e1"
   },
   "outputs": [
    {
     "data": {
      "text/html": [
       "<div>\n",
       "<style scoped>\n",
       "    .dataframe tbody tr th:only-of-type {\n",
       "        vertical-align: middle;\n",
       "    }\n",
       "\n",
       "    .dataframe tbody tr th {\n",
       "        vertical-align: top;\n",
       "    }\n",
       "\n",
       "    .dataframe thead th {\n",
       "        text-align: right;\n",
       "    }\n",
       "</style>\n",
       "<table border=\"1\" class=\"dataframe\">\n",
       "  <thead>\n",
       "    <tr style=\"text-align: right;\">\n",
       "      <th></th>\n",
       "      <th>Destination Port</th>\n",
       "      <th>Flow Duration</th>\n",
       "      <th>Total Fwd Packets</th>\n",
       "      <th>Total Backward Packets</th>\n",
       "      <th>Total Length of Fwd Packets</th>\n",
       "      <th>Total Length of Bwd Packets</th>\n",
       "      <th>Fwd Packet Length Max</th>\n",
       "      <th>Fwd Packet Length Min</th>\n",
       "      <th>Fwd Packet Length Mean</th>\n",
       "      <th>Fwd Packet Length Std</th>\n",
       "      <th>...</th>\n",
       "      <th>SYN Flag Count</th>\n",
       "      <th>RST Flag Count</th>\n",
       "      <th>PSH Flag Count</th>\n",
       "      <th>ACK Flag Count</th>\n",
       "      <th>URG Flag Count</th>\n",
       "      <th>Down/Up Ratio</th>\n",
       "      <th>Average Packet Size</th>\n",
       "      <th>Avg Fwd Segment Size</th>\n",
       "      <th>Avg Bwd Segment Size</th>\n",
       "      <th>Label</th>\n",
       "    </tr>\n",
       "  </thead>\n",
       "  <tbody>\n",
       "    <tr>\n",
       "      <th>0</th>\n",
       "      <td>80</td>\n",
       "      <td>280201</td>\n",
       "      <td>3</td>\n",
       "      <td>4</td>\n",
       "      <td>26</td>\n",
       "      <td>11607</td>\n",
       "      <td>20</td>\n",
       "      <td>0</td>\n",
       "      <td>8.666667</td>\n",
       "      <td>10.263203</td>\n",
       "      <td>...</td>\n",
       "      <td>0</td>\n",
       "      <td>0</td>\n",
       "      <td>1</td>\n",
       "      <td>0</td>\n",
       "      <td>0</td>\n",
       "      <td>1</td>\n",
       "      <td>1661.857143</td>\n",
       "      <td>8.666667</td>\n",
       "      <td>2901.75</td>\n",
       "      <td>DDoS</td>\n",
       "    </tr>\n",
       "    <tr>\n",
       "      <th>1</th>\n",
       "      <td>80</td>\n",
       "      <td>279937</td>\n",
       "      <td>3</td>\n",
       "      <td>5</td>\n",
       "      <td>26</td>\n",
       "      <td>11607</td>\n",
       "      <td>20</td>\n",
       "      <td>0</td>\n",
       "      <td>8.666667</td>\n",
       "      <td>10.263203</td>\n",
       "      <td>...</td>\n",
       "      <td>0</td>\n",
       "      <td>0</td>\n",
       "      <td>1</td>\n",
       "      <td>0</td>\n",
       "      <td>0</td>\n",
       "      <td>1</td>\n",
       "      <td>1454.125000</td>\n",
       "      <td>8.666667</td>\n",
       "      <td>2321.40</td>\n",
       "      <td>DDoS</td>\n",
       "    </tr>\n",
       "    <tr>\n",
       "      <th>2</th>\n",
       "      <td>80</td>\n",
       "      <td>280089</td>\n",
       "      <td>3</td>\n",
       "      <td>5</td>\n",
       "      <td>26</td>\n",
       "      <td>11607</td>\n",
       "      <td>20</td>\n",
       "      <td>0</td>\n",
       "      <td>8.666667</td>\n",
       "      <td>10.263203</td>\n",
       "      <td>...</td>\n",
       "      <td>0</td>\n",
       "      <td>0</td>\n",
       "      <td>1</td>\n",
       "      <td>0</td>\n",
       "      <td>0</td>\n",
       "      <td>1</td>\n",
       "      <td>1454.125000</td>\n",
       "      <td>8.666667</td>\n",
       "      <td>2321.40</td>\n",
       "      <td>DDoS</td>\n",
       "    </tr>\n",
       "    <tr>\n",
       "      <th>3</th>\n",
       "      <td>80</td>\n",
       "      <td>315491</td>\n",
       "      <td>3</td>\n",
       "      <td>6</td>\n",
       "      <td>26</td>\n",
       "      <td>11607</td>\n",
       "      <td>20</td>\n",
       "      <td>0</td>\n",
       "      <td>8.666667</td>\n",
       "      <td>10.263203</td>\n",
       "      <td>...</td>\n",
       "      <td>0</td>\n",
       "      <td>0</td>\n",
       "      <td>1</td>\n",
       "      <td>0</td>\n",
       "      <td>0</td>\n",
       "      <td>2</td>\n",
       "      <td>1292.555556</td>\n",
       "      <td>8.666667</td>\n",
       "      <td>1934.50</td>\n",
       "      <td>DDoS</td>\n",
       "    </tr>\n",
       "    <tr>\n",
       "      <th>4</th>\n",
       "      <td>80</td>\n",
       "      <td>8800868</td>\n",
       "      <td>6</td>\n",
       "      <td>0</td>\n",
       "      <td>36</td>\n",
       "      <td>0</td>\n",
       "      <td>6</td>\n",
       "      <td>6</td>\n",
       "      <td>6.000000</td>\n",
       "      <td>0.000000</td>\n",
       "      <td>...</td>\n",
       "      <td>0</td>\n",
       "      <td>0</td>\n",
       "      <td>0</td>\n",
       "      <td>1</td>\n",
       "      <td>0</td>\n",
       "      <td>0</td>\n",
       "      <td>7.000000</td>\n",
       "      <td>6.000000</td>\n",
       "      <td>0.00</td>\n",
       "      <td>DDoS</td>\n",
       "    </tr>\n",
       "    <tr>\n",
       "      <th>...</th>\n",
       "      <td>...</td>\n",
       "      <td>...</td>\n",
       "      <td>...</td>\n",
       "      <td>...</td>\n",
       "      <td>...</td>\n",
       "      <td>...</td>\n",
       "      <td>...</td>\n",
       "      <td>...</td>\n",
       "      <td>...</td>\n",
       "      <td>...</td>\n",
       "      <td>...</td>\n",
       "      <td>...</td>\n",
       "      <td>...</td>\n",
       "      <td>...</td>\n",
       "      <td>...</td>\n",
       "      <td>...</td>\n",
       "      <td>...</td>\n",
       "      <td>...</td>\n",
       "      <td>...</td>\n",
       "      <td>...</td>\n",
       "      <td>...</td>\n",
       "    </tr>\n",
       "    <tr>\n",
       "      <th>209412</th>\n",
       "      <td>53</td>\n",
       "      <td>163</td>\n",
       "      <td>2</td>\n",
       "      <td>2</td>\n",
       "      <td>102</td>\n",
       "      <td>224</td>\n",
       "      <td>51</td>\n",
       "      <td>51</td>\n",
       "      <td>51.000000</td>\n",
       "      <td>0.000000</td>\n",
       "      <td>...</td>\n",
       "      <td>0</td>\n",
       "      <td>0</td>\n",
       "      <td>0</td>\n",
       "      <td>0</td>\n",
       "      <td>0</td>\n",
       "      <td>1</td>\n",
       "      <td>94.250000</td>\n",
       "      <td>51.000000</td>\n",
       "      <td>112.00</td>\n",
       "      <td>BENIGN</td>\n",
       "    </tr>\n",
       "    <tr>\n",
       "      <th>209413</th>\n",
       "      <td>53</td>\n",
       "      <td>204</td>\n",
       "      <td>2</td>\n",
       "      <td>2</td>\n",
       "      <td>88</td>\n",
       "      <td>188</td>\n",
       "      <td>44</td>\n",
       "      <td>44</td>\n",
       "      <td>44.000000</td>\n",
       "      <td>0.000000</td>\n",
       "      <td>...</td>\n",
       "      <td>0</td>\n",
       "      <td>0</td>\n",
       "      <td>0</td>\n",
       "      <td>0</td>\n",
       "      <td>0</td>\n",
       "      <td>1</td>\n",
       "      <td>80.000000</td>\n",
       "      <td>44.000000</td>\n",
       "      <td>94.00</td>\n",
       "      <td>BENIGN</td>\n",
       "    </tr>\n",
       "    <tr>\n",
       "      <th>209414</th>\n",
       "      <td>53</td>\n",
       "      <td>171</td>\n",
       "      <td>2</td>\n",
       "      <td>2</td>\n",
       "      <td>54</td>\n",
       "      <td>54</td>\n",
       "      <td>27</td>\n",
       "      <td>27</td>\n",
       "      <td>27.000000</td>\n",
       "      <td>0.000000</td>\n",
       "      <td>...</td>\n",
       "      <td>0</td>\n",
       "      <td>0</td>\n",
       "      <td>0</td>\n",
       "      <td>0</td>\n",
       "      <td>0</td>\n",
       "      <td>1</td>\n",
       "      <td>33.750000</td>\n",
       "      <td>27.000000</td>\n",
       "      <td>27.00</td>\n",
       "      <td>BENIGN</td>\n",
       "    </tr>\n",
       "    <tr>\n",
       "      <th>209415</th>\n",
       "      <td>88</td>\n",
       "      <td>365</td>\n",
       "      <td>2</td>\n",
       "      <td>2</td>\n",
       "      <td>348</td>\n",
       "      <td>358</td>\n",
       "      <td>174</td>\n",
       "      <td>174</td>\n",
       "      <td>174.000000</td>\n",
       "      <td>0.000000</td>\n",
       "      <td>...</td>\n",
       "      <td>0</td>\n",
       "      <td>0</td>\n",
       "      <td>0</td>\n",
       "      <td>0</td>\n",
       "      <td>0</td>\n",
       "      <td>1</td>\n",
       "      <td>220.000000</td>\n",
       "      <td>174.000000</td>\n",
       "      <td>179.00</td>\n",
       "      <td>BENIGN</td>\n",
       "    </tr>\n",
       "    <tr>\n",
       "      <th>209416</th>\n",
       "      <td>88</td>\n",
       "      <td>852</td>\n",
       "      <td>2</td>\n",
       "      <td>2</td>\n",
       "      <td>496</td>\n",
       "      <td>2820</td>\n",
       "      <td>248</td>\n",
       "      <td>248</td>\n",
       "      <td>248.000000</td>\n",
       "      <td>0.000000</td>\n",
       "      <td>...</td>\n",
       "      <td>0</td>\n",
       "      <td>0</td>\n",
       "      <td>0</td>\n",
       "      <td>0</td>\n",
       "      <td>0</td>\n",
       "      <td>1</td>\n",
       "      <td>891.000000</td>\n",
       "      <td>248.000000</td>\n",
       "      <td>1410.00</td>\n",
       "      <td>BENIGN</td>\n",
       "    </tr>\n",
       "  </tbody>\n",
       "</table>\n",
       "<p>209417 rows × 50 columns</p>\n",
       "</div>"
      ],
      "text/plain": [
       "         Destination Port   Flow Duration   Total Fwd Packets  \\\n",
       "0                      80          280201                   3   \n",
       "1                      80          279937                   3   \n",
       "2                      80          280089                   3   \n",
       "3                      80          315491                   3   \n",
       "4                      80         8800868                   6   \n",
       "...                   ...             ...                 ...   \n",
       "209412                 53             163                   2   \n",
       "209413                 53             204                   2   \n",
       "209414                 53             171                   2   \n",
       "209415                 88             365                   2   \n",
       "209416                 88             852                   2   \n",
       "\n",
       "         Total Backward Packets  Total Length of Fwd Packets  \\\n",
       "0                             4                           26   \n",
       "1                             5                           26   \n",
       "2                             5                           26   \n",
       "3                             6                           26   \n",
       "4                             0                           36   \n",
       "...                         ...                          ...   \n",
       "209412                        2                          102   \n",
       "209413                        2                           88   \n",
       "209414                        2                           54   \n",
       "209415                        2                          348   \n",
       "209416                        2                          496   \n",
       "\n",
       "         Total Length of Bwd Packets   Fwd Packet Length Max  \\\n",
       "0                              11607                      20   \n",
       "1                              11607                      20   \n",
       "2                              11607                      20   \n",
       "3                              11607                      20   \n",
       "4                                  0                       6   \n",
       "...                              ...                     ...   \n",
       "209412                           224                      51   \n",
       "209413                           188                      44   \n",
       "209414                            54                      27   \n",
       "209415                           358                     174   \n",
       "209416                          2820                     248   \n",
       "\n",
       "         Fwd Packet Length Min   Fwd Packet Length Mean  \\\n",
       "0                            0                 8.666667   \n",
       "1                            0                 8.666667   \n",
       "2                            0                 8.666667   \n",
       "3                            0                 8.666667   \n",
       "4                            6                 6.000000   \n",
       "...                        ...                      ...   \n",
       "209412                      51                51.000000   \n",
       "209413                      44                44.000000   \n",
       "209414                      27                27.000000   \n",
       "209415                     174               174.000000   \n",
       "209416                     248               248.000000   \n",
       "\n",
       "         Fwd Packet Length Std  ...   SYN Flag Count   RST Flag Count  \\\n",
       "0                    10.263203  ...                0                0   \n",
       "1                    10.263203  ...                0                0   \n",
       "2                    10.263203  ...                0                0   \n",
       "3                    10.263203  ...                0                0   \n",
       "4                     0.000000  ...                0                0   \n",
       "...                        ...  ...              ...              ...   \n",
       "209412                0.000000  ...                0                0   \n",
       "209413                0.000000  ...                0                0   \n",
       "209414                0.000000  ...                0                0   \n",
       "209415                0.000000  ...                0                0   \n",
       "209416                0.000000  ...                0                0   \n",
       "\n",
       "         PSH Flag Count   ACK Flag Count   URG Flag Count   Down/Up Ratio  \\\n",
       "0                     1                0                0               1   \n",
       "1                     1                0                0               1   \n",
       "2                     1                0                0               1   \n",
       "3                     1                0                0               2   \n",
       "4                     0                1                0               0   \n",
       "...                 ...              ...              ...             ...   \n",
       "209412                0                0                0               1   \n",
       "209413                0                0                0               1   \n",
       "209414                0                0                0               1   \n",
       "209415                0                0                0               1   \n",
       "209416                0                0                0               1   \n",
       "\n",
       "         Average Packet Size   Avg Fwd Segment Size   Avg Bwd Segment Size  \\\n",
       "0                1661.857143               8.666667                2901.75   \n",
       "1                1454.125000               8.666667                2321.40   \n",
       "2                1454.125000               8.666667                2321.40   \n",
       "3                1292.555556               8.666667                1934.50   \n",
       "4                   7.000000               6.000000                   0.00   \n",
       "...                      ...                    ...                    ...   \n",
       "209412             94.250000              51.000000                 112.00   \n",
       "209413             80.000000              44.000000                  94.00   \n",
       "209414             33.750000              27.000000                  27.00   \n",
       "209415            220.000000             174.000000                 179.00   \n",
       "209416            891.000000             248.000000                1410.00   \n",
       "\n",
       "         Label  \n",
       "0         DDoS  \n",
       "1         DDoS  \n",
       "2         DDoS  \n",
       "3         DDoS  \n",
       "4         DDoS  \n",
       "...        ...  \n",
       "209412  BENIGN  \n",
       "209413  BENIGN  \n",
       "209414  BENIGN  \n",
       "209415  BENIGN  \n",
       "209416  BENIGN  \n",
       "\n",
       "[209417 rows x 50 columns]"
      ]
     },
     "execution_count": 2,
     "metadata": {},
     "output_type": "execute_result"
    }
   ],
   "source": [
    "path = r'C:\\Users\\ibmcs\\Downloads\\cicids2017\\full'\n",
    "all_files = glob.glob(path + \"/*.csv\")\n",
    "li = []\n",
    "for filename in all_files:\n",
    "    df = pd.read_csv(filename, index_col=None, header=0, encoding='utf-8', low_memory=False)\n",
    "    li.append(df)\n",
    "\n",
    "df = pd.concat(li, axis=0, ignore_index=True)\n",
    "# df['padding1'] = 0\n",
    "# df['padding2'] = 0\n",
    "# df['padding3'] = 0\n",
    "# df['padding4'] = 0\n",
    "df"
   ]
  },
  {
   "cell_type": "code",
   "execution_count": 3,
   "id": "HjSiXbkXS7Hi",
   "metadata": {
    "colab": {
     "base_uri": "https://localhost:8080/"
    },
    "id": "HjSiXbkXS7Hi",
    "outputId": "1ee5e649-81a0-404b-f48e-ecd61c8f852a"
   },
   "outputs": [
    {
     "data": {
      "text/plain": [
       "Index(['destination_port', 'flow_duration', 'total_fwd_packets',\n",
       "       'total_backward_packets', 'total_length_of_fwd_packets',\n",
       "       'total_length_of_bwd_packets', 'fwd_packet_length_max',\n",
       "       'fwd_packet_length_min', 'fwd_packet_length_mean',\n",
       "       'fwd_packet_length_std', 'bwd_packet_length_max',\n",
       "       'bwd_packet_length_min', 'bwd_packet_length_mean',\n",
       "       'bwd_packet_length_std', 'flow_packets/s', 'flow_iat_mean',\n",
       "       'flow_iat_std', 'flow_iat_max', 'flow_iat_min', 'fwd_iat_total',\n",
       "       'fwd_iat_mean', 'fwd_iat_std', 'fwd_iat_max', 'fwd_iat_min',\n",
       "       'bwd_iat_total', 'bwd_iat_mean', 'bwd_iat_std', 'bwd_iat_max',\n",
       "       'bwd_iat_min', 'fwd_psh_flags', 'fwd_urg_flags', 'fwd_header_length',\n",
       "       'bwd_header_length', 'fwd_packets/s', 'bwd_packets/s',\n",
       "       'min_packet_length', 'max_packet_length', 'packet_length_mean',\n",
       "       'packet_length_std', 'fin_flag_count', 'syn_flag_count',\n",
       "       'rst_flag_count', 'psh_flag_count', 'ack_flag_count', 'urg_flag_count',\n",
       "       'down/up_ratio', 'average_packet_size', 'avg_fwd_segment_size',\n",
       "       'avg_bwd_segment_size', 'label'],\n",
       "      dtype='object')"
      ]
     },
     "execution_count": 3,
     "metadata": {},
     "output_type": "execute_result"
    }
   ],
   "source": [
    "df.columns = df.columns.str.lower().str.lstrip().str.rstrip().str.replace(\" \",\"_\")\n",
    "df.replace([np.inf, -np.inf], np.nan, inplace=True)\n",
    "# Drop rows with NaN\n",
    "df.dropna(inplace=True)\n",
    "df.columns"
   ]
  },
  {
   "cell_type": "code",
   "execution_count": 4,
   "id": "27cd9cc0",
   "metadata": {
    "colab": {
     "base_uri": "https://localhost:8080/"
    },
    "id": "27cd9cc0",
    "outputId": "01a435cb-e1a6-4637-9848-94f61a700e84"
   },
   "outputs": [
    {
     "data": {
      "text/plain": [
       "0           ddos\n",
       "1           ddos\n",
       "2           ddos\n",
       "3           ddos\n",
       "4           ddos\n",
       "           ...  \n",
       "209412    benign\n",
       "209413    benign\n",
       "209414    benign\n",
       "209415    benign\n",
       "209416    benign\n",
       "Name: label, Length: 209205, dtype: object"
      ]
     },
     "execution_count": 4,
     "metadata": {},
     "output_type": "execute_result"
    }
   ],
   "source": [
    "all_obj_to_str = list(df.dtypes[df.dtypes == 'object'].index)\n",
    "all_obj_to_str\n",
    "for col in all_obj_to_str:\n",
    "  df[col] = df[col].astype(str).str.lower()\n",
    "df[col]"
   ]
  },
  {
   "cell_type": "code",
   "execution_count": 5,
   "id": "70b84879",
   "metadata": {
    "colab": {
     "base_uri": "https://localhost:8080/"
    },
    "id": "70b84879",
    "outputId": "a535198f-7375-444b-c27b-dd95b2055085"
   },
   "outputs": [
    {
     "data": {
      "text/plain": [
       "Index(['destination_port', 'flow_duration', 'total_fwd_packets',\n",
       "       'total_backward_packets', 'total_length_of_fwd_packets',\n",
       "       'total_length_of_bwd_packets', 'fwd_packet_length_max',\n",
       "       'fwd_packet_length_min', 'fwd_packet_length_mean',\n",
       "       'fwd_packet_length_std', 'bwd_packet_length_max',\n",
       "       'bwd_packet_length_min', 'bwd_packet_length_mean',\n",
       "       'bwd_packet_length_std', 'flow_packets/s', 'flow_iat_mean',\n",
       "       'flow_iat_std', 'flow_iat_max', 'flow_iat_min', 'fwd_iat_total',\n",
       "       'fwd_iat_mean', 'fwd_iat_std', 'fwd_iat_max', 'fwd_iat_min',\n",
       "       'bwd_iat_total', 'bwd_iat_mean', 'bwd_iat_std', 'bwd_iat_max',\n",
       "       'bwd_iat_min', 'fwd_psh_flags', 'fwd_urg_flags', 'fwd_header_length',\n",
       "       'bwd_header_length', 'fwd_packets/s', 'bwd_packets/s',\n",
       "       'min_packet_length', 'max_packet_length', 'packet_length_mean',\n",
       "       'packet_length_std', 'fin_flag_count', 'syn_flag_count',\n",
       "       'rst_flag_count', 'psh_flag_count', 'ack_flag_count', 'urg_flag_count',\n",
       "       'down/up_ratio', 'average_packet_size', 'avg_fwd_segment_size',\n",
       "       'avg_bwd_segment_size', 'label'],\n",
       "      dtype='object')"
      ]
     },
     "execution_count": 5,
     "metadata": {},
     "output_type": "execute_result"
    }
   ],
   "source": [
    "df.columns"
   ]
  },
  {
   "cell_type": "code",
   "execution_count": null,
   "id": "da7ee65d",
   "metadata": {
    "colab": {
     "base_uri": "https://localhost:8080/",
     "height": 488
    },
    "id": "da7ee65d",
    "outputId": "b9378b78-0917-4e3d-aafc-1d0b1c4455da"
   },
   "outputs": [],
   "source": [
    "# df.drop(['subflow_fwd_packets'],axis=1, inplace = True)\n",
    "# df"
   ]
  },
  {
   "cell_type": "code",
   "execution_count": 6,
   "id": "Nmc1_Drklz3z",
   "metadata": {
    "colab": {
     "base_uri": "https://localhost:8080/"
    },
    "id": "Nmc1_Drklz3z",
    "outputId": "5a094294-b45a-4c6e-a7db-4ec39c8f2438"
   },
   "outputs": [
    {
     "data": {
      "text/plain": [
       "benign         54021\n",
       "dos            49315\n",
       "ddos           46993\n",
       "portscan       40908\n",
       "brute_force    13832\n",
       "web_attack      2180\n",
       "bot             1956\n",
       "Name: label, dtype: int64"
      ]
     },
     "execution_count": 6,
     "metadata": {},
     "output_type": "execute_result"
    }
   ],
   "source": [
    "df['label'].value_counts()"
   ]
  },
  {
   "cell_type": "code",
   "execution_count": 7,
   "id": "5CjTVjmPl2gZ",
   "metadata": {
    "colab": {
     "base_uri": "https://localhost:8080/"
    },
    "id": "5CjTVjmPl2gZ",
    "outputId": "646b2a2c-d5cd-4f68-e544-276c3e831c6e"
   },
   "outputs": [
    {
     "data": {
      "text/plain": [
       "benign         54021\n",
       "dos            49315\n",
       "ddos           46993\n",
       "portscan       40908\n",
       "brute_force    13832\n",
       "web_attack      2180\n",
       "bot             1956\n",
       "Name: label, dtype: int64"
      ]
     },
     "execution_count": 7,
     "metadata": {},
     "output_type": "execute_result"
    }
   ],
   "source": [
    "Y = df['label']\n",
    "X = df.drop('label', axis = 1)\n",
    "# x_train, x_test, y_train, y_test = train_test_split(x, y, test_size=0.15, shuffle = True, random_state=42, stratify = y)\n",
    "Y.value_counts()"
   ]
  },
  {
   "cell_type": "code",
   "execution_count": 8,
   "id": "EW_C7FqBl40y",
   "metadata": {
    "id": "EW_C7FqBl40y"
   },
   "outputs": [],
   "source": [
    "x_train, x_test, y_train, y_test = train_test_split(X, Y, test_size=0.25, shuffle = True, random_state=42, stratify = Y)"
   ]
  },
  {
   "cell_type": "code",
   "execution_count": 9,
   "id": "18-FtaDel51a",
   "metadata": {
    "colab": {
     "base_uri": "https://localhost:8080/",
     "height": 488
    },
    "id": "18-FtaDel51a",
    "outputId": "df9d19a6-84d9-4abf-d686-919c668fd7b8"
   },
   "outputs": [
    {
     "data": {
      "text/html": [
       "<div>\n",
       "<style scoped>\n",
       "    .dataframe tbody tr th:only-of-type {\n",
       "        vertical-align: middle;\n",
       "    }\n",
       "\n",
       "    .dataframe tbody tr th {\n",
       "        vertical-align: top;\n",
       "    }\n",
       "\n",
       "    .dataframe thead th {\n",
       "        text-align: right;\n",
       "    }\n",
       "</style>\n",
       "<table border=\"1\" class=\"dataframe\">\n",
       "  <thead>\n",
       "    <tr style=\"text-align: right;\">\n",
       "      <th></th>\n",
       "      <th>destination_port</th>\n",
       "      <th>flow_duration</th>\n",
       "      <th>total_fwd_packets</th>\n",
       "      <th>total_backward_packets</th>\n",
       "      <th>total_length_of_fwd_packets</th>\n",
       "      <th>total_length_of_bwd_packets</th>\n",
       "      <th>fwd_packet_length_max</th>\n",
       "      <th>fwd_packet_length_min</th>\n",
       "      <th>fwd_packet_length_mean</th>\n",
       "      <th>fwd_packet_length_std</th>\n",
       "      <th>...</th>\n",
       "      <th>syn_flag_count</th>\n",
       "      <th>rst_flag_count</th>\n",
       "      <th>psh_flag_count</th>\n",
       "      <th>ack_flag_count</th>\n",
       "      <th>urg_flag_count</th>\n",
       "      <th>down/up_ratio</th>\n",
       "      <th>average_packet_size</th>\n",
       "      <th>avg_fwd_segment_size</th>\n",
       "      <th>avg_bwd_segment_size</th>\n",
       "      <th>label</th>\n",
       "    </tr>\n",
       "  </thead>\n",
       "  <tbody>\n",
       "    <tr>\n",
       "      <th>162455</th>\n",
       "      <td>80</td>\n",
       "      <td>102635248</td>\n",
       "      <td>14</td>\n",
       "      <td>3</td>\n",
       "      <td>2541</td>\n",
       "      <td>6</td>\n",
       "      <td>231</td>\n",
       "      <td>0</td>\n",
       "      <td>181.500</td>\n",
       "      <td>98.363337</td>\n",
       "      <td>...</td>\n",
       "      <td>0</td>\n",
       "      <td>0</td>\n",
       "      <td>1</td>\n",
       "      <td>0</td>\n",
       "      <td>0</td>\n",
       "      <td>0</td>\n",
       "      <td>149.823529</td>\n",
       "      <td>181.500</td>\n",
       "      <td>2.000000</td>\n",
       "      <td>dos</td>\n",
       "    </tr>\n",
       "    <tr>\n",
       "      <th>117532</th>\n",
       "      <td>21</td>\n",
       "      <td>82</td>\n",
       "      <td>1</td>\n",
       "      <td>2</td>\n",
       "      <td>6</td>\n",
       "      <td>12</td>\n",
       "      <td>6</td>\n",
       "      <td>6</td>\n",
       "      <td>6.000</td>\n",
       "      <td>0.000000</td>\n",
       "      <td>...</td>\n",
       "      <td>0</td>\n",
       "      <td>0</td>\n",
       "      <td>0</td>\n",
       "      <td>1</td>\n",
       "      <td>1</td>\n",
       "      <td>2</td>\n",
       "      <td>8.000000</td>\n",
       "      <td>6.000</td>\n",
       "      <td>6.000000</td>\n",
       "      <td>benign</td>\n",
       "    </tr>\n",
       "    <tr>\n",
       "      <th>22891</th>\n",
       "      <td>80</td>\n",
       "      <td>1859991</td>\n",
       "      <td>4</td>\n",
       "      <td>0</td>\n",
       "      <td>24</td>\n",
       "      <td>0</td>\n",
       "      <td>6</td>\n",
       "      <td>6</td>\n",
       "      <td>6.000</td>\n",
       "      <td>0.000000</td>\n",
       "      <td>...</td>\n",
       "      <td>0</td>\n",
       "      <td>0</td>\n",
       "      <td>0</td>\n",
       "      <td>1</td>\n",
       "      <td>0</td>\n",
       "      <td>0</td>\n",
       "      <td>7.500000</td>\n",
       "      <td>6.000</td>\n",
       "      <td>0.000000</td>\n",
       "      <td>ddos</td>\n",
       "    </tr>\n",
       "    <tr>\n",
       "      <th>199950</th>\n",
       "      <td>80</td>\n",
       "      <td>6</td>\n",
       "      <td>1</td>\n",
       "      <td>1</td>\n",
       "      <td>6</td>\n",
       "      <td>6</td>\n",
       "      <td>6</td>\n",
       "      <td>6</td>\n",
       "      <td>6.000</td>\n",
       "      <td>0.000000</td>\n",
       "      <td>...</td>\n",
       "      <td>0</td>\n",
       "      <td>0</td>\n",
       "      <td>0</td>\n",
       "      <td>1</td>\n",
       "      <td>0</td>\n",
       "      <td>1</td>\n",
       "      <td>9.000000</td>\n",
       "      <td>6.000</td>\n",
       "      <td>6.000000</td>\n",
       "      <td>benign</td>\n",
       "    </tr>\n",
       "    <tr>\n",
       "      <th>144435</th>\n",
       "      <td>80</td>\n",
       "      <td>5343394</td>\n",
       "      <td>4</td>\n",
       "      <td>4</td>\n",
       "      <td>439</td>\n",
       "      <td>1268</td>\n",
       "      <td>439</td>\n",
       "      <td>0</td>\n",
       "      <td>109.750</td>\n",
       "      <td>219.500000</td>\n",
       "      <td>...</td>\n",
       "      <td>0</td>\n",
       "      <td>0</td>\n",
       "      <td>1</td>\n",
       "      <td>0</td>\n",
       "      <td>0</td>\n",
       "      <td>1</td>\n",
       "      <td>213.375000</td>\n",
       "      <td>109.750</td>\n",
       "      <td>317.000000</td>\n",
       "      <td>benign</td>\n",
       "    </tr>\n",
       "    <tr>\n",
       "      <th>...</th>\n",
       "      <td>...</td>\n",
       "      <td>...</td>\n",
       "      <td>...</td>\n",
       "      <td>...</td>\n",
       "      <td>...</td>\n",
       "      <td>...</td>\n",
       "      <td>...</td>\n",
       "      <td>...</td>\n",
       "      <td>...</td>\n",
       "      <td>...</td>\n",
       "      <td>...</td>\n",
       "      <td>...</td>\n",
       "      <td>...</td>\n",
       "      <td>...</td>\n",
       "      <td>...</td>\n",
       "      <td>...</td>\n",
       "      <td>...</td>\n",
       "      <td>...</td>\n",
       "      <td>...</td>\n",
       "      <td>...</td>\n",
       "      <td>...</td>\n",
       "    </tr>\n",
       "    <tr>\n",
       "      <th>49388</th>\n",
       "      <td>53</td>\n",
       "      <td>209</td>\n",
       "      <td>2</td>\n",
       "      <td>2</td>\n",
       "      <td>64</td>\n",
       "      <td>204</td>\n",
       "      <td>32</td>\n",
       "      <td>32</td>\n",
       "      <td>32.000</td>\n",
       "      <td>0.000000</td>\n",
       "      <td>...</td>\n",
       "      <td>0</td>\n",
       "      <td>0</td>\n",
       "      <td>0</td>\n",
       "      <td>0</td>\n",
       "      <td>0</td>\n",
       "      <td>1</td>\n",
       "      <td>75.000000</td>\n",
       "      <td>32.000</td>\n",
       "      <td>102.000000</td>\n",
       "      <td>benign</td>\n",
       "    </tr>\n",
       "    <tr>\n",
       "      <th>171138</th>\n",
       "      <td>80</td>\n",
       "      <td>84637271</td>\n",
       "      <td>8</td>\n",
       "      <td>7</td>\n",
       "      <td>1053</td>\n",
       "      <td>11595</td>\n",
       "      <td>345</td>\n",
       "      <td>0</td>\n",
       "      <td>131.625</td>\n",
       "      <td>176.708750</td>\n",
       "      <td>...</td>\n",
       "      <td>0</td>\n",
       "      <td>0</td>\n",
       "      <td>0</td>\n",
       "      <td>0</td>\n",
       "      <td>0</td>\n",
       "      <td>0</td>\n",
       "      <td>843.600000</td>\n",
       "      <td>131.625</td>\n",
       "      <td>1656.428571</td>\n",
       "      <td>dos</td>\n",
       "    </tr>\n",
       "    <tr>\n",
       "      <th>156303</th>\n",
       "      <td>80</td>\n",
       "      <td>109831978</td>\n",
       "      <td>4</td>\n",
       "      <td>3</td>\n",
       "      <td>534</td>\n",
       "      <td>0</td>\n",
       "      <td>520</td>\n",
       "      <td>0</td>\n",
       "      <td>133.500</td>\n",
       "      <td>257.751172</td>\n",
       "      <td>...</td>\n",
       "      <td>0</td>\n",
       "      <td>0</td>\n",
       "      <td>1</td>\n",
       "      <td>0</td>\n",
       "      <td>0</td>\n",
       "      <td>0</td>\n",
       "      <td>76.285714</td>\n",
       "      <td>133.500</td>\n",
       "      <td>0.000000</td>\n",
       "      <td>dos</td>\n",
       "    </tr>\n",
       "    <tr>\n",
       "      <th>64922</th>\n",
       "      <td>14000</td>\n",
       "      <td>43</td>\n",
       "      <td>1</td>\n",
       "      <td>1</td>\n",
       "      <td>2</td>\n",
       "      <td>6</td>\n",
       "      <td>2</td>\n",
       "      <td>2</td>\n",
       "      <td>2.000</td>\n",
       "      <td>0.000000</td>\n",
       "      <td>...</td>\n",
       "      <td>0</td>\n",
       "      <td>0</td>\n",
       "      <td>1</td>\n",
       "      <td>0</td>\n",
       "      <td>0</td>\n",
       "      <td>1</td>\n",
       "      <td>5.000000</td>\n",
       "      <td>2.000</td>\n",
       "      <td>6.000000</td>\n",
       "      <td>portscan</td>\n",
       "    </tr>\n",
       "    <tr>\n",
       "      <th>106938</th>\n",
       "      <td>80</td>\n",
       "      <td>136</td>\n",
       "      <td>2</td>\n",
       "      <td>0</td>\n",
       "      <td>12</td>\n",
       "      <td>0</td>\n",
       "      <td>6</td>\n",
       "      <td>6</td>\n",
       "      <td>6.000</td>\n",
       "      <td>0.000000</td>\n",
       "      <td>...</td>\n",
       "      <td>0</td>\n",
       "      <td>0</td>\n",
       "      <td>0</td>\n",
       "      <td>1</td>\n",
       "      <td>0</td>\n",
       "      <td>0</td>\n",
       "      <td>9.000000</td>\n",
       "      <td>6.000</td>\n",
       "      <td>0.000000</td>\n",
       "      <td>benign</td>\n",
       "    </tr>\n",
       "  </tbody>\n",
       "</table>\n",
       "<p>156903 rows × 50 columns</p>\n",
       "</div>"
      ],
      "text/plain": [
       "        destination_port  flow_duration  total_fwd_packets  \\\n",
       "162455                80      102635248                 14   \n",
       "117532                21             82                  1   \n",
       "22891                 80        1859991                  4   \n",
       "199950                80              6                  1   \n",
       "144435                80        5343394                  4   \n",
       "...                  ...            ...                ...   \n",
       "49388                 53            209                  2   \n",
       "171138                80       84637271                  8   \n",
       "156303                80      109831978                  4   \n",
       "64922              14000             43                  1   \n",
       "106938                80            136                  2   \n",
       "\n",
       "        total_backward_packets  total_length_of_fwd_packets  \\\n",
       "162455                       3                         2541   \n",
       "117532                       2                            6   \n",
       "22891                        0                           24   \n",
       "199950                       1                            6   \n",
       "144435                       4                          439   \n",
       "...                        ...                          ...   \n",
       "49388                        2                           64   \n",
       "171138                       7                         1053   \n",
       "156303                       3                          534   \n",
       "64922                        1                            2   \n",
       "106938                       0                           12   \n",
       "\n",
       "        total_length_of_bwd_packets  fwd_packet_length_max  \\\n",
       "162455                            6                    231   \n",
       "117532                           12                      6   \n",
       "22891                             0                      6   \n",
       "199950                            6                      6   \n",
       "144435                         1268                    439   \n",
       "...                             ...                    ...   \n",
       "49388                           204                     32   \n",
       "171138                        11595                    345   \n",
       "156303                            0                    520   \n",
       "64922                             6                      2   \n",
       "106938                            0                      6   \n",
       "\n",
       "        fwd_packet_length_min  fwd_packet_length_mean  fwd_packet_length_std  \\\n",
       "162455                      0                 181.500              98.363337   \n",
       "117532                      6                   6.000               0.000000   \n",
       "22891                       6                   6.000               0.000000   \n",
       "199950                      6                   6.000               0.000000   \n",
       "144435                      0                 109.750             219.500000   \n",
       "...                       ...                     ...                    ...   \n",
       "49388                      32                  32.000               0.000000   \n",
       "171138                      0                 131.625             176.708750   \n",
       "156303                      0                 133.500             257.751172   \n",
       "64922                       2                   2.000               0.000000   \n",
       "106938                      6                   6.000               0.000000   \n",
       "\n",
       "        ...  syn_flag_count  rst_flag_count  psh_flag_count  ack_flag_count  \\\n",
       "162455  ...               0               0               1               0   \n",
       "117532  ...               0               0               0               1   \n",
       "22891   ...               0               0               0               1   \n",
       "199950  ...               0               0               0               1   \n",
       "144435  ...               0               0               1               0   \n",
       "...     ...             ...             ...             ...             ...   \n",
       "49388   ...               0               0               0               0   \n",
       "171138  ...               0               0               0               0   \n",
       "156303  ...               0               0               1               0   \n",
       "64922   ...               0               0               1               0   \n",
       "106938  ...               0               0               0               1   \n",
       "\n",
       "        urg_flag_count  down/up_ratio  average_packet_size  \\\n",
       "162455               0              0           149.823529   \n",
       "117532               1              2             8.000000   \n",
       "22891                0              0             7.500000   \n",
       "199950               0              1             9.000000   \n",
       "144435               0              1           213.375000   \n",
       "...                ...            ...                  ...   \n",
       "49388                0              1            75.000000   \n",
       "171138               0              0           843.600000   \n",
       "156303               0              0            76.285714   \n",
       "64922                0              1             5.000000   \n",
       "106938               0              0             9.000000   \n",
       "\n",
       "        avg_fwd_segment_size  avg_bwd_segment_size     label  \n",
       "162455               181.500              2.000000       dos  \n",
       "117532                 6.000              6.000000    benign  \n",
       "22891                  6.000              0.000000      ddos  \n",
       "199950                 6.000              6.000000    benign  \n",
       "144435               109.750            317.000000    benign  \n",
       "...                      ...                   ...       ...  \n",
       "49388                 32.000            102.000000    benign  \n",
       "171138               131.625           1656.428571       dos  \n",
       "156303               133.500              0.000000       dos  \n",
       "64922                  2.000              6.000000  portscan  \n",
       "106938                 6.000              0.000000    benign  \n",
       "\n",
       "[156903 rows x 50 columns]"
      ]
     },
     "execution_count": 9,
     "metadata": {},
     "output_type": "execute_result"
    }
   ],
   "source": [
    "df_train = pd.concat([x_train, y_train], axis=1)\n",
    "df_train"
   ]
  },
  {
   "cell_type": "code",
   "execution_count": 10,
   "id": "sqXGk479l70q",
   "metadata": {
    "colab": {
     "base_uri": "https://localhost:8080/"
    },
    "id": "sqXGk479l70q",
    "outputId": "9719616f-1cb4-4718-a817-9e1b67f6d7d8"
   },
   "outputs": [
    {
     "data": {
      "text/plain": [
       "benign         40515\n",
       "dos            36986\n",
       "ddos           35245\n",
       "brute_force    10374\n",
       "web_attack      1635\n",
       "bot             1467\n",
       "Name: label, dtype: int64"
      ]
     },
     "execution_count": 10,
     "metadata": {},
     "output_type": "execute_result"
    }
   ],
   "source": [
    "df_less_freq_attack = df_train[df_train['label'].str.contains('bot|web|brute|dos|ben')]\n",
    "df_less_freq_attack['label'].value_counts()"
   ]
  },
  {
   "cell_type": "code",
   "execution_count": 11,
   "id": "RgiU1OuYl9yi",
   "metadata": {
    "colab": {
     "base_uri": "https://localhost:8080/"
    },
    "id": "RgiU1OuYl9yi",
    "outputId": "8a8be85b-3fbe-4313-e140-06922fe34a19"
   },
   "outputs": [
    {
     "data": {
      "text/plain": [
       "162455       dos\n",
       "117532    benign\n",
       "22891       ddos\n",
       "199950    benign\n",
       "144435    benign\n",
       "           ...  \n",
       "5712        ddos\n",
       "49388     benign\n",
       "171138       dos\n",
       "156303       dos\n",
       "106938    benign\n",
       "Name: label, Length: 126222, dtype: object"
      ]
     },
     "execution_count": 11,
     "metadata": {},
     "output_type": "execute_result"
    }
   ],
   "source": [
    "y_df_less_freq_attack = df_less_freq_attack['label']\n",
    "x_df_less_freq_attack = df_less_freq_attack.drop('label', axis = 1)\n",
    "y_df_less_freq_attack"
   ]
  },
  {
   "cell_type": "code",
   "execution_count": 12,
   "id": "Ds9qQoN5l_e0",
   "metadata": {
    "colab": {
     "base_uri": "https://localhost:8080/"
    },
    "id": "Ds9qQoN5l_e0",
    "outputId": "ee5a3d86-208e-4555-d3f8-97c4fb353bac"
   },
   "outputs": [
    {
     "name": "stdout",
     "output_type": "stream",
     "text": [
      "before Counter({'benign': 40515, 'dos': 36986, 'ddos': 35245, 'brute_force': 10374, 'web_attack': 1635, 'bot': 1467})\n",
      "After Counter({'brute_force': 40242, 'bot': 40136, 'web_attack': 39998, 'ddos': 39832, 'dos': 39059, 'benign': 38444})\n"
     ]
    }
   ],
   "source": [
    "# from imblearn.over_sampling import SMOTE\n",
    "# from imblearn.over_sampling import SVMSMOTE\n",
    "from imblearn.combine import SMOTEENN\n",
    "# from imblearn.combine import SMOTETomek\n",
    "counter = Counter(y_df_less_freq_attack)\n",
    "print(\"before\",counter)\n",
    "# # Resampling the minority class. The strategy can be changed as required.\n",
    "# sm = SMOTE()\n",
    "# sm = SVMSMOTE(sampling_strategy='auto', random_state=None)\n",
    "sm = SMOTEENN(sampling_strategy='auto')\n",
    "# sm = SMOTETomek(random_state = 139)\n",
    "# x_train,y_train = sm.fit_resample(x_train, y_train) \n",
    "x_df_less_freq_attack,y_df_less_freq_attack = sm.fit_resample(x_df_less_freq_attack,y_df_less_freq_attack)\n",
    "# x_train,y_train = smotomek.fit_resample(x_train,y_train)\n",
    "\n",
    "counter = Counter(y_df_less_freq_attack)\n",
    "print(\"After\",counter)"
   ]
  },
  {
   "cell_type": "code",
   "execution_count": 13,
   "id": "22c53df1",
   "metadata": {
    "colab": {
     "base_uri": "https://localhost:8080/",
     "height": 488
    },
    "id": "22c53df1",
    "outputId": "e5b160bc-b0dc-4069-d9ca-f8d7ddbbdd43"
   },
   "outputs": [
    {
     "data": {
      "text/html": [
       "<div>\n",
       "<style scoped>\n",
       "    .dataframe tbody tr th:only-of-type {\n",
       "        vertical-align: middle;\n",
       "    }\n",
       "\n",
       "    .dataframe tbody tr th {\n",
       "        vertical-align: top;\n",
       "    }\n",
       "\n",
       "    .dataframe thead th {\n",
       "        text-align: right;\n",
       "    }\n",
       "</style>\n",
       "<table border=\"1\" class=\"dataframe\">\n",
       "  <thead>\n",
       "    <tr style=\"text-align: right;\">\n",
       "      <th></th>\n",
       "      <th>destination_port</th>\n",
       "      <th>flow_duration</th>\n",
       "      <th>total_fwd_packets</th>\n",
       "      <th>total_backward_packets</th>\n",
       "      <th>total_length_of_fwd_packets</th>\n",
       "      <th>total_length_of_bwd_packets</th>\n",
       "      <th>fwd_packet_length_max</th>\n",
       "      <th>fwd_packet_length_min</th>\n",
       "      <th>fwd_packet_length_mean</th>\n",
       "      <th>fwd_packet_length_std</th>\n",
       "      <th>...</th>\n",
       "      <th>syn_flag_count</th>\n",
       "      <th>rst_flag_count</th>\n",
       "      <th>psh_flag_count</th>\n",
       "      <th>ack_flag_count</th>\n",
       "      <th>urg_flag_count</th>\n",
       "      <th>down/up_ratio</th>\n",
       "      <th>average_packet_size</th>\n",
       "      <th>avg_fwd_segment_size</th>\n",
       "      <th>avg_bwd_segment_size</th>\n",
       "      <th>label</th>\n",
       "    </tr>\n",
       "  </thead>\n",
       "  <tbody>\n",
       "    <tr>\n",
       "      <th>0</th>\n",
       "      <td>21</td>\n",
       "      <td>82</td>\n",
       "      <td>1</td>\n",
       "      <td>2</td>\n",
       "      <td>6</td>\n",
       "      <td>12</td>\n",
       "      <td>6</td>\n",
       "      <td>6</td>\n",
       "      <td>6.00</td>\n",
       "      <td>0.0</td>\n",
       "      <td>...</td>\n",
       "      <td>0</td>\n",
       "      <td>0</td>\n",
       "      <td>0</td>\n",
       "      <td>1</td>\n",
       "      <td>1</td>\n",
       "      <td>2</td>\n",
       "      <td>8.000</td>\n",
       "      <td>6.00</td>\n",
       "      <td>6.0</td>\n",
       "      <td>benign</td>\n",
       "    </tr>\n",
       "    <tr>\n",
       "      <th>1</th>\n",
       "      <td>80</td>\n",
       "      <td>5343394</td>\n",
       "      <td>4</td>\n",
       "      <td>4</td>\n",
       "      <td>439</td>\n",
       "      <td>1268</td>\n",
       "      <td>439</td>\n",
       "      <td>0</td>\n",
       "      <td>109.75</td>\n",
       "      <td>219.5</td>\n",
       "      <td>...</td>\n",
       "      <td>0</td>\n",
       "      <td>0</td>\n",
       "      <td>1</td>\n",
       "      <td>0</td>\n",
       "      <td>0</td>\n",
       "      <td>1</td>\n",
       "      <td>213.375</td>\n",
       "      <td>109.75</td>\n",
       "      <td>317.0</td>\n",
       "      <td>benign</td>\n",
       "    </tr>\n",
       "    <tr>\n",
       "      <th>2</th>\n",
       "      <td>22450</td>\n",
       "      <td>6055798</td>\n",
       "      <td>1</td>\n",
       "      <td>5</td>\n",
       "      <td>6</td>\n",
       "      <td>30</td>\n",
       "      <td>6</td>\n",
       "      <td>6</td>\n",
       "      <td>6.00</td>\n",
       "      <td>0.0</td>\n",
       "      <td>...</td>\n",
       "      <td>0</td>\n",
       "      <td>0</td>\n",
       "      <td>0</td>\n",
       "      <td>1</td>\n",
       "      <td>1</td>\n",
       "      <td>5</td>\n",
       "      <td>7.000</td>\n",
       "      <td>6.00</td>\n",
       "      <td>6.0</td>\n",
       "      <td>benign</td>\n",
       "    </tr>\n",
       "    <tr>\n",
       "      <th>3</th>\n",
       "      <td>53</td>\n",
       "      <td>181258</td>\n",
       "      <td>1</td>\n",
       "      <td>1</td>\n",
       "      <td>43</td>\n",
       "      <td>144</td>\n",
       "      <td>43</td>\n",
       "      <td>43</td>\n",
       "      <td>43.00</td>\n",
       "      <td>0.0</td>\n",
       "      <td>...</td>\n",
       "      <td>0</td>\n",
       "      <td>0</td>\n",
       "      <td>0</td>\n",
       "      <td>0</td>\n",
       "      <td>0</td>\n",
       "      <td>1</td>\n",
       "      <td>115.000</td>\n",
       "      <td>43.00</td>\n",
       "      <td>144.0</td>\n",
       "      <td>benign</td>\n",
       "    </tr>\n",
       "    <tr>\n",
       "      <th>4</th>\n",
       "      <td>53</td>\n",
       "      <td>36227</td>\n",
       "      <td>1</td>\n",
       "      <td>1</td>\n",
       "      <td>56</td>\n",
       "      <td>72</td>\n",
       "      <td>56</td>\n",
       "      <td>56</td>\n",
       "      <td>56.00</td>\n",
       "      <td>0.0</td>\n",
       "      <td>...</td>\n",
       "      <td>0</td>\n",
       "      <td>0</td>\n",
       "      <td>0</td>\n",
       "      <td>0</td>\n",
       "      <td>0</td>\n",
       "      <td>1</td>\n",
       "      <td>92.000</td>\n",
       "      <td>56.00</td>\n",
       "      <td>72.0</td>\n",
       "      <td>benign</td>\n",
       "    </tr>\n",
       "    <tr>\n",
       "      <th>...</th>\n",
       "      <td>...</td>\n",
       "      <td>...</td>\n",
       "      <td>...</td>\n",
       "      <td>...</td>\n",
       "      <td>...</td>\n",
       "      <td>...</td>\n",
       "      <td>...</td>\n",
       "      <td>...</td>\n",
       "      <td>...</td>\n",
       "      <td>...</td>\n",
       "      <td>...</td>\n",
       "      <td>...</td>\n",
       "      <td>...</td>\n",
       "      <td>...</td>\n",
       "      <td>...</td>\n",
       "      <td>...</td>\n",
       "      <td>...</td>\n",
       "      <td>...</td>\n",
       "      <td>...</td>\n",
       "      <td>...</td>\n",
       "      <td>...</td>\n",
       "    </tr>\n",
       "    <tr>\n",
       "      <th>237706</th>\n",
       "      <td>80</td>\n",
       "      <td>5838604</td>\n",
       "      <td>3</td>\n",
       "      <td>1</td>\n",
       "      <td>0</td>\n",
       "      <td>0</td>\n",
       "      <td>0</td>\n",
       "      <td>0</td>\n",
       "      <td>0.00</td>\n",
       "      <td>0.0</td>\n",
       "      <td>...</td>\n",
       "      <td>0</td>\n",
       "      <td>0</td>\n",
       "      <td>1</td>\n",
       "      <td>0</td>\n",
       "      <td>0</td>\n",
       "      <td>0</td>\n",
       "      <td>0.000</td>\n",
       "      <td>0.00</td>\n",
       "      <td>0.0</td>\n",
       "      <td>web_attack</td>\n",
       "    </tr>\n",
       "    <tr>\n",
       "      <th>237707</th>\n",
       "      <td>80</td>\n",
       "      <td>5032137</td>\n",
       "      <td>3</td>\n",
       "      <td>1</td>\n",
       "      <td>0</td>\n",
       "      <td>0</td>\n",
       "      <td>0</td>\n",
       "      <td>0</td>\n",
       "      <td>0.00</td>\n",
       "      <td>0.0</td>\n",
       "      <td>...</td>\n",
       "      <td>0</td>\n",
       "      <td>0</td>\n",
       "      <td>1</td>\n",
       "      <td>0</td>\n",
       "      <td>0</td>\n",
       "      <td>0</td>\n",
       "      <td>0.000</td>\n",
       "      <td>0.00</td>\n",
       "      <td>0.0</td>\n",
       "      <td>web_attack</td>\n",
       "    </tr>\n",
       "    <tr>\n",
       "      <th>237708</th>\n",
       "      <td>80</td>\n",
       "      <td>5780507</td>\n",
       "      <td>3</td>\n",
       "      <td>1</td>\n",
       "      <td>0</td>\n",
       "      <td>0</td>\n",
       "      <td>0</td>\n",
       "      <td>0</td>\n",
       "      <td>0.00</td>\n",
       "      <td>0.0</td>\n",
       "      <td>...</td>\n",
       "      <td>0</td>\n",
       "      <td>0</td>\n",
       "      <td>1</td>\n",
       "      <td>0</td>\n",
       "      <td>0</td>\n",
       "      <td>0</td>\n",
       "      <td>0.000</td>\n",
       "      <td>0.00</td>\n",
       "      <td>0.0</td>\n",
       "      <td>web_attack</td>\n",
       "    </tr>\n",
       "    <tr>\n",
       "      <th>237709</th>\n",
       "      <td>80</td>\n",
       "      <td>5911499</td>\n",
       "      <td>3</td>\n",
       "      <td>1</td>\n",
       "      <td>0</td>\n",
       "      <td>0</td>\n",
       "      <td>0</td>\n",
       "      <td>0</td>\n",
       "      <td>0.00</td>\n",
       "      <td>0.0</td>\n",
       "      <td>...</td>\n",
       "      <td>0</td>\n",
       "      <td>0</td>\n",
       "      <td>1</td>\n",
       "      <td>0</td>\n",
       "      <td>0</td>\n",
       "      <td>0</td>\n",
       "      <td>0.000</td>\n",
       "      <td>0.00</td>\n",
       "      <td>0.0</td>\n",
       "      <td>web_attack</td>\n",
       "    </tr>\n",
       "    <tr>\n",
       "      <th>237710</th>\n",
       "      <td>80</td>\n",
       "      <td>109</td>\n",
       "      <td>1</td>\n",
       "      <td>1</td>\n",
       "      <td>0</td>\n",
       "      <td>0</td>\n",
       "      <td>0</td>\n",
       "      <td>0</td>\n",
       "      <td>0.00</td>\n",
       "      <td>0.0</td>\n",
       "      <td>...</td>\n",
       "      <td>0</td>\n",
       "      <td>0</td>\n",
       "      <td>0</td>\n",
       "      <td>1</td>\n",
       "      <td>1</td>\n",
       "      <td>1</td>\n",
       "      <td>0.000</td>\n",
       "      <td>0.00</td>\n",
       "      <td>0.0</td>\n",
       "      <td>web_attack</td>\n",
       "    </tr>\n",
       "  </tbody>\n",
       "</table>\n",
       "<p>237711 rows × 50 columns</p>\n",
       "</div>"
      ],
      "text/plain": [
       "        destination_port  flow_duration  total_fwd_packets  \\\n",
       "0                     21             82                  1   \n",
       "1                     80        5343394                  4   \n",
       "2                  22450        6055798                  1   \n",
       "3                     53         181258                  1   \n",
       "4                     53          36227                  1   \n",
       "...                  ...            ...                ...   \n",
       "237706                80        5838604                  3   \n",
       "237707                80        5032137                  3   \n",
       "237708                80        5780507                  3   \n",
       "237709                80        5911499                  3   \n",
       "237710                80            109                  1   \n",
       "\n",
       "        total_backward_packets  total_length_of_fwd_packets  \\\n",
       "0                            2                            6   \n",
       "1                            4                          439   \n",
       "2                            5                            6   \n",
       "3                            1                           43   \n",
       "4                            1                           56   \n",
       "...                        ...                          ...   \n",
       "237706                       1                            0   \n",
       "237707                       1                            0   \n",
       "237708                       1                            0   \n",
       "237709                       1                            0   \n",
       "237710                       1                            0   \n",
       "\n",
       "        total_length_of_bwd_packets  fwd_packet_length_max  \\\n",
       "0                                12                      6   \n",
       "1                              1268                    439   \n",
       "2                                30                      6   \n",
       "3                               144                     43   \n",
       "4                                72                     56   \n",
       "...                             ...                    ...   \n",
       "237706                            0                      0   \n",
       "237707                            0                      0   \n",
       "237708                            0                      0   \n",
       "237709                            0                      0   \n",
       "237710                            0                      0   \n",
       "\n",
       "        fwd_packet_length_min  fwd_packet_length_mean  fwd_packet_length_std  \\\n",
       "0                           6                    6.00                    0.0   \n",
       "1                           0                  109.75                  219.5   \n",
       "2                           6                    6.00                    0.0   \n",
       "3                          43                   43.00                    0.0   \n",
       "4                          56                   56.00                    0.0   \n",
       "...                       ...                     ...                    ...   \n",
       "237706                      0                    0.00                    0.0   \n",
       "237707                      0                    0.00                    0.0   \n",
       "237708                      0                    0.00                    0.0   \n",
       "237709                      0                    0.00                    0.0   \n",
       "237710                      0                    0.00                    0.0   \n",
       "\n",
       "        ...  syn_flag_count  rst_flag_count  psh_flag_count  ack_flag_count  \\\n",
       "0       ...               0               0               0               1   \n",
       "1       ...               0               0               1               0   \n",
       "2       ...               0               0               0               1   \n",
       "3       ...               0               0               0               0   \n",
       "4       ...               0               0               0               0   \n",
       "...     ...             ...             ...             ...             ...   \n",
       "237706  ...               0               0               1               0   \n",
       "237707  ...               0               0               1               0   \n",
       "237708  ...               0               0               1               0   \n",
       "237709  ...               0               0               1               0   \n",
       "237710  ...               0               0               0               1   \n",
       "\n",
       "        urg_flag_count  down/up_ratio  average_packet_size  \\\n",
       "0                    1              2                8.000   \n",
       "1                    0              1              213.375   \n",
       "2                    1              5                7.000   \n",
       "3                    0              1              115.000   \n",
       "4                    0              1               92.000   \n",
       "...                ...            ...                  ...   \n",
       "237706               0              0                0.000   \n",
       "237707               0              0                0.000   \n",
       "237708               0              0                0.000   \n",
       "237709               0              0                0.000   \n",
       "237710               1              1                0.000   \n",
       "\n",
       "        avg_fwd_segment_size  avg_bwd_segment_size       label  \n",
       "0                       6.00                   6.0      benign  \n",
       "1                     109.75                 317.0      benign  \n",
       "2                       6.00                   6.0      benign  \n",
       "3                      43.00                 144.0      benign  \n",
       "4                      56.00                  72.0      benign  \n",
       "...                      ...                   ...         ...  \n",
       "237706                  0.00                   0.0  web_attack  \n",
       "237707                  0.00                   0.0  web_attack  \n",
       "237708                  0.00                   0.0  web_attack  \n",
       "237709                  0.00                   0.0  web_attack  \n",
       "237710                  0.00                   0.0  web_attack  \n",
       "\n",
       "[237711 rows x 50 columns]"
      ]
     },
     "execution_count": 13,
     "metadata": {},
     "output_type": "execute_result"
    }
   ],
   "source": [
    "df_less = pd.concat([x_df_less_freq_attack, y_df_less_freq_attack], axis=1)\n",
    "df_less"
   ]
  },
  {
   "cell_type": "code",
   "execution_count": 14,
   "id": "6aff9ca8",
   "metadata": {
    "colab": {
     "base_uri": "https://localhost:8080/"
    },
    "id": "6aff9ca8",
    "outputId": "1be6a27b-9067-4884-d0b7-3c9da13408cb"
   },
   "outputs": [
    {
     "data": {
      "text/plain": [
       "benign      40515\n",
       "dos         36986\n",
       "ddos        35245\n",
       "portscan    30681\n",
       "Name: label, dtype: int64"
      ]
     },
     "execution_count": 14,
     "metadata": {},
     "output_type": "execute_result"
    }
   ],
   "source": [
    "# df_train = df_train[df_train.label != \"dos\"]\n",
    "# df_train = df_train[df_train.label != \"generic\"]\n",
    "# df_train = df_train[df_train.label != \"portscan\"]\n",
    "df_train = df_train[df_train.label != \"brute_force\"]\n",
    "df_train = df_train[df_train.label != \"web_attack\"]\n",
    "df_train = df_train[df_train.label != \"bot\"]\n",
    "\n",
    "df_train['label'].value_counts()"
   ]
  },
  {
   "cell_type": "code",
   "execution_count": 15,
   "id": "8d46f495",
   "metadata": {
    "colab": {
     "base_uri": "https://localhost:8080/"
    },
    "id": "8d46f495",
    "outputId": "ba0d7841-568b-4c29-b6c6-ce5ac0dbd5bd"
   },
   "outputs": [
    {
     "data": {
      "text/plain": [
       "array(['dos', 'benign', 'ddos', 'portscan', 'bot', 'brute_force',\n",
       "       'web_attack'], dtype=object)"
      ]
     },
     "execution_count": 15,
     "metadata": {},
     "output_type": "execute_result"
    }
   ],
   "source": [
    "df_train = pd.concat([df_train, df_less], axis=0)\n",
    "df_train['label'].unique()"
   ]
  },
  {
   "cell_type": "code",
   "execution_count": 16,
   "id": "lM2mqezqmP54",
   "metadata": {
    "colab": {
     "base_uri": "https://localhost:8080/"
    },
    "id": "lM2mqezqmP54",
    "outputId": "c0ed5223-693a-40e0-d8d6-1924c5513706"
   },
   "outputs": [
    {
     "data": {
      "text/plain": [
       "benign         78959\n",
       "dos            76045\n",
       "ddos           75077\n",
       "brute_force    40242\n",
       "bot            40136\n",
       "web_attack     39998\n",
       "portscan       30681\n",
       "Name: label, dtype: int64"
      ]
     },
     "execution_count": 16,
     "metadata": {},
     "output_type": "execute_result"
    }
   ],
   "source": [
    "y_train = df_train['label']\n",
    "x_train = df_train.drop('label', axis = 1)\n",
    "# x_train, x_test, y_train, y_test = train_test_split(X, Y, test_size=0.15, shuffle = True, random_state=42, stratify = Y)\n",
    "# # x_train,valid_x,train_label,valid_label = train_test_split(x_train, y_train, test_size=0.20, random_state=42, stratify = y_train)\n",
    "y_train.value_counts()"
   ]
  },
  {
   "cell_type": "code",
   "execution_count": 17,
   "id": "-KuX9PrSmSL-",
   "metadata": {
    "colab": {
     "base_uri": "https://localhost:8080/"
    },
    "id": "-KuX9PrSmSL-",
    "outputId": "92dbaeee-fa09-4394-a8ed-b6565d342ae5"
   },
   "outputs": [
    {
     "name": "stdout",
     "output_type": "stream",
     "text": [
      "Training data shape :  (381138, 49) (381138,)\n",
      "Testing data shape :  (52302, 49) (52302,)\n",
      "Total number of outputs :  7\n",
      "Output classes :  ['benign' 'bot' 'brute_force' 'ddos' 'dos' 'portscan' 'web_attack']\n"
     ]
    }
   ],
   "source": [
    "print('Training data shape : ', x_train.shape, y_train.shape)\n",
    "print('Testing data shape : ', x_test.shape, y_test.shape)\n",
    "# Find the unique numbers from the train labels\n",
    "classes = np.unique(y_train)\n",
    "nClasses = len(classes)\n",
    "print('Total number of outputs : ', nClasses)\n",
    "print('Output classes : ', classes)"
   ]
  },
  {
   "cell_type": "code",
   "execution_count": 18,
   "id": "-bDB9zMPmUD5",
   "metadata": {
    "colab": {
     "base_uri": "https://localhost:8080/"
    },
    "id": "-bDB9zMPmUD5",
    "outputId": "1c240161-6fb2-4a92-d041-91fa2078e7b1"
   },
   "outputs": [
    {
     "name": "stdout",
     "output_type": "stream",
     "text": [
      "(381138, 49)\n",
      "(52302, 49)\n"
     ]
    }
   ],
   "source": [
    "scaler = MinMaxScaler()\n",
    "x_train = scaler.fit_transform(x_train)\n",
    "x_test = scaler.fit_transform(x_test)\n",
    "print(x_train.shape)\n",
    "print(x_test.shape)"
   ]
  },
  {
   "cell_type": "code",
   "execution_count": 19,
   "id": "SB8oZauumV1Q",
   "metadata": {
    "id": "SB8oZauumV1Q"
   },
   "outputs": [],
   "source": [
    "#label encoding y_train\n",
    "label_encoder = preprocessing.LabelEncoder()\n",
    "y_train = label_encoder.fit_transform(y_train)\n",
    "y_test = label_encoder.fit_transform(y_test)"
   ]
  },
  {
   "cell_type": "code",
   "execution_count": 20,
   "id": "yrqxcUtbmXmv",
   "metadata": {
    "colab": {
     "base_uri": "https://localhost:8080/"
    },
    "id": "yrqxcUtbmXmv",
    "outputId": "423db7cc-e34f-4e91-bd97-1b594bc4df7d"
   },
   "outputs": [
    {
     "data": {
      "text/plain": [
       "((52302, 7), (381138, 7))"
      ]
     },
     "execution_count": 20,
     "metadata": {},
     "output_type": "execute_result"
    }
   ],
   "source": [
    "#label encoding y_train\n",
    "# label_encoder = preprocessing.LabelEncoder()\n",
    "y_test = to_categorical(y_test,  num_classes = 7)\n",
    "y_train = to_categorical(y_train, num_classes = 7)\n",
    "y_test.shape, y_train.shape"
   ]
  },
  {
   "cell_type": "code",
   "execution_count": 21,
   "id": "FCdCyXAKmZKp",
   "metadata": {
    "colab": {
     "base_uri": "https://localhost:8080/"
    },
    "id": "FCdCyXAKmZKp",
    "outputId": "8739050f-91db-4551-ee13-9003440c58eb"
   },
   "outputs": [
    {
     "name": "stdout",
     "output_type": "stream",
     "text": [
      "x_train shape:  (381138, 7, 7, 1)\n",
      "x_test shape:  (52302, 7, 7, 1)\n"
     ]
    }
   ],
   "source": [
    "#Reshape\n",
    "x_train = x_train.reshape(-1,7,7,1)\n",
    "x_test = x_test.reshape(-1,7,7,1)\n",
    "print(\"x_train shape: \",x_train.shape)\n",
    "print(\"x_test shape: \",x_test.shape)"
   ]
  },
  {
   "cell_type": "code",
   "execution_count": 22,
   "id": "G29ztRvsmcpw",
   "metadata": {
    "id": "G29ztRvsmcpw"
   },
   "outputs": [],
   "source": [
    "from sklearn.model_selection import train_test_split\n",
    "x_train,valid_x,train_label,valid_label = train_test_split(x_train, y_train, test_size=0.15, random_state=42, shuffle=True, stratify = y_train)"
   ]
  },
  {
   "cell_type": "code",
   "execution_count": 23,
   "id": "4OxaMmRYme6p",
   "metadata": {
    "colab": {
     "base_uri": "https://localhost:8080/"
    },
    "id": "4OxaMmRYme6p",
    "outputId": "120c7030-a76a-43a0-cd4c-83005c558269"
   },
   "outputs": [
    {
     "data": {
      "text/plain": [
       "((7, 7, 1), (57171, 7, 7, 1), (323967, 7), (57171, 7))"
      ]
     },
     "execution_count": 23,
     "metadata": {},
     "output_type": "execute_result"
    }
   ],
   "source": [
    "x_train.shape[1:],valid_x.shape,train_label.shape,valid_label.shape"
   ]
  },
  {
   "cell_type": "code",
   "execution_count": 24,
   "id": "46c58a36",
   "metadata": {
    "id": "46c58a36"
   },
   "outputs": [],
   "source": [
    "import keras\n",
    "from keras.models import Sequential,Input,Model\n",
    "from keras.layers import Dense, LSTM, Dropout, GRU, Bidirectional, Flatten, CuDNNLSTM, Bidirectional\n",
    "from keras.layers import Conv2D, MaxPooling2D, BatchNormalization\n",
    "# from tensorflow.keras.layers import BatchNormalization\n",
    "from keras.layers.advanced_activations import LeakyReLU\n",
    "from tensorflow.keras.optimizers import RMSprop,Adam, SGD\n",
    "import tensorflow as tf \n",
    "from sklearn.utils import class_weight\n",
    "from keras.preprocessing.image import ImageDataGenerator"
   ]
  },
  {
   "cell_type": "code",
   "execution_count": 40,
   "id": "c568ffba",
   "metadata": {
    "id": "c568ffba"
   },
   "outputs": [],
   "source": [
    "batch_size = 64\n",
    "epochs = 50\n",
    "num_classes = 7"
   ]
  },
  {
   "cell_type": "code",
   "execution_count": 41,
   "id": "8d72bbcd",
   "metadata": {
    "id": "8d72bbcd"
   },
   "outputs": [],
   "source": [
    "model1 = Sequential()\n",
    "model1.add(Conv2D(16, kernel_size=(2, 2),activation='relu',padding='same',input_shape=(7,7,1)))\n",
    "model1.add(Conv2D(16, (2, 2), activation='relu',padding='same'))\n",
    "# model1.add(MaxPooling2D(pool_size=(2, 2),padding='same'))\n",
    "# model1.add(MaxPooling2D(pool_size=(2, 2),padding='same'))\n",
    "\n",
    "# model1.add(Dropout(0.25))\n",
    "\n",
    "\n",
    "model1.add(Conv2D(32, (2, 2), activation='relu',padding='same'))\n",
    "model1.add(Conv2D(32, (2, 2), activation='relu',padding='same'))\n",
    "# model.add(Conv2D(64, (2, 2), activation='relu',padding='same'))\n",
    "model1.add(MaxPooling2D(pool_size=(2, 2),padding='same'))\n",
    "# model1.add(MaxPooling2D(pool_size=(2, 2),padding='same'))\n",
    "\n",
    "# model.add(Dropout(0.20))\n",
    "\n",
    "\n",
    "model1.add(Conv2D(64, (2, 2), activation='relu',padding='same'))\n",
    "model1.add(Conv2D(64, (2, 2), activation='relu',padding='same'))\n",
    "# model.add(Conv2D(128, (2, 2), activation='relu',padding='same'))\n",
    "# model.add(Conv2D(256, (3, 3), activation='relu',padding='same'))\n",
    "model1.add(MaxPooling2D(pool_size=(2, 2),padding='same'))\n",
    "# model1.add(MaxPooling2D(pool_size=(2, 2),padding='same'))\n",
    "# model1.add(Dropout(0.20))\n",
    "\n",
    "\n",
    "\n",
    "\n",
    "model1.add(Flatten())\n",
    "model1.add(Dense(1024, activation='relu'))       \n",
    "model1.add(Dropout(0.3))\n",
    "model1.add(Dense(512, activation='relu'))\n",
    "model1.add(Dense(num_classes, activation='softmax'))"
   ]
  },
  {
   "cell_type": "code",
   "execution_count": 42,
   "id": "11c068be",
   "metadata": {
    "id": "11c068be"
   },
   "outputs": [],
   "source": [
    "optimizer = Adam(learning_rate=0.001)\n",
    "model1.compile(optimizer = optimizer , loss = \"categorical_crossentropy\", metrics=[\"accuracy\"])"
   ]
  },
  {
   "cell_type": "code",
   "execution_count": 43,
   "id": "28810d50",
   "metadata": {
    "colab": {
     "base_uri": "https://localhost:8080/"
    },
    "id": "28810d50",
    "outputId": "aea4d1a1-68db-451a-cd0b-9187fced9c78"
   },
   "outputs": [
    {
     "name": "stdout",
     "output_type": "stream",
     "text": [
      "Epoch 1/50\n",
      "5062/5062 [==============================] - 37s 7ms/step - loss: 0.1672 - accuracy: 0.9412 - val_loss: 0.0622 - val_accuracy: 0.9789\n",
      "Epoch 2/50\n",
      "5062/5062 [==============================] - 36s 7ms/step - loss: 0.0628 - accuracy: 0.9795 - val_loss: 0.0473 - val_accuracy: 0.9846\n",
      "Epoch 3/50\n",
      "5062/5062 [==============================] - 37s 7ms/step - loss: 0.0531 - accuracy: 0.9826 - val_loss: 0.0618 - val_accuracy: 0.9823\n",
      "Epoch 4/50\n",
      "5062/5062 [==============================] - 36s 7ms/step - loss: 0.0447 - accuracy: 0.9863 - val_loss: 0.0429 - val_accuracy: 0.9851\n",
      "Epoch 5/50\n",
      "5062/5062 [==============================] - 37s 7ms/step - loss: 0.0392 - accuracy: 0.9881 - val_loss: 0.0272 - val_accuracy: 0.9921\n",
      "Epoch 6/50\n",
      "5062/5062 [==============================] - 37s 7ms/step - loss: 0.0342 - accuracy: 0.9902 - val_loss: 0.0406 - val_accuracy: 0.9866\n",
      "Epoch 7/50\n",
      "5062/5062 [==============================] - 37s 7ms/step - loss: 0.0320 - accuracy: 0.9910 - val_loss: 0.0297 - val_accuracy: 0.9906\n",
      "Epoch 8/50\n",
      "5062/5062 [==============================] - 37s 7ms/step - loss: 0.0294 - accuracy: 0.9917 - val_loss: 0.0267 - val_accuracy: 0.9917\n",
      "Epoch 9/50\n",
      "5062/5062 [==============================] - 36s 7ms/step - loss: 0.0300 - accuracy: 0.9915 - val_loss: 0.0256 - val_accuracy: 0.9940\n",
      "Epoch 10/50\n",
      "5062/5062 [==============================] - 37s 7ms/step - loss: 0.0283 - accuracy: 0.9920 - val_loss: 0.0268 - val_accuracy: 0.9930\n",
      "Epoch 11/50\n",
      "5062/5062 [==============================] - 37s 7ms/step - loss: 0.0295 - accuracy: 0.9915 - val_loss: 0.0702 - val_accuracy: 0.9829\n",
      "Epoch 12/50\n",
      "5062/5062 [==============================] - 37s 7ms/step - loss: 0.0267 - accuracy: 0.9927 - val_loss: 0.0287 - val_accuracy: 0.9923\n",
      "Epoch 13/50\n",
      "5062/5062 [==============================] - 37s 7ms/step - loss: 0.0265 - accuracy: 0.9926 - val_loss: 0.0224 - val_accuracy: 0.9936\n",
      "Epoch 14/50\n",
      "5062/5062 [==============================] - 37s 7ms/step - loss: 0.0242 - accuracy: 0.9930 - val_loss: 0.0223 - val_accuracy: 0.9939\n",
      "Epoch 15/50\n",
      "5062/5062 [==============================] - 37s 7ms/step - loss: 0.0244 - accuracy: 0.9932 - val_loss: 0.0352 - val_accuracy: 0.9890\n",
      "Epoch 16/50\n",
      "5062/5062 [==============================] - 37s 7ms/step - loss: 0.0249 - accuracy: 0.9930 - val_loss: 0.0255 - val_accuracy: 0.9927\n",
      "Epoch 17/50\n",
      "5062/5062 [==============================] - 37s 7ms/step - loss: 0.0251 - accuracy: 0.9930 - val_loss: 0.0214 - val_accuracy: 0.9939\n",
      "Epoch 18/50\n",
      "5062/5062 [==============================] - 37s 7ms/step - loss: 0.0220 - accuracy: 0.9936 - val_loss: 0.0196 - val_accuracy: 0.9945\n",
      "Epoch 19/50\n",
      "5062/5062 [==============================] - 37s 7ms/step - loss: 0.0236 - accuracy: 0.9933 - val_loss: 0.0180 - val_accuracy: 0.9950\n",
      "Epoch 20/50\n",
      "5062/5062 [==============================] - 37s 7ms/step - loss: 0.0211 - accuracy: 0.9939 - val_loss: 0.0229 - val_accuracy: 0.9946\n",
      "Epoch 21/50\n",
      "5062/5062 [==============================] - 37s 7ms/step - loss: 0.0227 - accuracy: 0.9936 - val_loss: 0.0177 - val_accuracy: 0.9948\n",
      "Epoch 22/50\n",
      "5062/5062 [==============================] - 37s 7ms/step - loss: 0.0211 - accuracy: 0.9940 - val_loss: 0.0201 - val_accuracy: 0.9941\n",
      "Epoch 23/50\n",
      "5062/5062 [==============================] - 37s 7ms/step - loss: 0.0211 - accuracy: 0.9941 - val_loss: 0.0166 - val_accuracy: 0.9952\n",
      "Epoch 24/50\n",
      "5062/5062 [==============================] - 37s 7ms/step - loss: 0.0198 - accuracy: 0.9944 - val_loss: 0.0175 - val_accuracy: 0.9953\n",
      "Epoch 25/50\n",
      "5062/5062 [==============================] - 37s 7ms/step - loss: 0.0203 - accuracy: 0.9944 - val_loss: 0.0184 - val_accuracy: 0.9956\n",
      "Epoch 26/50\n",
      "5062/5062 [==============================] - 36s 7ms/step - loss: 0.0185 - accuracy: 0.9949 - val_loss: 0.0146 - val_accuracy: 0.9961\n",
      "Epoch 27/50\n",
      "5062/5062 [==============================] - 37s 7ms/step - loss: 0.0196 - accuracy: 0.9947 - val_loss: 0.0205 - val_accuracy: 0.9949\n",
      "Epoch 28/50\n",
      "5062/5062 [==============================] - 37s 7ms/step - loss: 0.0204 - accuracy: 0.9944 - val_loss: 0.0184 - val_accuracy: 0.9955\n",
      "Epoch 29/50\n",
      "5062/5062 [==============================] - 36s 7ms/step - loss: 0.0189 - accuracy: 0.9947 - val_loss: 0.0151 - val_accuracy: 0.9957\n",
      "Epoch 30/50\n",
      "5062/5062 [==============================] - 37s 7ms/step - loss: 0.0195 - accuracy: 0.9947 - val_loss: 0.0131 - val_accuracy: 0.9962\n",
      "Epoch 31/50\n",
      "5062/5062 [==============================] - 37s 7ms/step - loss: 0.0199 - accuracy: 0.9946 - val_loss: 0.0160 - val_accuracy: 0.9953\n",
      "Epoch 32/50\n",
      "5062/5062 [==============================] - 37s 7ms/step - loss: 0.0179 - accuracy: 0.9950 - val_loss: 0.0185 - val_accuracy: 0.9955\n",
      "Epoch 33/50\n",
      "5062/5062 [==============================] - 37s 7ms/step - loss: 0.0196 - accuracy: 0.9947 - val_loss: 0.0177 - val_accuracy: 0.9948\n",
      "Epoch 34/50\n",
      "5062/5062 [==============================] - 37s 7ms/step - loss: 0.0206 - accuracy: 0.9941 - val_loss: 0.0228 - val_accuracy: 0.9918\n",
      "Epoch 35/50\n",
      "5062/5062 [==============================] - 37s 7ms/step - loss: 0.0213 - accuracy: 0.9945 - val_loss: 0.0149 - val_accuracy: 0.9959\n",
      "Epoch 36/50\n",
      "5062/5062 [==============================] - 37s 7ms/step - loss: 0.0183 - accuracy: 0.9950 - val_loss: 0.0139 - val_accuracy: 0.9961\n",
      "Epoch 37/50\n",
      "5062/5062 [==============================] - 37s 7ms/step - loss: 0.0193 - accuracy: 0.9947 - val_loss: 0.0212 - val_accuracy: 0.9936\n",
      "Epoch 38/50\n",
      "5062/5062 [==============================] - 37s 7ms/step - loss: 0.0216 - accuracy: 0.9944 - val_loss: 0.0160 - val_accuracy: 0.9956\n",
      "Epoch 39/50\n",
      "5062/5062 [==============================] - 37s 7ms/step - loss: 0.0203 - accuracy: 0.9948 - val_loss: 0.0184 - val_accuracy: 0.9956\n",
      "Epoch 40/50\n",
      "5062/5062 [==============================] - 37s 7ms/step - loss: 0.0166 - accuracy: 0.9954 - val_loss: 0.0150 - val_accuracy: 0.9963\n",
      "Epoch 41/50\n",
      "5062/5062 [==============================] - 37s 7ms/step - loss: 0.0194 - accuracy: 0.9950 - val_loss: 0.0190 - val_accuracy: 0.9951\n",
      "Epoch 42/50\n",
      "5062/5062 [==============================] - 37s 7ms/step - loss: 0.0186 - accuracy: 0.9951 - val_loss: 0.0192 - val_accuracy: 0.9948\n",
      "Epoch 43/50\n",
      "5062/5062 [==============================] - 37s 7ms/step - loss: 0.0203 - accuracy: 0.9945 - val_loss: 0.0230 - val_accuracy: 0.9941\n",
      "Epoch 44/50\n",
      "5062/5062 [==============================] - 36s 7ms/step - loss: 0.0251 - accuracy: 0.9936 - val_loss: 0.0214 - val_accuracy: 0.9961\n",
      "Epoch 45/50\n",
      "5062/5062 [==============================] - 37s 7ms/step - loss: 0.0234 - accuracy: 0.9944 - val_loss: 0.0170 - val_accuracy: 0.9961\n",
      "Epoch 46/50\n",
      "5062/5062 [==============================] - 37s 7ms/step - loss: 0.0170 - accuracy: 0.9954 - val_loss: 0.0143 - val_accuracy: 0.9962\n",
      "Epoch 47/50\n",
      "5062/5062 [==============================] - 37s 7ms/step - loss: 0.0191 - accuracy: 0.9951 - val_loss: 0.0150 - val_accuracy: 0.9964\n",
      "Epoch 48/50\n",
      "5062/5062 [==============================] - 37s 7ms/step - loss: 0.0179 - accuracy: 0.9951 - val_loss: 0.0235 - val_accuracy: 0.9937\n",
      "Epoch 49/50\n",
      "5062/5062 [==============================] - 37s 7ms/step - loss: 0.0210 - accuracy: 0.9942 - val_loss: 0.0207 - val_accuracy: 0.9935\n",
      "Epoch 50/50\n",
      "5062/5062 [==============================] - 37s 7ms/step - loss: 0.0206 - accuracy: 0.9943 - val_loss: 0.0194 - val_accuracy: 0.9955\n"
     ]
    }
   ],
   "source": [
    "history1 = model1.fit(x_train, train_label, batch_size=batch_size,epochs=epochs,verbose=1,validation_data=(valid_x, valid_label),shuffle=True)"
   ]
  },
  {
   "cell_type": "code",
   "execution_count": null,
   "id": "9v8TzdsI_ifT",
   "metadata": {
    "id": "9v8TzdsI_ifT"
   },
   "outputs": [],
   "source": [
    "# !pip install scikeras\n",
    "# from scikeras.wrappers import KerasClassifier, KerasRegressor\n",
    "# NN_clf1=KerasClassifier(build_fn=model_cnn, epochs=5, batch_size= 64)"
   ]
  },
  {
   "cell_type": "code",
   "execution_count": 44,
   "id": "d82f85c6",
   "metadata": {
    "id": "d82f85c6"
   },
   "outputs": [],
   "source": [
    "# %pip install h5py\n",
    "# model_cnn.save('C:/Users/ibmcs/Downloads/UNSW-NB15/model_cnn.h5')\n",
    "model1.save('model1.h5')"
   ]
  },
  {
   "cell_type": "code",
   "execution_count": 105,
   "id": "XR6vXsdNRyb5",
   "metadata": {
    "colab": {
     "base_uri": "https://localhost:8080/"
    },
    "id": "XR6vXsdNRyb5",
    "outputId": "feca52cf-d6e6-43a0-94a5-e5f674905831"
   },
   "outputs": [
    {
     "data": {
      "text/plain": [
       "(7, 7)"
      ]
     },
     "execution_count": 105,
     "metadata": {},
     "output_type": "execute_result"
    }
   ],
   "source": [
    "x_train.shape[1:3]"
   ]
  },
  {
   "cell_type": "code",
   "execution_count": 106,
   "id": "b5c2a111",
   "metadata": {
    "id": "b5c2a111"
   },
   "outputs": [],
   "source": [
    "#model lstm\n",
    "# def model_lstm ():\n",
    "model2 = Sequential()\n",
    "model2.add(CuDNNLSTM(16, input_shape=(x_train.shape[1:3]),  return_sequences=True))\n",
    "model2.add(Dropout(0.2))\n",
    "# Second LSTM layer\n",
    "# model.add(CuDNNLSTM(128))\n",
    "model2.add(CuDNNLSTM(32,  return_sequences=False))\n",
    "model2.add(Dropout(0.2))\n",
    "# model.add(LSTM(128, activation = \"relu\"))\n",
    "\n",
    "\n",
    "model2.add(Flatten())\n",
    "model2.add(Dense(32, activation = \"relu\"))\n",
    "model2.add(Dropout(0.5))\n",
    "model2.add(Dense(16, activation = \"relu\"))\n",
    "# The output layer\n",
    "model2.add(Dense(7, activation = \"softmax\"))\n",
    "\n",
    "  # return model2"
   ]
  },
  {
   "cell_type": "code",
   "execution_count": null,
   "id": "dac51b66",
   "metadata": {
    "id": "dac51b66"
   },
   "outputs": [],
   "source": [
    "optimizer = Adam(learning_rate=0.001)\n",
    "model2.compile(optimizer = optimizer , loss = \"categorical_crossentropy\", metrics=[\"accuracy\"])"
   ]
  },
  {
   "cell_type": "code",
   "execution_count": null,
   "id": "ca8ff7eb",
   "metadata": {
    "colab": {
     "background_save": true,
     "base_uri": "https://localhost:8080/"
    },
    "id": "ca8ff7eb",
    "outputId": "b313ad5f-7d55-4d5b-9e02-f274710a4648"
   },
   "outputs": [],
   "source": [
    "history2 = model2.fit(x_train, train_label, batch_size=batch_size,epochs=epochs,verbose=1,validation_data=(valid_x, valid_label),shuffle=True)"
   ]
  },
  {
   "cell_type": "code",
   "execution_count": null,
   "id": "YRL9IKw9AMvw",
   "metadata": {
    "id": "YRL9IKw9AMvw"
   },
   "outputs": [],
   "source": [
    "# from scikeras.wrappers import KerasClassifier, KerasRegressor\n",
    "# NN_clf2=KerasClassifier(build_fn=model_lstm, epochs=5, batch_size= 64)"
   ]
  },
  {
   "cell_type": "code",
   "execution_count": null,
   "id": "23455116",
   "metadata": {
    "colab": {
     "background_save": true
    },
    "id": "23455116"
   },
   "outputs": [],
   "source": [
    "model2.save('model2.h5')"
   ]
  },
  {
   "cell_type": "code",
   "execution_count": null,
   "id": "a6a4c0f1",
   "metadata": {
    "colab": {
     "background_save": true
    },
    "id": "a6a4c0f1"
   },
   "outputs": [],
   "source": [
    "# def model_gru():\n",
    "model3 = Sequential()\n",
    "model3.add(GRU(16, input_shape=(x_train.shape[1:3]), activation='tanh', return_sequences=True))\n",
    "\n",
    "model3.add(Dropout(0.2))\n",
    "\n",
    "\n",
    "model3.add(GRU(32, activation='tanh'))\n",
    "model3.add(Dropout(0.2))\n",
    "\n",
    "model3.add(Flatten())\n",
    "model3.add(Dense(32, activation='relu'))       \n",
    "model3.add(Dropout(0.5))\n",
    "model3.add(Dense(16, activation='relu'))\n",
    "model3.add(Dense(num_classes, activation='softmax'))\n",
    "\n",
    "  # return model3\n"
   ]
  },
  {
   "cell_type": "code",
   "execution_count": null,
   "id": "4aafabaf",
   "metadata": {
    "colab": {
     "background_save": true
    },
    "id": "4aafabaf"
   },
   "outputs": [],
   "source": [
    "optimizer = Adam(learning_rate=0.001)\n",
    "model3.compile(optimizer = optimizer , loss = \"categorical_crossentropy\", metrics=[\"accuracy\"])"
   ]
  },
  {
   "cell_type": "code",
   "execution_count": null,
   "id": "d526f1d0",
   "metadata": {
    "id": "d526f1d0"
   },
   "outputs": [],
   "source": [
    "history3 = model3.fit(x_train, train_label, batch_size=batch_size,epochs=epochs,verbose=1,validation_data=(valid_x, valid_label),shuffle=True)"
   ]
  },
  {
   "cell_type": "code",
   "execution_count": null,
   "id": "a4J2IS_4AhCe",
   "metadata": {
    "id": "a4J2IS_4AhCe"
   },
   "outputs": [],
   "source": [
    "# from scikeras.wrappers import KerasClassifier, KerasRegressor\n",
    "# NN_clf3=KerasClassifier(build_fn=model_gru, epochs=5, batch_size= 64)"
   ]
  },
  {
   "cell_type": "code",
   "execution_count": null,
   "id": "ey1D7jknD1ZH",
   "metadata": {
    "id": "ey1D7jknD1ZH"
   },
   "outputs": [],
   "source": [
    "# intermediate = [('NN1', NN_clf1), ('NN2', NN_clf2), ('NN3', NN_clf3)]\n",
    "# intermediate"
   ]
  },
  {
   "cell_type": "code",
   "execution_count": null,
   "id": "Xt8tSj6mD_WO",
   "metadata": {
    "colab": {
     "base_uri": "https://localhost:8080/"
    },
    "id": "Xt8tSj6mD_WO",
    "outputId": "5366ddc9-6b61-46fb-ced1-22e9620f2570"
   },
   "outputs": [],
   "source": [
    "# from sklearn.ensemble import StackingClassifier\n",
    "# from sklearn.neural_network import MLPClassifier\n",
    "# clf = StackingClassifier(estimators=intermediate, final_estimator=MLPClassifier())\n",
    "# train_label.reshape(-1)\n",
    "# train_label.shape\n",
    "# clf.fit(x_train, train_label)"
   ]
  },
  {
   "cell_type": "code",
   "execution_count": null,
   "id": "9a48dc66",
   "metadata": {
    "id": "9a48dc66"
   },
   "outputs": [],
   "source": [
    "model3.save('model3.h5')"
   ]
  },
  {
   "cell_type": "code",
   "execution_count": 45,
   "id": "fb10efd2",
   "metadata": {
    "colab": {
     "base_uri": "https://localhost:8080/",
     "height": 295
    },
    "id": "fb10efd2",
    "outputId": "b4674f81-0775-490d-b8ac-512fe7d1f402"
   },
   "outputs": [
    {
     "data": {
      "image/png": "[encoded data removed]",
      "text/plain": [
       "<Figure size 432x288 with 1 Axes>"
      ]
     },
     "metadata": {
      "needs_background": "light"
     },
     "output_type": "display_data"
    }
   ],
   "source": [
    "import seaborn as sns\n",
    "import matplotlib.pyplot as plt\n",
    "epochs = range(1,50)\n",
    "plt.plot(history1.history['val_accuracy'], color='r', label=\"validation accuracy\")\n",
    "plt.plot(history1.history['accuracy'], color='b', label=\"training accuracy\")\n",
    "plt.title('Training and Validation Accuracy LSTM')\n",
    "plt.xlabel('Epochs')\n",
    "plt.ylabel('Accuracy')\n",
    "plt.legend()\n",
    "plt.show()"
   ]
  },
  {
   "cell_type": "code",
   "execution_count": 46,
   "id": "82280369",
   "metadata": {
    "colab": {
     "base_uri": "https://localhost:8080/",
     "height": 295
    },
    "id": "82280369",
    "outputId": "2d0e95fc-38e6-4ce8-8e18-ccc41864b6a1"
   },
   "outputs": [
    {
     "data": {
      "image/png": "[encoded data removed]",
      "text/plain": [
       "<Figure size 432x288 with 1 Axes>"
      ]
     },
     "metadata": {
      "needs_background": "light"
     },
     "output_type": "display_data"
    }
   ],
   "source": [
    "epochs = range(1,50)\n",
    "plt.plot(history1.history['val_loss'], color='r', label=\"validation loss\")\n",
    "plt.plot(history1.history['loss'], color='b', label=\"training loss\")\n",
    "plt.title('Training and Validation loss LSTM')\n",
    "plt.xlabel('Epochs')\n",
    "plt.ylabel('Loss')\n",
    "plt.legend()\n",
    "plt.show()"
   ]
  },
  {
   "cell_type": "code",
   "execution_count": 47,
   "id": "96948fb2",
   "metadata": {
    "colab": {
     "base_uri": "https://localhost:8080/",
     "height": 583
    },
    "id": "96948fb2",
    "outputId": "f7615c71-a426-48c6-9a75-a4df89be826a"
   },
   "outputs": [
    {
     "data": {
      "image/png": "[encoded data removed]",
      "text/plain": [
       "<Figure size 648x648 with 2 Axes>"
      ]
     },
     "metadata": {
      "needs_background": "light"
     },
     "output_type": "display_data"
    }
   ],
   "source": [
    "import seaborn as sns\n",
    "from sklearn.metrics import confusion_matrix\n",
    "# Predict the values from the validation dataset\n",
    "Y_pred = model1.predict(valid_x)\n",
    "# Convert predictions classes to one hot vectors \n",
    "Y_pred_classes = np.argmax(Y_pred,axis = 1) \n",
    "# Convert validation observations to one hot vectors\n",
    "Y_true = np.argmax(valid_label,axis = 1) \n",
    "# compute the confusion matrix\n",
    "confusion_mtx = confusion_matrix(Y_true, Y_pred_classes) \n",
    "# plot the confusion matrix\n",
    "f,ax = plt.subplots(figsize=(9, 9))\n",
    "cmn = confusion_mtx.astype('float') / confusion_mtx.sum(axis=1)[:, np.newaxis]\n",
    "class_names = ['Benign', 'Bot', 'Brute-Force','Dos',\n",
    "               'DDoS', 'Portscan', 'Webattack']\n",
    "sns.heatmap(cmn, annot=True, linewidths=0.02,cmap=\"Reds\",linecolor=\"gray\", fmt= '.2f',xticklabels=class_names, yticklabels=class_names)\n",
    "plt.xlabel(\"Predicted Label\")\n",
    "plt.ylabel(\"True Label\")\n",
    "plt.title(\"Confusion Matrix Ensemble\")\n",
    "plt.show()"
   ]
  },
  {
   "cell_type": "code",
   "execution_count": 48,
   "id": "cd7adc6a",
   "metadata": {
    "colab": {
     "base_uri": "https://localhost:8080/"
    },
    "id": "cd7adc6a",
    "outputId": "74087e6f-bf23-4313-b3a3-454765b5cca5"
   },
   "outputs": [
    {
     "name": "stdout",
     "output_type": "stream",
     "text": [
      "Recall: 0.99549\n"
     ]
    }
   ],
   "source": [
    "#Recall Score\n",
    "from sklearn.metrics import recall_score\n",
    "\n",
    "recall = recall_score(Y_true, Y_pred_classes, labels=[0,1,2,3,4,5,6], average='weighted')\n",
    "\n",
    "print('Recall: %.5f' % recall)"
   ]
  },
  {
   "cell_type": "code",
   "execution_count": 49,
   "id": "9be8e05a",
   "metadata": {
    "colab": {
     "base_uri": "https://localhost:8080/"
    },
    "id": "9be8e05a",
    "outputId": "a2a180f0-9b38-4f27-ae51-05bea6e2b253"
   },
   "outputs": [
    {
     "name": "stdout",
     "output_type": "stream",
     "text": [
      "Recall: 0.99556\n"
     ]
    }
   ],
   "source": [
    "#Precision Score\n",
    "from sklearn.metrics import precision_score\n",
    "precision = precision_score(Y_true, Y_pred_classes,labels=[0,1,2,3,4,5,6], average='weighted')\n",
    "print('Recall: %.5f' % precision)"
   ]
  },
  {
   "cell_type": "code",
   "execution_count": 50,
   "id": "dba21341",
   "metadata": {
    "colab": {
     "base_uri": "https://localhost:8080/"
    },
    "id": "dba21341",
    "outputId": "0a80f594-1594-4981-d6a0-738a564b0bd7"
   },
   "outputs": [
    {
     "name": "stdout",
     "output_type": "stream",
     "text": [
      "F-Measure: 0.99549\n"
     ]
    }
   ],
   "source": [
    "from sklearn.metrics import f1_score\n",
    "f1_m = f1_score(Y_true, Y_pred_classes, labels=[0,1,2,3,4,5,6], average='weighted')\n",
    "print('F-Measure: %.5f' % f1_m)"
   ]
  },
  {
   "cell_type": "code",
   "execution_count": 51,
   "id": "0dab2f14",
   "metadata": {},
   "outputs": [
    {
     "name": "stdout",
     "output_type": "stream",
     "text": [
      "[[65972   749    29     5   334     0    26]\n",
      " [    4 34112     0     0     0     0     0]\n",
      " [    1     0 34205     0     0     0     0]\n",
      " [    5     0     0 63810     0     0     0]\n",
      " [   67     0     1     0 64543     0    27]\n",
      " [   10     0     0     9     4 26056     0]\n",
      " [    1     0     0     0   145     0 33852]]\n",
      "              precision    recall  f1-score   support\n",
      "\n",
      "           0    0.99867   0.98297   0.99076     67115\n",
      "           1    0.97851   0.99988   0.98908     34116\n",
      "           2    0.99912   0.99997   0.99955     34206\n",
      "           3    0.99978   0.99992   0.99985     63815\n",
      "           4    0.99257   0.99853   0.99554     64638\n",
      "           5    1.00000   0.99912   0.99956     26079\n",
      "           6    0.99844   0.99571   0.99707     33998\n",
      "\n",
      "    accuracy                        0.99563    323967\n",
      "   macro avg    0.99530   0.99659   0.99592    323967\n",
      "weighted avg    0.99568   0.99563   0.99563    323967\n",
      "\n"
     ]
    }
   ],
   "source": [
    "from sklearn import metrics\n",
    "# Print the confusion matrix\n",
    "Y_pred = model1.predict(x_train)\n",
    "Y_pred_classes = np.argmax(Y_pred,axis = 1)\n",
    "Y_true = np.argmax(train_label, axis=1)\n",
    "print(metrics.confusion_matrix(Y_true, Y_pred_classes))\n",
    "\n",
    "# Print the precision and recall, among other metrics\n",
    "print(metrics.classification_report(Y_true, Y_pred_classes, digits=5))"
   ]
  },
  {
   "cell_type": "code",
   "execution_count": 36,
   "id": "d388357e",
   "metadata": {
    "colab": {
     "base_uri": "https://localhost:8080/"
    },
    "id": "d388357e",
    "outputId": "20f37ea2-7aeb-40e1-875d-76aa8d4b2997"
   },
   "outputs": [
    {
     "name": "stdout",
     "output_type": "stream",
     "text": [
      "(52302,)\n",
      "(52302, 7)\n",
      "[[13260   135    13     0    84     2    12]\n",
      " [    5   484     0     0     0     0     0]\n",
      " [    6     0  3444     1     5     0     2]\n",
      " [   26     0     0 11722     0     0     0]\n",
      " [   50     0     0     0 12272     0     7]\n",
      " [    5     0     0     6     1 10215     0]\n",
      " [    7     0     0     0     1     0   537]]\n",
      "              precision    recall  f1-score   support\n",
      "\n",
      "           0     0.9926    0.9818    0.9872     13506\n",
      "           1     0.7819    0.9898    0.8736       489\n",
      "           2     0.9962    0.9960    0.9961      3458\n",
      "           3     0.9994    0.9978    0.9986     11748\n",
      "           4     0.9926    0.9954    0.9940     12329\n",
      "           5     0.9998    0.9988    0.9993     10227\n",
      "           6     0.9624    0.9853    0.9737       545\n",
      "\n",
      "    accuracy                         0.9930     52302\n",
      "   macro avg     0.9607    0.9921    0.9746     52302\n",
      "weighted avg     0.9935    0.9930    0.9931     52302\n",
      "\n"
     ]
    }
   ],
   "source": [
    "from sklearn import metrics\n",
    "predicted_classes = model1.predict(x_test)\n",
    "predicted_classes = np.argmax(np.round(predicted_classes),axis= 1)\n",
    "\n",
    "Y_test = np.argmax(y_test, axis=1)\n",
    "print(predicted_classes.shape)\n",
    "print(y_test.shape)\n",
    "\n",
    "# Print the confusion matrix\n",
    "print(metrics.confusion_matrix(Y_test, predicted_classes))\n",
    "\n",
    "# Print the precision and recall, among other metrics\n",
    "print(metrics.classification_report(Y_test, predicted_classes, digits=4))"
   ]
  },
  {
   "cell_type": "code",
   "execution_count": 53,
   "id": "36c51887",
   "metadata": {},
   "outputs": [
    {
     "name": "stdout",
     "output_type": "stream",
     "text": [
      "1635/1635 [==============================] - 9s 5ms/step - loss: 0.0648 - accuracy: 0.9883\n",
      "Test loss: 0.06484727561473846\n",
      "Test accuracy: 0.988336980342865\n"
     ]
    }
   ],
   "source": [
    "# x_test.shape, y_test.shape\n",
    "test_eval = model1.evaluate(x_test, y_test, verbose= 1 )\n",
    "print( 'Test loss:' , test_eval[0])\n",
    "print( 'Test accuracy:' , test_eval[1])"
   ]
  },
  {
   "cell_type": "code",
   "execution_count": 54,
   "id": "967eb521",
   "metadata": {},
   "outputs": [
    {
     "name": "stdout",
     "output_type": "stream",
     "text": [
      "1635/1635 [==============================] - 11s 6ms/step - loss: 0.0394 - accuracy: 0.9895\n",
      "              precision    recall  f1-score   support\n",
      "\n",
      "           0    0.98705   0.98726   0.98716     13506\n",
      "           1    0.89021   0.76278   0.82159       489\n",
      "           2    0.99855   0.99913   0.99884      3458\n",
      "           3    0.99949   0.99932   0.99940     11748\n",
      "           4    0.99017   0.99692   0.99353     12329\n",
      "           5    0.99971   0.99863   0.99917     10227\n",
      "           6    0.99072   0.97982   0.98524       545\n",
      "\n",
      "    accuracy                        0.99308     52302\n",
      "   macro avg    0.97942   0.96055   0.96928     52302\n",
      "weighted avg    0.99295   0.99308   0.99296     52302\n",
      "\n"
     ]
    }
   ],
   "source": [
    "model1.fit(x_test, y_test)\n",
    "Y_pred =model1.predict(x_test)\n",
    "predicted_classes = np.argmax(np.round(Y_pred),axis= 1)\n",
    "\n",
    "Y_test = np.argmax(y_test, axis=1)\n",
    "from sklearn.metrics import classification_report\n",
    "import matplotlib.pyplot as plt\n",
    "from sklearn.metrics import plot_confusion_matrix\n",
    "confusion_matrix(Y_test, predicted_classes) \n",
    "plt.show()\n",
    "print(classification_report(Y_test, predicted_classes, digits=5))"
   ]
  },
  {
   "cell_type": "code",
   "execution_count": 55,
   "id": "dc60e6dd",
   "metadata": {},
   "outputs": [
    {
     "data": {
      "image/png": "[encoded data removed]",
      "text/plain": [
       "<Figure size 576x576 with 2 Axes>"
      ]
     },
     "metadata": {
      "needs_background": "light"
     },
     "output_type": "display_data"
    }
   ],
   "source": [
    "import seaborn as sns\n",
    "from sklearn.metrics import confusion_matrix\n",
    "# Predict the values from the validation dataset\n",
    "Y_pred = model1.predict(x_test)\n",
    "# Convert predictions classes to one hot vectors \n",
    "Y_pred_classes = np.argmax(Y_pred,axis = 1) \n",
    "# Convert validation observations to one hot vectors\n",
    "Y_true = np.argmax(y_test,axis = 1) \n",
    "# compute the confusion matrix\n",
    "confusion_mtx = confusion_matrix(Y_true, Y_pred_classes) \n",
    "# plot the confusion matrix\n",
    "f,ax = plt.subplots(figsize=(8, 8))\n",
    "cmn = confusion_mtx.astype('float') / confusion_mtx.sum(axis=1)[:, np.newaxis]\n",
    "class_names = ['Benign', 'Bot', 'Brute-force','Dos',\n",
    "               'DDoS', 'Portscan', 'Webattack']\n",
    "sns.heatmap(cmn, annot=True, linewidths=0.02,cmap=\"Reds\",linecolor=\"gray\", fmt= '.2f',xticklabels=class_names, yticklabels=class_names)\n",
    "plt.xlabel(\"Predicted Label\")\n",
    "plt.ylabel(\"True Label\")\n",
    "plt.title(\"Confusion Matrix CNN\")\n",
    "plt.show()"
   ]
  },
  {
   "cell_type": "code",
   "execution_count": null,
   "id": "AfL_FtHYp9ah",
   "metadata": {
    "id": "AfL_FtHYp9ah"
   },
   "outputs": [],
   "source": [
    "from keras.layers.merge import concatenate\n",
    "from keras.utils.vis_utils import plot_model\n",
    "from keras.models import Model\n",
    "from tensorflow.keras.models import Model\n",
    "from keras.layers import Input\n",
    "from keras.models import load_model"
   ]
  },
  {
   "cell_type": "code",
   "execution_count": null,
   "id": "523eaad4",
   "metadata": {
    "id": "523eaad4"
   },
   "outputs": [],
   "source": [
    "dependencies = {\n",
    "    'f1_m': f1_m,\n",
    "    'recall_m': recall,\n",
    "    'precision': precision\n",
    "}"
   ]
  },
  {
   "cell_type": "code",
   "execution_count": null,
   "id": "2dfefa9e",
   "metadata": {
    "id": "2dfefa9e"
   },
   "outputs": [],
   "source": [
    "# load models from file\n",
    "def load_all_models(n_models):\n",
    "\tall_models = list()\n",
    "\tfor i in range(n_models):\n",
    "\t\t# define filename for this ensemble\n",
    "\t\tfilename = 'model' + str(i + 1) + '.h5'\n",
    "\t\t# load model from file\n",
    "\t\tmodel = load_model(filename,custom_objects=dependencies)\n",
    "\t\t# add to list of members\n",
    "\t\tall_models.append(model)\n",
    "\t\tprint('>loaded %s' % filename)\n",
    "\treturn all_models"
   ]
  },
  {
   "cell_type": "code",
   "execution_count": null,
   "id": "d02fc699",
   "metadata": {
    "colab": {
     "base_uri": "https://localhost:8080/"
    },
    "id": "d02fc699",
    "outputId": "5a4d76ba-88e7-4e67-d225-7085f0a90bc4"
   },
   "outputs": [],
   "source": [
    "n_members = 3\n",
    "members = load_all_models(n_members)\n",
    "print('Loaded %d models' % len(members))"
   ]
  },
  {
   "cell_type": "code",
   "execution_count": null,
   "id": "64OpWS2mnKeC",
   "metadata": {
    "id": "64OpWS2mnKeC"
   },
   "outputs": [],
   "source": [
    "# define stacked model from multiple member input models\n",
    "def define_stacked_model(members):\n",
    "\t# update all layers in all models to not be trainable\n",
    "\tfor i in range(len(members)):\n",
    "\t\tmodel = members[i]\n",
    "\t\tfor layer in model.layers:\n",
    "\t\t\t# make not trainable\n",
    "\t\t\tlayer.trainable = False\n",
    "\t\t\t# rename to avoid 'unique layer name' issue\n",
    "\t\t\tlayer._name = 'ensemble_' + str(i+1) + '_' + layer.name\n",
    "\t# define multi-headed input\n",
    "\tensemble_visible = [model.input for model in members]\n",
    "\t# concatenate merge output from each model\n",
    "\tensemble_outputs = [model.output for model in members]\n",
    "\tmerge = concatenate(ensemble_outputs)\n",
    "\tprint(merge.shape)\n",
    "# \tmodel.add(Flatten())\n",
    "# fit standalone model\n",
    "\tflatten = Flatten()(merge)\n",
    "\thidden = Dense(1024, activation='relu')(flatten)\n",
    "\thidden = Dense(512, activation='relu')(hidden)\n",
    "\t# print(hidden.shape)\n",
    "\toutput = Dense(7, activation='softmax')(hidden)\n",
    "\t# print(output.shape)\n",
    "\tmodel = Model(inputs=ensemble_visible, outputs=output)\n",
    "\t# print(model.shape)\n",
    "\t# plot graph of ensemble\n",
    "\tplot_model(model, show_shapes=True, to_file='model_graph.png')\n",
    "\t# compile\n",
    "\tmodel.compile(loss='categorical_crossentropy', optimizer='adam', metrics=['accuracy'])\n",
    "\treturn model"
   ]
  },
  {
   "cell_type": "code",
   "execution_count": null,
   "id": "2VPTq841CDmW",
   "metadata": {
    "colab": {
     "base_uri": "https://localhost:8080/",
     "height": 165
    },
    "id": "2VPTq841CDmW",
    "outputId": "c42a3900-d059-4458-e936-5da1f31870e3"
   },
   "outputs": [],
   "source": [
    "define_stacked_model.summary()"
   ]
  },
  {
   "cell_type": "code",
   "execution_count": null,
   "id": "xbh3pr2Pospz",
   "metadata": {
    "colab": {
     "base_uri": "https://localhost:8080/"
    },
    "id": "xbh3pr2Pospz",
    "outputId": "fa484b68-69ad-4f30-b1d6-874bb0d378ef"
   },
   "outputs": [],
   "source": [
    "# define ensemble model\n",
    "stacked_model = define_stacked_model(members)"
   ]
  },
  {
   "cell_type": "code",
   "execution_count": null,
   "id": "JA5QtTp1be7Y",
   "metadata": {
    "id": "JA5QtTp1be7Y"
   },
   "outputs": [],
   "source": [
    "aug = tf.keras.preprocessing.image.ImageDataGenerator(\n",
    "          rotation_range=10,\n",
    "          zoom_range=0.15,\n",
    "          width_shift_range=0.1,\n",
    "          height_shift_range=0.1,\n",
    "          shear_range=0.15,\n",
    "          horizontal_flip= False,\n",
    "          vertical_flip= False,\n",
    "          fill_mode=\"nearest\"\n",
    "          )"
   ]
  },
  {
   "cell_type": "code",
   "execution_count": null,
   "id": "DUrFTN0soNQ6",
   "metadata": {
    "id": "DUrFTN0soNQ6"
   },
   "outputs": [],
   "source": [
    "\n",
    "# fit a stacked model\n",
    "def fit_stacked_model(model, inputX, inputy):\n",
    "\t# prepare input data\n",
    "\tX = [inputX for _ in range(len(model.input))]\n",
    "\t# encode output data\n",
    "\t# inputy_enc = to_categorical(inputy)\n",
    "\t# fit model\n",
    "\t\n",
    "\tmodel.fit(X, inputy, epochs=50, batch_size=64, verbose=1, shuffle=True)\n",
    "#  history3 = model3.fit(x_train, train_label, batch_size=batch_size,epochs=epochs,verbose=1,validation_data=(valid_x, valid_label),shuffle=True)\n",
    "  "
   ]
  },
  {
   "cell_type": "code",
   "execution_count": null,
   "id": "tEabqqphtvZI",
   "metadata": {
    "colab": {
     "base_uri": "https://localhost:8080/",
     "height": 165
    },
    "id": "tEabqqphtvZI",
    "outputId": "dfa4084a-fb82-4700-c06d-610bc0c6ffe1"
   },
   "outputs": [],
   "source": [
    "model.summary()"
   ]
  },
  {
   "cell_type": "code",
   "execution_count": null,
   "id": "fkr_FHTjoizr",
   "metadata": {
    "colab": {
     "base_uri": "https://localhost:8080/"
    },
    "id": "fkr_FHTjoizr",
    "outputId": "de2fd394-24bc-412d-a695-a53f3c3f39ed"
   },
   "outputs": [],
   "source": [
    "# fit stacked model on test dataset\n",
    "# print(stacked_model)\n",
    "# x_train.shape, train_label.shape\n",
    "# train_label = y_train = tf.keras.utils.to_categorical(train_label)\n",
    "fit_stacked_model(stacked_model, x_train, train_label)"
   ]
  },
  {
   "cell_type": "code",
   "execution_count": null,
   "id": "0aee7dbe",
   "metadata": {
    "id": "0aee7dbe"
   },
   "outputs": [],
   "source": [
    "# make a prediction with a stacked model\n",
    "def predict_stacked_model(model, inputX):\n",
    "\t# prepare input data\n",
    "\tX = [inputX for _ in range(len(model.input))]\n",
    "\t# make prediction\n",
    "\treturn model.predict(X, verbose=1)"
   ]
  },
  {
   "cell_type": "code",
   "execution_count": null,
   "id": "Usq-tJfE3vsg",
   "metadata": {
    "colab": {
     "base_uri": "https://localhost:8080/"
    },
    "id": "Usq-tJfE3vsg",
    "outputId": "485e8e04-7228-4c59-9bf0-bca74a196d37"
   },
   "outputs": [],
   "source": [
    "from sklearn import metrics\n",
    "predicted_classes = predict_stacked_model(stacked_model, x_test)\n",
    "predicted_classes = np.argmax(np.round(predicted_classes),axis= 1)\n",
    "\n",
    "Y_test = np.argmax(y_test, axis=1)\n",
    "print(predicted_classes.shape)\n",
    "print(y_test.shape)\n",
    "\n",
    "# Print the confusion matrix\n",
    "print(metrics.confusion_matrix(Y_test, predicted_classes))\n",
    "\n",
    "# Print the precision and recall, among other metrics\n",
    "print(metrics.classification_report(Y_test, predicted_classes, digits=3))\n",
    "# make predictions and evaluate\n",
    "# import numpy as np  \n",
    "# from sklearn.metrics import accuracy_score\n",
    "\n",
    "# yhat = predict_stacked_model(stacked_model, x_test)\n",
    "# yhat = np.argmax(yhat, axis=1)\n",
    "# acc = accuracy_score(y_test, yhat)\n",
    "# print('Stacked Test Accuracy: %.3f' % acc)"
   ]
  },
  {
   "cell_type": "code",
   "execution_count": null,
   "id": "Ko7uYfg9FFSc",
   "metadata": {
    "colab": {
     "base_uri": "https://localhost:8080/",
     "height": 513
    },
    "id": "Ko7uYfg9FFSc",
    "outputId": "20b7a1d7-2150-4c29-bd24-7b8945300b22"
   },
   "outputs": [],
   "source": [
    "import seaborn as sns\n",
    "from sklearn.metrics import confusion_matrix\n",
    "# Predict the values from the validation dataset\n",
    "# Y_pred = predict_stacked_model.predict(stacked_model, x_test)\n",
    "# print(Y_pred)\n",
    "# Convert predictions classes to one hot vectors \n",
    "# Y_pred_classes = np.argmax(Y_pred,axis = 1) \n",
    "# Convert validation observations to one hot vectors\n",
    "# Y_true = np.argmax(valid_label,axis = 1) \n",
    "# compute the confusion matrix\n",
    "confusion_mtx = confusion_matrix(Y_test, predicted_classes) \n",
    "# plot the confusion matrix\n",
    "f,ax = plt.subplots(figsize=(8, 8))\n",
    "cmn = confusion_mtx.astype('float') / confusion_mtx.sum(axis=1)[:, np.newaxis]\n",
    "class_names = ['benign', 'bot', 'brute-force','Dos',\n",
    "               'DDoS', 'Portscan', 'Webattack']\n",
    "sns.heatmap(cmn, annot=True, linewidths=0.02,cmap=\"Reds\",linecolor=\"gray\", fmt= '.2f',xticklabels=class_names, yticklabels=class_names)\n",
    "plt.xlabel(\"Predicted Label\")\n",
    "plt.ylabel(\"True Label\")\n",
    "plt.title(\"Confusion Matrix\")\n",
    "plt.show()"
   ]
  },
  {
   "cell_type": "code",
   "execution_count": null,
   "id": "ef792016",
   "metadata": {
    "id": "ef792016"
   },
   "outputs": [],
   "source": [
    "from sklearn.linear_model import LogisticRegression\n",
    "optimizer = Adam(learning_rate=0.001)\n",
    "# model_cnn_lstm.compile(optimizer = optimizer , loss = \"categorical_crossentropy\", metrics=[\"accuracy\"])"
   ]
  },
  {
   "cell_type": "code",
   "execution_count": null,
   "id": "a6d47c68",
   "metadata": {
    "id": "a6d47c68"
   },
   "outputs": [],
   "source": [
    "# fit a model based on the outputs from the ensemble members\n",
    "def fit_stacked_model(members, inputX, inputy):\n",
    "\t# create dataset using ensemble\n",
    "\tstackedX = stacked_dataset(members, inputX)\n",
    "\tstackedX = stackedX.reshape((-1, 3,7))\n",
    "\t# fit standalone model\n",
    "\tmodel_cnn_lstm = Sequential()\n",
    "\tmodel_cnn_lstm.add(Conv2D(32, kernel_size=(2, 2),padding='same',input_shape=(3,7,1)))\n",
    "\tmodel_cnn_lstm.add(MaxPooling2D(pool_size=(2,2), padding  =\"same\"))\n",
    "\tmodel_cnn_lstm.add(Dropout(0.15))\n",
    "\n",
    "\tmodel_cnn_lstm.add(Conv2D(64, (2, 2), activation='relu',padding='same'))\n",
    "\tmodel_cnn_lstm.add(MaxPooling2D(pool_size=(2, 2),padding='same'))\n",
    "\tmodel_cnn_lstm.add(Dropout(0.15))\n",
    "\n",
    "\tmodel_cnn_lstm.add(Conv2D(128, (2, 2), activation='relu',padding='same'))           \n",
    "\tmodel_cnn_lstm.add(MaxPooling2D(pool_size=(2, 2),padding='same'))\n",
    "\tmodel_cnn_lstm.add(Dropout(0.15))\n",
    "\n",
    "\n",
    "\n",
    "\tmodel_cnn_lstm.add(Flatten())\n",
    "\t# model_cnn_lstm.add(Reshape((-1, 128)))\n",
    "\t#insert lstm\n",
    "\n",
    "\t# model_cnn_lstm.add(LSTM(64,return_sequences=True))\n",
    "\tmodel_cnn_lstm.add(Dense(1024, activation='relu'))        \n",
    "\tmodel_cnn_lstm.add(Dropout(0.3))\n",
    "\t# model_cnn_lstm.add(LSTM(64,return_sequences=False))\n",
    "\tmodel_cnn_lstm.add(Dense(512, activation='relu'))       \n",
    "\t# model_cnn_lstm.add(Dropout(0.5))\n",
    "\t# model_cnn_lstm.add(Dense(512, activation='relu'))\n",
    "\tmodel_cnn_lstm.add(Dense(num_classes, activation='softmax'))\n",
    "\t# model_cnn_lstm = LogisticRegression() #meta learner\n",
    "\tmodel_cnn_lstm.compile(optimizer = optimizer , loss = \"categorical_crossentropy\", metrics=[\"accuracy\"])\n",
    "\t# history3 = model3.fit(x_train, train_label, batch_size=batch_size,epochs=epochs,verbose=1,validation_data=(valid_x, valid_label),shuffle=True)\n",
    "\t# model_cnn_lstm.fit(stackedX, inputy, batch_size=64,epochs=5,verbose=1,validation_data=(valid_x, valid_label),shuffle=True)\n",
    "\tmodel_cnn_lstm.fit(stackedX, inputy,batch_size=64,epochs=5,verbose=1)\n",
    "\t# model_cnn_lstm.summary()\n",
    "\n",
    "\treturn model_cnn_lstm"
   ]
  },
  {
   "cell_type": "code",
   "execution_count": null,
   "id": "e5e3bfc9",
   "metadata": {
    "id": "e5e3bfc9",
    "outputId": "1764a0be-373b-43ec-e3d6-978ef323adb6"
   },
   "outputs": [],
   "source": [
    "# print(x_train.shape)\n",
    "# print(y_train.shape)\n",
    "model_cnn_lstm = fit_stacked_model(members, x_test,y_test)\n",
    "# model_cnn_lstm.summary()"
   ]
  },
  {
   "cell_type": "code",
   "execution_count": null,
   "id": "06d01329",
   "metadata": {
    "id": "06d01329"
   },
   "outputs": [],
   "source": [
    "# make a prediction with the stacked model\n",
    "def stacked_prediction(members, model_cnn_lstm, inputX):\n",
    "\t# create dataset using ensemble\n",
    "\tstackedX = stacked_dataset(members, inputX)\n",
    "\tstackedX =stackedX.reshape(-1,3,7)\n",
    "\t# make a prediction\n",
    "\tyhat = model_cnn_lstm.predict(stackedX)\n",
    "\treturn yhat"
   ]
  },
  {
   "cell_type": "code",
   "execution_count": null,
   "id": "04d70f7d",
   "metadata": {
    "id": "04d70f7d",
    "outputId": "508bcf40-a95b-4819-e5ce-8a6d315d1950"
   },
   "outputs": [],
   "source": [
    "# evaluate model on test set\n",
    "# print(valid_x.shape)\n",
    "yhat = stacked_prediction(members, model_cnn_lstm, valid_x)\n",
    "from sklearn.metrics import f1_score\n",
    "f1_m = f1_score(Y_true, Y_pred_classes, labels=[0,1,2,3,4,5,6], average='weighted')\n",
    "print('F-Measure: %.3f' % f1_m)"
   ]
  },
  {
   "cell_type": "code",
   "execution_count": null,
   "id": "edb99340",
   "metadata": {
    "id": "edb99340"
   },
   "outputs": [],
   "source": [
    "from sklearn.metrics import f1_score"
   ]
  },
  {
   "cell_type": "code",
   "execution_count": null,
   "id": "8d3ef030",
   "metadata": {
    "id": "8d3ef030"
   },
   "outputs": [],
   "source": [
    "i = 0\n",
    "for model in members:\n",
    "    i+=1\n",
    "    pred = model.predict_classes(X_test)\n",
    "    score = f1_score(y_test,pred)\n",
    "    print('F-Score of model {} is '.format(i),score)"
   ]
  }
 ],
 "metadata": {
  "colab": {
   "name": "stacking_ensemble.ipynb",
   "provenance": []
  },
  "kernelspec": {
   "display_name": "Python 3 (ipykernel)",
   "language": "python",
   "name": "python3"
  },
  "language_info": {
   "codemirror_mode": {
    "name": "ipython",
    "version": 3
   },
   "file_extension": ".py",
   "mimetype": "text/x-python",
   "name": "python",
   "nbconvert_exporter": "python",
   "pygments_lexer": "ipython3",
   "version": "3.9.7"
  },
  "vscode": {
   "interpreter": {
    "hash": "4deb6435e897ee4e26add0db73e7ae4bf7063bf6b1b75634cad584d079733c6f"
   }
  }
 },
 "nbformat": 4,
 "nbformat_minor": 5
}
